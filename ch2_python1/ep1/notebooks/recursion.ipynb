{
 "cells": [
  {
   "cell_type": "markdown",
   "metadata": {},
   "source": [
    "### Recursion\n",
    "\n",
    "In notebook `callback_functions.ipynb`, we see what happens when we invoke another function inside our function. What happens if we invoke our function _inside itself_? This is the concept called *recursion*. You can have a long, successful data engineering career without using recursive functions, but you may encounter them, and it's a handy skill to know.\n",
    "\n",
    "\"Recursion\" happens when something is defined in terms of itself. You've seen this in online meetings when someone shares their screen showing a window of the online meeting, showing a window of the online meeting, showing a window on the online meeting... \n",
    "\n",
    "Another example is an adage called \"Hofstadter's Law\", after the author, philosopher, and computer scientist Douglas Hofstadter. It goes like this: \"It always takes longer than you expect, even when you account for Hofstadter's Law\".\n",
    "\n",
    "When we're writing recursive function, we need to include a \"base case\" telling it when to stop. Hofstadter's Law doesn't have a base case; it goes on forever! In our online meeting example, the base case is when the image becomes too small to appear on the screen. When we're programming, recursive functions will often return a series of numbers, using 0 or 1 as the base case, as in the example below. \n",
    "\n",
    "While we must be careful that our functions do not recurse endlessly, we can use recursion to do some cool things. Let's make a function that takes a number and returns the sum of all positive integers up to that number (e.g. given 3, it will add 1 + 2 + 3 and return the value 6):\n",
    "\n",
    "```python\n",
    "def add_recursion(num):\n",
    "  if num > 0:\n",
    "    result = num + add_recursion(num - 1)\n",
    "    print(result) # this lets us keep an eye on the current sum\n",
    "  else:\n",
    "    result = 0\n",
    "  return result\n",
    "print(f\"Lets check the value for 3: {add_recursion(3)}\")\n",
    "print(f\"And the value for 6: {add_recursion(6)}\")\n",
    "```\n",
    "\n",
    "**Note:** Recursion is hard. Don't worry if this makes your head hurt a bit right now."
   ]
  },
  {
   "cell_type": "markdown",
   "metadata": {},
   "source": [
    "#### Exercise:\n",
    "\n",
    "Write a recursive function, `func3()`, that will accept an integer input and return the factorial of the number.\n",
    "\n",
    "> The factorial of a number multiples together every number between 1 and that number. "
   ]
  },
  {
   "cell_type": "markdown",
   "metadata": {},
   "source": [
    "#### Exercise:\n",
    "\n",
    "With your pair, come up with another example of recursion in real life."
   ]
  }
 ],
 "metadata": {
  "kernelspec": {
   "display_name": "Python 3.7.13 ('ch1venv': venv)",
   "language": "python",
   "name": "python3"
  },
  "language_info": {
   "name": "python",
   "version": "3.7.13"
  },
  "orig_nbformat": 4,
  "vscode": {
   "interpreter": {
    "hash": "fa8c7aa075c19ce72a1c451928df8560ecf5abbe3bdddc8c62f61df80381fa28"
   }
  }
 },
 "nbformat": 4,
 "nbformat_minor": 2
}
