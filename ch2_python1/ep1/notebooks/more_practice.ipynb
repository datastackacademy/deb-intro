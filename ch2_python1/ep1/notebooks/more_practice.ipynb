{
 "cells": [
  {
   "cell_type": "markdown",
   "metadata": {},
   "source": [
    "## Challenges Exercises"
   ]
  },
  {
   "cell_type": "markdown",
   "metadata": {},
   "source": [
    "### Children's Song\n",
    "\n",
    "When you were a kid, did you ever sing that weird nonsense song \"There Was an Old Lady Who Swallowed a Fly\"?. She swallows a fly, then a bird to catch the fly, then a cat to catch the bird...every verse, another animal is added. See if you can write a recursive function to print out the song!\n",
    "\n",
    "- Have your user pass in a list, or use `*args` to pass in an arbitrary number of animals.\n",
    "- For an example of the song, check out [the wikipedia page about it](https://en.wikipedia.org/wiki/There_Was_an_Old_Lady_Who_Swallowed_a_Fly).\n",
    "\n",
    "\n"
   ]
  },
  {
   "cell_type": "markdown",
   "metadata": {},
   "source": [
    "### Wheel of Fortune\n",
    "\n",
    "There used to be a game show where contestants would spin a dial on a pie chart, and whatever segment of the chart the dial landed on was the prize contestant got. We'll make a virtual wheel, but ours will use weighted probability.\n",
    "> 'Weighted probability' means that among randomly selected choices, some outcomes are more likely than others.\n",
    "\n",
    "We're going to use Python's built-in `random.choices()` method. It takes a list of choices and a list of weights for each choice, and returns a randomly selected choice. The syntax looks like this:\n"
   ]
  },
  {
   "cell_type": "markdown",
   "metadata": {},
   "source": [
    "import random\n",
    "\n",
    "**random_choice** = random.choices(\n",
    "  **choice_list**, weights=**weight_list**)\n",
    "\n",
    "Notice that you'll need to import the `random` module at the top of your code."
   ]
  },
  {
   "cell_type": "markdown",
   "metadata": {},
   "source": [
    "\n",
    "Here's the dictionary to use for this challenge, with prizes as keys and weights as values:"
   ]
  },
  {
   "cell_type": "code",
   "execution_count": null,
   "metadata": {},
   "outputs": [],
   "source": [
    "prize_dict = {\"motorcycle\": 1, \"$1,000\": 3, \"$50\": 6, \"candy\": 7}"
   ]
  },
  {
   "cell_type": "markdown",
   "metadata": {},
   "source": [
    "Instuctions:\n",
    "- Write a function that will take a dictionary as an argument, and return a list of the keys.\n",
    "- Write a function that will take a dictionary as an argument, and return a list of the values.\n",
    "- Using your functions, use the `prize_dict` dictionary to create a list of the keys, and a list of the values, and pass these in to `random.choices()`.\n",
    "- `random.choices()` returns a list, and we want a string. Print the first (and only) value in the list returned by `random.choices()`.\n",
    "- Call your code several times, and see your prizes!\n",
    "\n",
    "Bonus: \n",
    "- Write a single function that takes a dictionary, and return a tuple containing a list of the keys, and a list of the values.\n",
    "- Write a function that will sum all the values in the `prize_dict` dictionary, and return a string saying the percent likelyhood of each key, like this:\n",
    "\"candy is 41% likely\"\n",
    "> The percent is the weight of that key divided by the sum of the weights\n",
    "- Use the [matplotlib Python library](https://matplotlib.org/stable/gallery/pie_and_polar_charts/pie_features.html) to create a visual of what this pie chart would look like. "
   ]
  },
  {
   "cell_type": "markdown",
   "metadata": {},
   "source": [
    "### Monty Hall\n",
    "\n",
    "This challenge is also based on a game show, which has become the basis of a classic thought puzzle called the [Monty Hall problem](https://en.wikipedia.org/wiki/Monty_Hall_problem). The rules of the game show work like this:\n",
    "- The contestant can choose from one of three doors. Behind two of the doors are goats, and behind one of the doors is a suitcase of money.\n",
    "- Once the contestant chooses a door, _one of the other doors_, one containing a goat, is opened.\n",
    "- The contestant can then decide to stay with their choice, or switch to the other closed door. Whatever door they pick is the prize they get.\n",
    "\n",
    "Recreate this game in code! You'll need to import the `random` module we used above, and to allow for user input."
   ]
  }
 ],
 "metadata": {
  "kernelspec": {
   "display_name": "Python 3.7.13 ('ch1venv': venv)",
   "language": "python",
   "name": "python3"
  },
  "language_info": {
   "name": "python",
   "version": "3.7.13"
  },
  "orig_nbformat": 4,
  "vscode": {
   "interpreter": {
    "hash": "fa8c7aa075c19ce72a1c451928df8560ecf5abbe3bdddc8c62f61df80381fa28"
   }
  }
 },
 "nbformat": 4,
 "nbformat_minor": 2
}
