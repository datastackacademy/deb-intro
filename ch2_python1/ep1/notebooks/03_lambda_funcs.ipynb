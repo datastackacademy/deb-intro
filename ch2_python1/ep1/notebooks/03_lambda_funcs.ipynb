{
 "cells": [
  {
   "cell_type": "markdown",
   "metadata": {},
   "source": [
    "### Lambda Functions\n",
    "\n",
    "An important type of function in Python is the *lambda* function. These are small functions that are declared inline, without the keyword `def`. They're useful when you need to perform a simple operation once, and they can make your code more concise than writing a full function definition.\n",
    "\n",
    "Lambda functions are structured like this:\n",
    "\n",
    "lambda _parameter_ : _return_value_\n",
    "\n",
    "Here's an example:\n"
   ]
  },
  {
   "cell_type": "code",
   "execution_count": null,
   "metadata": {},
   "outputs": [],
   "source": [
    "lambda name : f\"hello, {name}\""
   ]
  },
  {
   "cell_type": "markdown",
   "metadata": {},
   "source": [
    "The terms \"lambda function\" and \"anonymous function\" are often used interchangeably. What does it mean to be an anonymous function? It simply means it does not have to be bound to an identifier like the functions we have seen up to this point. The function above is anonymous; if you want to use it, you have to invoke it immediately, like this:"
   ]
  },
  {
   "cell_type": "code",
   "execution_count": null,
   "metadata": {},
   "outputs": [],
   "source": [
    "(lambda name : f\"hello, {name}\")(\"Jarret\")"
   ]
  },
  {
   "cell_type": "markdown",
   "metadata": {},
   "source": [
    "Notice that the lambda function is wrapped in parenthesis, follow by the argument in parenthesis.\n",
    "\n",
    "Lambda functions can have any number of inputs but only one expression following the `:`, like in the example below."
   ]
  },
  {
   "cell_type": "code",
   "execution_count": null,
   "metadata": {},
   "outputs": [],
   "source": [
    "lambda a, b: a * b\n",
    "\n",
    "# call it immediately\n",
    "(lambda a, b: a * b)(3, 5)\n"
   ]
  },
  {
   "cell_type": "code",
   "execution_count": null,
   "metadata": {},
   "outputs": [],
   "source": [
    "# same as above, but passing in different arguments\n",
    "(lambda a, b: a * b)(4, -2)"
   ]
  },
  {
   "cell_type": "markdown",
   "metadata": {},
   "source": [
    "#### Exercises: \n",
    "\n",
    "- Write a lambda function that takes two strings as arguments, and uses them in a sentence. Invoke it immediately.\n",
    "\n",
    "- Write a lambda function that takes two numbers as arguments, and adds them together. Invoke it immediately."
   ]
  },
  {
   "cell_type": "markdown",
   "metadata": {},
   "source": [
    "Often you will want to assign a name to a lambda function, so it can be used later. Let's make a very simple lambda function that will double a number, and give it a name, then call it using that name and passing in arguments:\n"
   ]
  },
  {
   "cell_type": "code",
   "execution_count": null,
   "metadata": {},
   "outputs": [],
   "source": [
    "dubs = lambda a: 2 * a\n",
    "print(dubs(2))\n",
    "print(dubs(5))"
   ]
  },
  {
   "cell_type": "markdown",
   "metadata": {},
   "source": [
    "That's the equivalent of writing it like this:"
   ]
  },
  {
   "cell_type": "code",
   "execution_count": null,
   "metadata": {},
   "outputs": [],
   "source": [
    "def dubs(a):\n",
    "    return 2 * a"
   ]
  },
  {
   "cell_type": "markdown",
   "metadata": {},
   "source": [
    "\n",
    "Named `lambda` functions are great for declaring simple (one line) functions and using them over and over again.\n",
    "> Note: sometimes named lambda functions are still referred to as anonymous functions.  Don't let this confuse you!"
   ]
  },
  {
   "cell_type": "markdown",
   "metadata": {},
   "source": [
    "\n",
    "#### Exercise:\n",
    "\n",
    "- Create a named lambda function that returns a number to its second power. Call it twice with different arguments.\n",
    "\n",
    "- Create a lambda function that returns a number to its third power. Call it twice with different arguments."
   ]
  },
  {
   "cell_type": "markdown",
   "metadata": {},
   "source": [
    "\n",
    "As we saw above, the lambda functions we wrote could simply have been a regular function that is defined separately in a block. So, why use them? The real utility of anonymous lambda functions is easier to see when they're used inside other functions. Let's create a simple function that will multiply by an unknown number, then use that function to build our doubling function as well as a tripling function:"
   ]
  },
  {
   "cell_type": "code",
   "execution_count": null,
   "metadata": {},
   "outputs": [],
   "source": [
    "def scale_by_num(num):\n",
    "    return lambda a: num*a\n",
    "\n",
    "dubs = scale_by_num(2)\n",
    "print(dubs(5))\n",
    "\n",
    "trips = scale_by_num(3)\n",
    "print(trips(5))"
   ]
  },
  {
   "cell_type": "markdown",
   "metadata": {},
   "source": [
    "#### Exercise:\n",
    "\n",
    "- Use the `scale_by_num()` function above to make a function called `quads`, and call it.\n",
    "\n",
    "- Write a function definition that takes two numbers as arguments. In the body of the function, add the two numbers together and save the result in a variable called `summed`. Return a lambda function that takes a single number as an argument, and multiplies `summed` by that. Call your function twice with different arguments."
   ]
  },
  {
   "cell_type": "markdown",
   "metadata": {},
   "source": [
    "You'll often see lambda functions used with the built-in Python functions `map()`, `filter()`, and `reduce()`, which we'll get to later."
   ]
  },
  {
   "cell_type": "markdown",
   "metadata": {},
   "source": [
    "### Further Reading:\n",
    "\n",
    "- [Real Python article on lambda functions](https://realpython.com/python-lambda/)"
   ]
  }
 ],
 "metadata": {
  "kernelspec": {
   "display_name": "Python 3.8.10 64-bit",
   "language": "python",
   "name": "python3"
  },
  "language_info": {
   "codemirror_mode": {
    "name": "ipython",
    "version": 3
   },
   "file_extension": ".py",
   "mimetype": "text/x-python",
   "name": "python",
   "nbconvert_exporter": "python",
   "pygments_lexer": "ipython3",
   "version": "3.8.10"
  },
  "orig_nbformat": 4,
  "vscode": {
   "interpreter": {
    "hash": "916dbcbb3f70747c44a77c7bcd40155683ae19c65e1c03b4aa3499c5328201f1"
   }
  }
 },
 "nbformat": 4,
 "nbformat_minor": 2
}
