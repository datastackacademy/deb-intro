{
 "cells": [
  {
   "cell_type": "markdown",
   "metadata": {},
   "source": [
    "## args and kwargs\n",
    "So far, we've only looked at functions that have positional parameters, like this:\n"
   ]
  },
  {
   "cell_type": "code",
   "execution_count": null,
   "metadata": {},
   "outputs": [],
   "source": [
    "def print_args(parameter1, parameter2):\n",
    "    return f\"The arg passed to parameter1 is {parameter1}, and the arg passed to parameter2 is {parameter2}\""
   ]
  },
  {
   "cell_type": "markdown",
   "metadata": {},
   "source": [
    "\n",
    "Sometimes you will see function definitions in Python that take one or both of the following arguments: <b>*args</b> and <b>**kwargs</b>. When you first encounter these arguments, they can be somewhat confusing. Let's take a look to understand what these arguments are and how to use them.\n",
    "\n",
    "The main use for <b>*args</b> and <b>**kwargs</b> is that they allow us to pass a *varying number* of arguments to a function. You often see a function definition that looks like this:\n",
    "If we wanted to take two arguments and add them together, we could write a function like this:\n"
   ]
  },
  {
   "cell_type": "code",
   "execution_count": null,
   "metadata": {},
   "outputs": [],
   "source": [
    "def my_sum(a, b):\n",
    "    return a + b"
   ]
  },
  {
   "cell_type": "markdown",
   "metadata": {},
   "source": [
    "\n",
    "This function returns the sum of exactly two numbers. If you try to pass it more or less than two arguments, Python will return an error. But what if we don't know how many numbers we'll want to add together? This is where <b>*args</b> comes in.\n",
    "\n",
    "<b>*args</b> allows a user to pass in a varying number of arguments. Check it out:"
   ]
  },
  {
   "cell_type": "code",
   "execution_count": null,
   "metadata": {},
   "outputs": [],
   "source": [
    "def sum_many(*args):\n",
    "    total = 0\n",
    "    for arg in args:\n",
    "        total += arg\n",
    "    return total"
   ]
  },
  {
   "cell_type": "code",
   "execution_count": null,
   "metadata": {},
   "outputs": [],
   "source": [
    "sum_many(1, 2, 3, 4)"
   ]
  },
  {
   "cell_type": "code",
   "execution_count": null,
   "metadata": {},
   "outputs": [],
   "source": [
    "sum_many(1)"
   ]
  },
  {
   "cell_type": "markdown",
   "metadata": {},
   "source": [
    "\n",
    "When arguments are passed in to `*args`, they're wrapped in a tuple. You can get an item from the tuple, just like you would with any iterable:\n"
   ]
  },
  {
   "cell_type": "code",
   "execution_count": null,
   "metadata": {},
   "outputs": [],
   "source": [
    "def second_and_last(*args):\n",
    "    print(args[1])\n",
    "    print(args[-1])\n",
    "\n",
    "second_and_last(1,2,3,4,5)"
   ]
  },
  {
   "cell_type": "markdown",
   "metadata": {},
   "source": [
    "You can also loop through the tuple of arguments, like we did above with the `sum_many()` function:"
   ]
  },
  {
   "cell_type": "code",
   "execution_count": null,
   "metadata": {},
   "outputs": [],
   "source": [
    "def print_all(*args):\n",
    "    for arg in args:\n",
    "        print(arg)\n",
    "print_all(None, True, \"cake\", 2, 1)"
   ]
  },
  {
   "cell_type": "markdown",
   "metadata": {},
   "source": [
    "#### Exercise:\n",
    "\n",
    "Write a function that takes an arbitrary number of arguments, and prints \"Hello\" followed by the arguement for each of them."
   ]
  },
  {
   "cell_type": "markdown",
   "metadata": {},
   "source": [
    "#### Exercise:\n",
    "\n",
    "Write a function that takes an arbitrary number of arguments, and returns the product of all of them multiplied together."
   ]
  },
  {
   "cell_type": "markdown",
   "metadata": {},
   "source": [
    "\n",
    "This is very useful, but <b>*args</b> has a limitation: we can only access the arguments via numerical index. But what if we want to be able to access the arguments via a name label? That is where <b>**kwargs</b> comes in. `kwargs` stands for 'keyword arguments'.\n",
    " \n",
    "<b>**kwargs</b> creates a dictionary, using the name of the parameters as keys, and the arguments passed in as values. We can access access the elements with a key, like so:\n"
   ]
  },
  {
   "cell_type": "code",
   "execution_count": null,
   "metadata": {},
   "outputs": [],
   "source": [
    "def middle_namer(**fullname):\n",
    "    print(f\"My middle name is {fullname['middle']}\")\n",
    "\n",
    "middle_namer(first=\"Joe\", middle=\"Don\", last=\"Baker\")"
   ]
  },
  {
   "cell_type": "markdown",
   "metadata": {},
   "source": [
    "#### Exercise:\n",
    "\n",
    "Call the `middle_namer()` function, but use your own name."
   ]
  },
  {
   "cell_type": "markdown",
   "metadata": {},
   "source": [
    "#### Exercise:\n",
    "\n",
    "See what happens when you call `middle_namer()` without a `middle=` argument. How about without a `last=` argument?"
   ]
  },
  {
   "cell_type": "markdown",
   "metadata": {},
   "source": [
    "### Default Arguments\n",
    "\n",
    "One of the most useful things about `**kwargs` is that you can include default arguments in the function definition. This is great for when your function expects a particular value, like in the `middle_namer()` example, but you can't count on your user to pass it in. You include the name of the keyword argument and its value in the function definition, like this:"
   ]
  },
  {
   "cell_type": "code",
   "execution_count": null,
   "metadata": {},
   "outputs": [],
   "source": [
    "def say_hi(name=\"friend\"):\n",
    "    return(f\"hi, {name}!\")"
   ]
  },
  {
   "cell_type": "markdown",
   "metadata": {},
   "source": [
    "#### Exercise:\n",
    "\n",
    "Write a function that accepts keyword arguments for a movie title, director, and year, and prints both the argument names and their values."
   ]
  },
  {
   "cell_type": "markdown",
   "metadata": {},
   "source": [
    "If the user passes in a value for the keyword argument when they call the function, that value will be used. Otherwise, the default value will be used.\n",
    "\n",
    "#### Exercise:\n",
    "\n",
    "To see this in action, call `say_hi()` without any arguments. Then, pass in an argument for `name`."
   ]
  },
  {
   "cell_type": "markdown",
   "metadata": {},
   "source": [
    "\n",
    "Finally, we can combine <b>*args</b> and <b>**kwargs</b>. This lets us write functions that accept a changeable number of both positional and named arguments:\n"
   ]
  },
  {
   "cell_type": "code",
   "execution_count": null,
   "metadata": {},
   "outputs": [],
   "source": [
    "def combine_print_all_middle_name(*args, **kwargs):\n",
    "    print_all(*args)\n",
    "    middle_namer(**kwargs)\n",
    "\n",
    "combine_print_all_middle_name(1,2,4, 5, last=\"Bacon\", middle=\"Aaron\")"
   ]
  },
  {
   "cell_type": "markdown",
   "metadata": {},
   "source": [
    "**Important notes:**\n",
    "- `args` and `kwargs` are used by convention; you can actually call them whatever you like, as long as the parameter for a varying number of arguments has one asterisk (`*`) before it, and the parameter for keyword arguments has two (`**`).\n",
    "- Parameters always have to be in this order:\n",
    "\n",
    "`(positional_args, *args, **kwargs)`\n",
    "\n",
    "...otherwise you'll get an error."
   ]
  },
  {
   "cell_type": "markdown",
   "metadata": {},
   "source": [
    "# Exercise:\n",
    "\n",
    "Write and call a function that uses positional args, **kwargs, and *args."
   ]
  },
  {
   "cell_type": "markdown",
   "metadata": {},
   "source": [
    "[The Python docs](https://docs.python.org/3/tutorial/controlflow.html#default-argument-values) on this topic include more detail. (They also use examples from the Monty Python television show, a nod to where Python got its name!)"
   ]
  }
 ],
 "metadata": {
  "kernelspec": {
   "display_name": "Python 3.7.13 ('ch1venv': venv)",
   "language": "python",
   "name": "python3"
  },
  "language_info": {
   "codemirror_mode": {
    "name": "ipython",
    "version": 3
   },
   "file_extension": ".py",
   "mimetype": "text/x-python",
   "name": "python",
   "nbconvert_exporter": "python",
   "pygments_lexer": "ipython3",
   "version": "3.7.13"
  },
  "orig_nbformat": 4,
  "vscode": {
   "interpreter": {
    "hash": "fa8c7aa075c19ce72a1c451928df8560ecf5abbe3bdddc8c62f61df80381fa28"
   }
  }
 },
 "nbformat": 4,
 "nbformat_minor": 2
}
