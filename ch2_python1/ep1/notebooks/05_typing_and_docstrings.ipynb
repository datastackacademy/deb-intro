{
 "cells": [
  {
   "cell_type": "markdown",
   "metadata": {},
   "source": [
    "# Python Docstrings and Type Hints"
   ]
  },
  {
   "cell_type": "markdown",
   "metadata": {},
   "source": [
    "## Docstrings\n",
    "Docstrings are lines of text that explain to your user what a function does, what kind of arguments it's expecting, and what the return value will be. They can be a single line for functions that are self-explanatory, or multiple lines when a function is more complicated. Docstrings go after the function definition, but before the body of the function.\n",
    ">Docstrings are also used in modules and classes, which we'll get to later in this chapter.\n",
    "Let's look at an example:"
   ]
  },
  {
   "cell_type": "code",
   "execution_count": null,
   "metadata": {},
   "outputs": [],
   "source": [
    "def new_selters(seltzer_flavors):\n",
    "    formatted_flavors = \"\"\n",
    "    for flavor_index in range(len(seltzer_flavors) - 1):\n",
    "        formatted_flavors += f\"{seltzer_flavors[flavor_index]}, \"\n",
    "    formatted_flavors += f\"and {seltzer_flavors[-1]}.\"\n",
    "    return f\"The new flavors are {formatted_flavors}\""
   ]
  },
  {
   "cell_type": "markdown",
   "metadata": {},
   "source": [
    "You can infer from the `for` loop that this function formats the values in an iterable, like a tuple or a list. You can also see from the f-string in the return value that it returns a string. Adding a docstring takes out the guess work. Let's add one:"
   ]
  },
  {
   "cell_type": "code",
   "execution_count": null,
   "metadata": {},
   "outputs": [],
   "source": [
    "def new_selters(seltzer_flavors):\n",
    "    \"\"\" Puts each value of an iterable into sentence.\n",
    "\n",
    "    Args:\n",
    "        seltzer_flavors (list): a list of new flavors, as strings\n",
    "\n",
    "    Returns: \n",
    "        str: each flavor formatted into a sentence\n",
    "    \"\"\"\n",
    "    formatted_flavors = \"\"\n",
    "    for flavor_index in range(len(seltzer_flavors) - 1):\n",
    "        formatted_flavors += f\"{seltzer_flavors[flavor_index]}, \"\n",
    "    formatted_flavors += f\"and {seltzer_flavors[-1]}.\"\n",
    "    return f\"The new flavors are {formatted_flavors}\""
   ]
  },
  {
   "cell_type": "markdown",
   "metadata": {},
   "source": [
    "This is the typical format: three quotes and a short explanation of the function's purpose, followed by the expected arguments, closed with three quotes. Now our user has the information they need to easily use the function:"
   ]
  },
  {
   "cell_type": "code",
   "execution_count": null,
   "metadata": {},
   "outputs": [],
   "source": [
    "new_flavors = [\"lobster\", \"onion\", \"buttered popcorn\"]\n",
    "\n",
    "print(new_selters(new_flavors))"
   ]
  },
  {
   "cell_type": "markdown",
   "metadata": {},
   "source": [
    "#### Exercise:\n",
    "\n",
    "- See if you can break the `new_seltzers()` function by passing the wrong type of arguments.\n",
    "\n",
    "- Write a function that takes two intergers, add them together, and returns a string stating the sum. Write a docstring for your function."
   ]
  },
  {
   "cell_type": "markdown",
   "metadata": {},
   "source": [
    "## Type Hints\n",
    "Another way make your code clearer to your users is with type hints. Type hints are a kind of shorthand used in a function definition to specify what kind of data types the arguments should be, and what kind the data type the return value will be. They go like this:"
   ]
  },
  {
   "cell_type": "markdown",
   "metadata": {},
   "source": [
    "def _somefunc_(_arg_: _data type_) -> _return value type_:\n"
   ]
  },
  {
   "cell_type": "markdown",
   "metadata": {},
   "source": [
    "You learned about data types earlier in this chapter, but refer to this [handy cheat sheet](https://mypy.readthedocs.io/en/stable/builtin_types.html) if you'd like to see a list.\n",
    "\n",
    ">Note: type hints aren't enforced by Python. If your user passes in the wrong data type for an argument, the code will run (or throw an error) just like it would if the type hints weren't there.\n",
    "\n",
    "Look at the function below to see an example:"
   ]
  },
  {
   "cell_type": "code",
   "execution_count": null,
   "metadata": {},
   "outputs": [],
   "source": [
    "def lucky_num(name: str, number: int) -> str:\n",
    "    return f\"Hi, {name}, today's lucky number is {number}\"\n"
   ]
  },
  {
   "cell_type": "markdown",
   "metadata": {},
   "source": [
    "Notice that if you call the function and passing two strings, the code runs just fine."
   ]
  },
  {
   "cell_type": "markdown",
   "metadata": {},
   "source": [
    "#### Exercise:\n",
    "\n",
    "- Write a function that takes two floats, adds them together, and returns a string stating the sum. Use type hints."
   ]
  },
  {
   "cell_type": "markdown",
   "metadata": {},
   "source": [
    "In addition to docstrings and type hints, you can always use comments throughout your code if you think it needs more explanation."
   ]
  },
  {
   "cell_type": "markdown",
   "metadata": {},
   "source": [
    "#### Further Reading:\n",
    "- [The Python Docs on Docstrings](https://peps.python.org/pep-0257/)\n",
    "- [The Python Docs on Variable Annotation](https://peps.python.org/pep-0526/)"
   ]
  }
 ],
 "metadata": {
  "kernelspec": {
   "display_name": "Python 3.8.10 64-bit",
   "language": "python",
   "name": "python3"
  },
  "language_info": {
   "codemirror_mode": {
    "name": "ipython",
    "version": 3
   },
   "file_extension": ".py",
   "mimetype": "text/x-python",
   "name": "python",
   "nbconvert_exporter": "python",
   "pygments_lexer": "ipython3",
   "version": "3.8.10"
  },
  "orig_nbformat": 4,
  "vscode": {
   "interpreter": {
    "hash": "916dbcbb3f70747c44a77c7bcd40155683ae19c65e1c03b4aa3499c5328201f1"
   }
  }
 },
 "nbformat": 4,
 "nbformat_minor": 2
}
