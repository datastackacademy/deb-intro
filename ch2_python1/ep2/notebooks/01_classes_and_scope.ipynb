{
 "cells": [
  {
   "cell_type": "markdown",
   "metadata": {},
   "source": [
    "# Classes\n",
    "\n",
    "We'll start with an example of a class definition:"
   ]
  },
  {
   "cell_type": "code",
   "execution_count": null,
   "metadata": {},
   "outputs": [],
   "source": [
    "class Book:\n",
    "    def __init__(self, title, author, genre):\n",
    "        self.name = title\n",
    "        self.author = author\n",
    "        self.genre = genre"
   ]
  },
  {
   "cell_type": "markdown",
   "metadata": {},
   "source": [
    "Let's break down the parts:\n",
    "- It starts with the keyword `class`, followed by the name of the class (uppercase by convention), then a colon (`:`)\n",
    "- The `__init__()` constructor will allow us to initialize the class attributes when creating an object.\n",
    "\n",
    "    You might notice the **self** argument in the input to the `__init__()` constructor function. The first argument to the constructor always refers to the object itself. We could call it anything, but by convention it is almost always called **self**. Because **self** refers to the object being created, we can use it to set the attributes of the new Book object we are creating.\n",
    "\n",
    "    Just like any function, the parenthesis following the `__init__()` contain the parameters that the class needs values for when an object is being created. The user doesn't pass anything for **self**. \n",
    "\n",
    "    The arguments that are passes for the parameters after **self** are assigned as attributes for that instance of the class. `self.some_argument` is the object's way of saying, \"this is my title. This is my author\". "
   ]
  },
  {
   "cell_type": "markdown",
   "metadata": {},
   "source": [
    "If we make an instance of the Book class, we can see this in action:"
   ]
  },
  {
   "cell_type": "code",
   "execution_count": null,
   "metadata": {},
   "outputs": [],
   "source": [
    "runaway_ralph = Book(\"Runaway Ralph\", \"Beverly Cleary\", \"Children's Novel\")"
   ]
  },
  {
   "cell_type": "markdown",
   "metadata": {},
   "source": [
    "We give the instance a name, then call the name of the class (`Book`), followed by the arguments in the same order as the parameters. Notice that there's no argument for `self`, because `self` automatically refers to the `runaway_ralph` object itself. In the body of the `__init__` function, that object's attributes are assigned to the arguments passed in for each parameter.\n",
    ">Note: you can call the object's attributes anything you want, but by convention they match the name of the parameter they're assigned to.\n",
    "If you want to see an object's attributes, use dot notation (the name of the object, a period, then the name of the attribute):"
   ]
  },
  {
   "cell_type": "code",
   "execution_count": null,
   "metadata": {},
   "outputs": [],
   "source": [
    "runaway_ralph.author"
   ]
  },
  {
   "cell_type": "markdown",
   "metadata": {},
   "source": [
    "#### Exercises:\n",
    "\n",
    "- Use dot notation to get the name of `runaway_ralph`'s title.\n",
    "- Do the same for genre.\n",
    "- In the Book class, change `self.title` to `self.name`, but leave the `title` parameter the same. Run the code cells above to register the change in this notebook. Now, use dot notation to get `runaway_ralph`'s title. \n",
    "- Add a parameter to the Book class called 'length', and an object attribute also called length. Rewrite the creation of the `runaway_ralph` object so that it passes an argument to this parameter. \n",
    "- Create two more instances of `Book`, and use dot notation to get their titles."
   ]
  },
  {
   "cell_type": "markdown",
   "metadata": {},
   "source": [
    "When a function is defined inside a class, it's called a method. We can define other class methods besides the `__init__()` constructor. For example, let's add a function to the Book class that prints a question asking if the user has read the book:"
   ]
  },
  {
   "cell_type": "code",
   "execution_count": null,
   "metadata": {},
   "outputs": [],
   "source": [
    "class Book:\n",
    "    def __init__(self, title, author, genre):\n",
    "        self.title = title\n",
    "        self.author = author\n",
    "        self.genre = genre\n",
    "    \n",
    "    def have_you_read(self):\n",
    "        print(f\"Have you read {self.title} by {self.author}?\")"
   ]
  },
  {
   "cell_type": "markdown",
   "metadata": {},
   "source": [
    "Note that within the f-string of the `have_you_read()` method, `self.title` and `self.author` from the class constructor are used just like any variale inside the functions you're used to writing. Once something is made into an object's attributes using `self.`, it can be accessed anywhere in the class.\n",
    ">After you add a new attribute or method to a class, you'll have to re-run the code cell where the `runaway_ralph` instance was created to register the change.\n",
    "\n",
    "To call a method, use dot notation, and remember to include the parenthesis at the end:"
   ]
  },
  {
   "cell_type": "code",
   "execution_count": null,
   "metadata": {},
   "outputs": [],
   "source": [
    "runaway_ralph.have_you_read()"
   ]
  },
  {
   "cell_type": "markdown",
   "metadata": {},
   "source": [
    "#### Exercise:\n",
    "- Add a method to the book class that returns a string saying what genre the book is in."
   ]
  },
  {
   "cell_type": "markdown",
   "metadata": {},
   "source": [
    "Once an object has been instantiated, we can access and change its attributes directly using dot notation. Simply write **object**.*attribute** = **new_value**. Let's create a new Book object, print its title, and then set the title to a new value:"
   ]
  },
  {
   "cell_type": "code",
   "execution_count": null,
   "metadata": {},
   "outputs": [],
   "source": [
    "animorphs = Book(\"The Invasion\", \"K. A. Applegate\", \"YA SciFi\")\n"
   ]
  },
  {
   "cell_type": "code",
   "execution_count": null,
   "metadata": {},
   "outputs": [],
   "source": [
    "print(animorphs.title)\n",
    "animorphs.title = \"The Visitor\"\n",
    "print(animorphs.title)"
   ]
  },
  {
   "cell_type": "markdown",
   "metadata": {},
   "source": [
    "#### Exercise:\n",
    "\n",
    "- Create a new instance of the Book class. Print its author. Then use dot notation to change the author, and print it again."
   ]
  },
  {
   "cell_type": "markdown",
   "metadata": {},
   "source": [
    "We can also use dot notation syntax to add attributes to an object that were not included in the class definition (and thus were not set by the constructor when the object was instantiated). In the example below, we add the attribute of `good` to the `animorphs` object and set it to the Boolean `True`:\n"
   ]
  },
  {
   "cell_type": "code",
   "execution_count": null,
   "metadata": {},
   "outputs": [],
   "source": [
    "animorphs.good = True\n",
    "print(animorphs.good)"
   ]
  },
  {
   "cell_type": "markdown",
   "metadata": {},
   "source": [
    "#### Exercise:\n",
    "\n",
    "- Use dot notation to give the `animorphs` object an attribute of `pages`, and set its value to an integer. Then, print it."
   ]
  },
  {
   "cell_type": "markdown",
   "metadata": {},
   "source": [
    "### Scope and Global Variables\n",
    "\n",
    "Before we talk about global variables and how to access them with in a class, we need to discuss the concept of scope.\n",
    "\n",
    "\"Scope\" means where in your code a variable can be recognized. \"Local scope\" means that a variable has been defined within a function or class, and can only be recognized within that function or class. \"Global scope\" means that a variable can be recognized (and used) anywhere in that code. An example will make this clearer. First, let's define a variable within a function and then try to access it outside of that function:"
   ]
  },
  {
   "cell_type": "code",
   "execution_count": null,
   "metadata": {},
   "outputs": [],
   "source": [
    "def total_price(num_scoops):\n",
    "    price_per_scoop = 1.5                # local variable\n",
    "    total = num_scoops * price_per_scoop # local variable\n",
    "    return(f\"The total is ${total}\")\n",
    "\n",
    "print(total_price(3))"
   ]
  },
  {
   "cell_type": "markdown",
   "metadata": {},
   "source": [
    "If you run the cell below, it will return `NameError: name 'price_per_scoop' is not defined`. This is because `price_per_scoop` is defined _locally_, within the function. It can be accessed by the other code within the function, but not outside it.\n",
    "\n",
    ">VS Code will also underline the variable in yellow, and fail to autocomplete. This is a clue that you're outside of scope."
   ]
  },
  {
   "cell_type": "code",
   "execution_count": null,
   "metadata": {},
   "outputs": [],
   "source": [
    "print(price_per_scoop)"
   ]
  },
  {
   "cell_type": "markdown",
   "metadata": {},
   "source": [
    "Moving the `price_per_scoop` to the global scope resolves this issue. To tell a function or a class to use a globally-defined variable instead of searching for it locally, use Python's built-in keyword `global`. By default python tries to use variables that are defined locally first."
   ]
  },
  {
   "cell_type": "code",
   "execution_count": null,
   "metadata": {},
   "outputs": [],
   "source": [
    "price_per_scoop = 1.5\n",
    "\n",
    "def total_price(num_scoops):\n",
    "    global price_per_scoop\n",
    "    total = num_scoops * price_per_scoop\n",
    "    return(f\"The total is ${total}\")\n",
    "\n",
    "print(total_price(3))\n",
    "print(price_per_scoop)"
   ]
  },
  {
   "cell_type": "markdown",
   "metadata": {},
   "source": [
    "You can even have your function alter a global variable, like this:"
   ]
  },
  {
   "cell_type": "code",
   "execution_count": null,
   "metadata": {},
   "outputs": [],
   "source": [
    "price_per_scoop = 1.5\n",
    "total_scoops_sold = 0\n",
    "\n",
    "def total_price(num_scoops):\n",
    "    global total_scoops_sold\n",
    "    total = num_scoops * price_per_scoop\n",
    "    total_scoops_sold += num_scoops\n",
    "    return(f\"The total is ${total}\")"
   ]
  },
  {
   "cell_type": "markdown",
   "metadata": {},
   "source": [
    "Now every time you run the `total_price()` function, the number of scoops sold is added to an ongoing tally:"
   ]
  },
  {
   "cell_type": "code",
   "execution_count": null,
   "metadata": {},
   "outputs": [],
   "source": [
    "print(f\"number of scoops sold: {total_scoops_sold}\")\n",
    "total_price(2)\n",
    "print(f\"number of scoops sold: {total_scoops_sold}\")"
   ]
  },
  {
   "cell_type": "markdown",
   "metadata": {},
   "source": [
    ">Note: be cautious when altering a global variable, especially if multiple functions access it. It can lead to errors that are difficult to debug."
   ]
  },
  {
   "cell_type": "markdown",
   "metadata": {},
   "source": [
    "Accessing global variables from within a class is similar to doing it within a function:"
   ]
  },
  {
   "cell_type": "code",
   "execution_count": null,
   "metadata": {},
   "outputs": [],
   "source": [
    "special_flavor_today = \"mango sticky rice\"\n",
    "\n",
    "class Sundae:\n",
    "    def __init__(self, topping1, topping2):\n",
    "        global special_flavor_today\n",
    "        self.flavor = special_flavor_today\n",
    "        self.topping1 = topping1\n",
    "        self.topping2 = topping2\n",
    "\n",
    "\n",
    "    def build_sundae(self):\n",
    "        print(f\"A {self.flavor} sundae with {self.topping1} and {self.topping2}, please.\")\n"
   ]
  },
  {
   "cell_type": "code",
   "execution_count": null,
   "metadata": {},
   "outputs": [],
   "source": [
    "favorite = Sundae(\"sprinkles\", \"whipped cream\")\n",
    "\n",
    "favorite.build_sundae()"
   ]
  },
  {
   "cell_type": "markdown",
   "metadata": {},
   "source": [
    "Returning to the Book class, we can use a global variable to add a feature so that each instance of the book gets a unique ID. It uses the following steps:\n",
    "- Define a sequence variable outside of the class\n",
    "- Assign the current value of this sequence to a new instance of the class in the `__init__()` method\n",
    "- Increment the sequence (globally) and move onto to the next"
   ]
  },
  {
   "cell_type": "code",
   "execution_count": null,
   "metadata": {},
   "outputs": [],
   "source": [
    "# a globally scoped sequence\n",
    "book_id_sequence = 1000\n",
    "\n",
    "class Book:\n",
    "    def __init__(self, title, author, genre):\n",
    "        # access the global variable inside a class instance\n",
    "        global book_id_sequence             # tell python to use the globally defined variable\n",
    "        self.book_id = book_id_sequence     # take the current value of id seq\n",
    "        book_id_sequence += 1               # increment the sequence globally\n",
    "        self.title = title\n",
    "        self.author = author\n",
    "        self.genre = genre\n",
    "    \n",
    "    def have_you_read(self):\n",
    "        # add printing of the book_id here\n",
    "        print(f\"Have you read {self.title} by {self.author}? (book id: {self.book_id})\")\n"
   ]
  },
  {
   "cell_type": "code",
   "execution_count": null,
   "metadata": {},
   "outputs": [],
   "source": [
    "# use a 'for' loop to create 10 books \n",
    "books = []   # empty array to contain our books\n",
    "for i in range(10):\n",
    "    title = f\"title-{i}\"\n",
    "    author = f\"author-{i}\"\n",
    "    genre = \"fiction\"\n",
    "    book = Book(title, author, genre)\n",
    "    books.append(book)\n",
    "\n",
    "# now let's take a look at our book ids\n",
    "for book in books:\n",
    "    book.have_you_read()"
   ]
  },
  {
   "cell_type": "markdown",
   "metadata": {},
   "source": [
    "#### Exercise:\n",
    "\n",
    "In a new code cell:\n",
    "- Create a global variable called `bestsellers`, assigned to an empty list.\n",
    "- Recreate the Book class. In the `__init__()`, use `global` to access `bestsellers`.\n",
    "- Give book a method that will append the title of that instance to the `bestsellers` list.\n",
    "- Create two book instances, and append them to the `bestsellers` list."
   ]
  },
  {
   "cell_type": "markdown",
   "metadata": {},
   "source": [
    "#### Further Reading\n",
    "- [Real Python article on scope](https://realpython.com/python-scope-legb-rule/)\n",
    "- [Python classes docs](https://docs.python.org/3/tutorial/classes.html)\n"
   ]
  }
 ],
 "metadata": {
  "kernelspec": {
   "display_name": "Python 3.7.13 ('ch1venv': venv)",
   "language": "python",
   "name": "python3"
  },
  "language_info": {
   "codemirror_mode": {
    "name": "ipython",
    "version": 3
   },
   "file_extension": ".py",
   "mimetype": "text/x-python",
   "name": "python",
   "nbconvert_exporter": "python",
   "pygments_lexer": "ipython3",
   "version": "3.7.13"
  },
  "orig_nbformat": 4,
  "vscode": {
   "interpreter": {
    "hash": "fa8c7aa075c19ce72a1c451928df8560ecf5abbe3bdddc8c62f61df80381fa28"
   }
  }
 },
 "nbformat": 4,
 "nbformat_minor": 2
}
