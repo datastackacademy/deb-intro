{
 "cells": [
  {
   "cell_type": "markdown",
   "metadata": {},
   "source": [
    "# Data Cleaning with Pandas\n",
    "\n",
    "An important step in the process of working with data is cleaning. In the real world, data is often very messy. As a data engineer, you will find yourself in the position of working with data that is coming in from multiple sources, and might not all be in a single standardized format. Your data might have a lot of missing values, or inconsistent values within a single column, or misplaced values, or any number of other issues. Poor quality data is hard to work with, reduces the reliability of any findings which might be based on it, and could raise regulatory and other issues. In short, there are many reasons to make your data as clean as possible before beginning to work with it.\n",
    "\n",
    "Often when you download a dataset from a data science or other website, the data has already been cleaned up. That obviously makes the data easier to work with, but it can be very misleading, because it overlooks an important part of the process that someone is responsible for. As a data engineer, you will often be the one responsible for cleaning the data.\n",
    "\n",
    "Let's take a look at one of our datasets to see the cleaning process in action. We'll look at the [aircraft data from chapter 3](../../../data/input/ch3), because it is a large dataset with a lot of columns.\n",
    "\n",
    "First, let's do our standard imports and data loading:"
   ]
  },
  {
   "cell_type": "code",
   "execution_count": 2,
   "metadata": {},
   "outputs": [],
   "source": [
    "import pandas as pd"
   ]
  },
  {
   "cell_type": "code",
   "execution_count": 17,
   "metadata": {},
   "outputs": [],
   "source": [
    "data_dir = '../../../data/input/ch3/'\n",
    "aircraft_file = data_dir + 'deb-aircrafts.csv'\n",
    "aircraft = pd.read_csv(aircraft_file, header=0)"
   ]
  },
  {
   "cell_type": "code",
   "execution_count": 3,
   "metadata": {},
   "outputs": [
    {
     "name": "stdout",
     "output_type": "stream",
     "text": [
      "  n_number serial_number mfr_mdl_code  eng_mfr_mdl  mfr_year registrant_type  \\\n",
      "0     N100          5334      7100510      17003.0      1940      Individual   \n",
      "1   N10001           A28      9601202      67007.0      1928      Individual   \n",
      "2   N10002        79-030      8930105      41525.0      1979     Corporation   \n",
      "3   N10003             1      056336T          NaN        -1      Individual   \n",
      "4   N10004     T18208245      2072738          NaN        -1             LLC   \n",
      "\n",
      "       registrant_name            street street2         city  ...  \\\n",
      "0                  NaN               NaN     NaN      KETCHUM  ...   \n",
      "1                  NaN               NaN     NaN     LAKELAND  ...   \n",
      "2  ENGLISH AIR SERVICE  3409 CORSAIR CIR     NaN  SANTA MARIA  ...   \n",
      "3                  NaN               NaN     NaN    SALISBURY  ...   \n",
      "4         ETOS AIR LLC               NaN     NaN   NEW LONDON  ...   \n",
      "\n",
      "              aircraft_type num_engines num_seats weight_class speed  \\\n",
      "0  Fixed wing single engine           1         2      CLASS 1    67   \n",
      "1  Fixed wing single engine           1         3      CLASS 1    79   \n",
      "2                Rotorcraft           1         1      CLASS 1     0   \n",
      "3  Fixed wing single engine           1         2      CLASS 1     0   \n",
      "4  Fixed wing single engine           1         4      CLASS 1     0   \n",
      "\n",
      "  eng_mfr_name      eng_model       eng_type horsepower thrust  \n",
      "0   CONT MOTOR   A&C65 SERIES  Reciprocating       65.0    0.0  \n",
      "1       WRIGHT     WWJ SERIES  Reciprocating      220.0    0.0  \n",
      "2     LYCOMING  VO-435 SERIES  Reciprocating      260.0    0.0  \n",
      "3          NaN            NaN            NaN        NaN    NaN  \n",
      "4          NaN            NaN            NaN        NaN    NaN  \n",
      "\n",
      "[5 rows x 32 columns]\n",
      "(288116, 32)\n"
     ]
    }
   ],
   "source": [
    "print(aircraft.head())\n",
    "print(aircraft.shape)"
   ]
  },
  {
   "cell_type": "markdown",
   "metadata": {},
   "source": [
    "At first glance, we can see that the `street` and `street2` columns have a lot of empty values. Since there are so many missing values, and these columns are probably of ancillary importance to someone who is using the data to make a business decision, let's remove those columns from our `DataFrame`. Pandas makes this easy with the `drop()` function:"
   ]
  },
  {
   "cell_type": "code",
   "execution_count": 18,
   "metadata": {},
   "outputs": [
    {
     "name": "stdout",
     "output_type": "stream",
     "text": [
      "  n_number serial_number mfr_mdl_code  eng_mfr_mdl  mfr_year registrant_type  \\\n",
      "0     N100          5334      7100510      17003.0      1940      Individual   \n",
      "1   N10001           A28      9601202      67007.0      1928      Individual   \n",
      "2   N10002        79-030      8930105      41525.0      1979     Corporation   \n",
      "3   N10003             1      056336T          NaN        -1      Individual   \n",
      "4   N10004     T18208245      2072738          NaN        -1             LLC   \n",
      "\n",
      "       registrant_name         city state zip_code  ...  \\\n",
      "0                  NaN      KETCHUM    OK    74349  ...   \n",
      "1                  NaN     LAKELAND    FL    33802  ...   \n",
      "2  ENGLISH AIR SERVICE  SANTA MARIA    CA    93455  ...   \n",
      "3                  NaN    SALISBURY    NC    28146  ...   \n",
      "4         ETOS AIR LLC   NEW LONDON    TX    75682  ...   \n",
      "\n",
      "              aircraft_type num_engines num_seats weight_class speed  \\\n",
      "0  Fixed wing single engine           1         2      CLASS 1    67   \n",
      "1  Fixed wing single engine           1         3      CLASS 1    79   \n",
      "2                Rotorcraft           1         1      CLASS 1     0   \n",
      "3  Fixed wing single engine           1         2      CLASS 1     0   \n",
      "4  Fixed wing single engine           1         4      CLASS 1     0   \n",
      "\n",
      "  eng_mfr_name      eng_model       eng_type horsepower thrust  \n",
      "0   CONT MOTOR   A&C65 SERIES  Reciprocating       65.0    0.0  \n",
      "1       WRIGHT     WWJ SERIES  Reciprocating      220.0    0.0  \n",
      "2     LYCOMING  VO-435 SERIES  Reciprocating      260.0    0.0  \n",
      "3          NaN            NaN            NaN        NaN    NaN  \n",
      "4          NaN            NaN            NaN        NaN    NaN  \n",
      "\n",
      "[5 rows x 30 columns]\n"
     ]
    }
   ],
   "source": [
    "# prepare the list of columns to be dropped\n",
    "drop_cols = ['street','street2']\n",
    "aircraft.drop(drop_cols, inplace=True, axis=1)\n",
    "\n",
    "# print the updated DataFrame\n",
    "print(aircraft.head())"
   ]
  },
  {
   "cell_type": "markdown",
   "metadata": {},
   "source": [
    "Now we can see that the `street` and `street2` columns have been removed from our `aircraft` DataFrame. \n",
    "\n",
    "Another issue that we can see with our data is that the `thrust` column is also somewhat messy. Some of the entries are empty, some contain zeros, and some contain meaningful values. Let's replace the `NaN`s with zeros, using the `fillna()` function, so that the unrecorded values are consistent:"
   ]
  },
  {
   "cell_type": "code",
   "execution_count": 13,
   "metadata": {},
   "outputs": [
    {
     "name": "stdout",
     "output_type": "stream",
     "text": [
      "  n_number serial_number mfr_mdl_code  eng_mfr_mdl  mfr_year registrant_type  \\\n",
      "0     N100          5334      7100510      17003.0      1940      Individual   \n",
      "1   N10001           A28      9601202      67007.0      1928      Individual   \n",
      "2   N10002        79-030      8930105      41525.0      1979     Corporation   \n",
      "3   N10003             1      056336T          NaN        -1      Individual   \n",
      "4   N10004     T18208245      2072738          NaN        -1             LLC   \n",
      "\n",
      "       registrant_name         city state zip_code  ...  \\\n",
      "0                  NaN      KETCHUM    OK    74349  ...   \n",
      "1                  NaN     LAKELAND    FL    33802  ...   \n",
      "2  ENGLISH AIR SERVICE  SANTA MARIA    CA    93455  ...   \n",
      "3                  NaN    SALISBURY    NC    28146  ...   \n",
      "4         ETOS AIR LLC   NEW LONDON    TX    75682  ...   \n",
      "\n",
      "              aircraft_type num_engines num_seats weight_class speed  \\\n",
      "0  Fixed wing single engine           1         2      CLASS 1    67   \n",
      "1  Fixed wing single engine           1         3      CLASS 1    79   \n",
      "2                Rotorcraft           1         1      CLASS 1     0   \n",
      "3  Fixed wing single engine           1         2      CLASS 1     0   \n",
      "4  Fixed wing single engine           1         4      CLASS 1     0   \n",
      "\n",
      "  eng_mfr_name      eng_model       eng_type horsepower thrust  \n",
      "0   CONT MOTOR   A&C65 SERIES  Reciprocating       65.0    0.0  \n",
      "1       WRIGHT     WWJ SERIES  Reciprocating      220.0    0.0  \n",
      "2     LYCOMING  VO-435 SERIES  Reciprocating      260.0    0.0  \n",
      "3          NaN            NaN            NaN        NaN    0.0  \n",
      "4          NaN            NaN            NaN        NaN    0.0  \n",
      "\n",
      "[5 rows x 30 columns]\n"
     ]
    }
   ],
   "source": [
    "# replace NaNs with 0s using fillna()\n",
    "aircraft['thrust'] = aircraft['thrust'].fillna(0)\n",
    "\n",
    "print(aircraft.head())"
   ]
  },
  {
   "cell_type": "markdown",
   "metadata": {},
   "source": [
    "Another common cleaning operation is to drop duplicate rows. If we want to see whether any rows are duplicated, we can use the `duplicated()` method on our DataFrame. In this case, there are no duplicate entries. If you do need to remove duplicates, Pandas provides a handy `drop_duplicates()` function. "
   ]
  },
  {
   "cell_type": "code",
   "execution_count": 32,
   "metadata": {},
   "outputs": [
    {
     "name": "stdout",
     "output_type": "stream",
     "text": [
      "n_number\n",
      "N100      False\n",
      "N10001    False\n",
      "N10002    False\n",
      "N10003    False\n",
      "N10004    False\n",
      "          ...  \n",
      "N9ZS      False\n",
      "N9ZT      False\n",
      "N9ZU      False\n",
      "N9ZV      False\n",
      "N9ZX      False\n",
      "Length: 288116, dtype: bool\n",
      "         serial_number mfr_mdl_code  eng_mfr_mdl  mfr_year registrant_type  \\\n",
      "n_number                                                                     \n",
      "N100              5334      7100510      17003.0      1940      Individual   \n",
      "N10001             A28      9601202      67007.0      1928      Individual   \n",
      "N10002          79-030      8930105      41525.0      1979     Corporation   \n",
      "N10003               1      056336T          NaN        -1      Individual   \n",
      "N10004       T18208245      2072738          NaN        -1             LLC   \n",
      "...                ...          ...          ...       ...             ...   \n",
      "N9ZS             20004      5760102          0.0      1974      Individual   \n",
      "N9ZT              0088      2130001      17042.0      2001     Corporation   \n",
      "N9ZU           18-7028      7101828      41508.0      1959      Individual   \n",
      "N9ZV              3793      1181511       3020.0      1984             LLC   \n",
      "N9ZX               121      05655US       9050.0      1986      Individual   \n",
      "\n",
      "                         registrant_name            street street2  \\\n",
      "n_number                                                             \n",
      "N100                                 NaN               NaN     NaN   \n",
      "N10001                               NaN               NaN     NaN   \n",
      "N10002               ENGLISH AIR SERVICE  3409 CORSAIR CIR     NaN   \n",
      "N10003                               NaN               NaN     NaN   \n",
      "N10004                      ETOS AIR LLC               NaN     NaN   \n",
      "...                                  ...               ...     ...   \n",
      "N9ZS                                 NaN               NaN     NaN   \n",
      "N9ZT      AIRCRAFT GUARANTY CORP TRUSTEE   928 SW 107TH ST     NaN   \n",
      "N9ZU                                 NaN               NaN     NaN   \n",
      "N9ZV       L & R INVESTMENT PARTNERS LLC               NaN     NaN   \n",
      "N9ZX                                 NaN               NaN     NaN   \n",
      "\n",
      "                   city state  ...             aircraft_type num_engines  \\\n",
      "n_number                       ...                                         \n",
      "N100            KETCHUM    OK  ...  Fixed wing single engine           1   \n",
      "N10001         LAKELAND    FL  ...  Fixed wing single engine           1   \n",
      "N10002      SANTA MARIA    CA  ...                Rotorcraft           1   \n",
      "N10003        SALISBURY    NC  ...  Fixed wing single engine           1   \n",
      "N10004       NEW LONDON    TX  ...  Fixed wing single engine           1   \n",
      "...                 ...   ...  ...                       ...         ...   \n",
      "N9ZS         PETERSBURG    WV  ...                    Glider           0   \n",
      "N9ZT      OKLAHOMA CITY    OK  ...  Fixed wing single engine           1   \n",
      "N9ZU       LOPEZ ISLAND    WA  ...  Fixed wing single engine           1   \n",
      "N9ZV              DOVER    DE  ...                Rotorcraft           1   \n",
      "N9ZX          RIDGELAND    WI  ...  Fixed wing single engine           1   \n",
      "\n",
      "         num_seats weight_class speed eng_mfr_name      eng_model  \\\n",
      "n_number                                                            \n",
      "N100             2      CLASS 1    67   CONT MOTOR   A&C65 SERIES   \n",
      "N10001           3      CLASS 1    79       WRIGHT     WWJ SERIES   \n",
      "N10002           1      CLASS 1     0     LYCOMING  VO-435 SERIES   \n",
      "N10003           2      CLASS 1     0          NaN            NaN   \n",
      "N10004           4      CLASS 1     0          NaN            NaN   \n",
      "...            ...          ...   ...          ...            ...   \n",
      "N9ZS             1      CLASS 1   112         NONE           NONE   \n",
      "N9ZT             4      CLASS 1     0   CONT MOTOR  IO-550 SERIES   \n",
      "N9ZU             2      CLASS 1    97     LYCOMING   0-320 SERIES   \n",
      "N9ZV             5      CLASS 1   112      ALLISON    250-C20 SER   \n",
      "N9ZX             1      CLASS 1     0   BOMBARDIER    ROTAX (ALL)   \n",
      "\n",
      "               eng_type horsepower thrust  \n",
      "n_number                                   \n",
      "N100      Reciprocating       65.0    0.0  \n",
      "N10001    Reciprocating      220.0    0.0  \n",
      "N10002    Reciprocating      260.0    0.0  \n",
      "N10003              NaN        NaN    NaN  \n",
      "N10004              NaN        NaN    NaN  \n",
      "...                 ...        ...    ...  \n",
      "N9ZS               None        0.0    0.0  \n",
      "N9ZT      Reciprocating      300.0    0.0  \n",
      "N9ZU      Reciprocating      180.0    0.0  \n",
      "N9ZV         Turbo-prop      420.0    0.0  \n",
      "N9ZX      Reciprocating        0.0    0.0  \n",
      "\n",
      "[288116 rows x 31 columns]\n"
     ]
    }
   ],
   "source": [
    "print(aircraft.duplicated())\n",
    "\n",
    "#if you need to remove duplicates, use drop_duplicates()\n",
    "aircraft.drop_duplicates()"
   ]
  },
  {
   "cell_type": "markdown",
   "metadata": {},
   "source": [
    "Notice from the output and row counts above that when using the default behavior of `drop_duplicates()` (which is to compare across all columns), there are no duplicate rows in our data. While there may not be any duplicates when we compare records according to all of the columns, `drop_duplicates()` gives us a way to filter out duplicates according to more detailed criteria. In particular, we can pass a list of columns using the `subset` argument, and `drop_duplicates()` will check for duplicates only on those specific columns. \n",
    "\n",
    "Let's suppose that, for some regulatory purpose, we need to produce a recordset containing one aircraft from every airline in each ZIP code, and that only contains corporate (and not individual) registrants. We can do this easily with `drop_duplicates` using `subset`. \n",
    "\n",
    "First, though, we need to use `dropna()` to drop records with a `NaN` value for the `registry_name`. This will leave only corporate registrants. Then, we can apply `drop_duplicates()` specifying `registrant_name` and `zip_code` as the subset."
   ]
  },
  {
   "cell_type": "code",
   "execution_count": 19,
   "metadata": {},
   "outputs": [
    {
     "name": "stdout",
     "output_type": "stream",
     "text": [
      "   n_number  serial_number mfr_mdl_code  eng_mfr_mdl  mfr_year  \\\n",
      "9    N1000E       550-1011      2076604      52065.0      2002   \n",
      "16   N1000Q       310P0195      2074238      17027.0        -1   \n",
      "20   N1000V           0660      2130001      17042.0      2003   \n",
      "21   N1000W  CCX-2300-0017      05639MP          NaN        -1   \n",
      "33   N1001D           7609      2073110      35003.0      1950   \n",
      "35   N1001F          79033      8930105      42200.0      1979   \n",
      "37   N1001K     F-16-07-01      060005B      55593.0      2017   \n",
      "44   N1001W          60208      05620P0      41594.0      2006   \n",
      "49   N10025            165      8141104      52008.0      1957   \n",
      "54   N1002G        27-0295      5870222      41533.0      2000   \n",
      "\n",
      "   registrant_type          registrant_name           city state zip_code  \\\n",
      "9      Corporation               WR HESS CO  OKLAHOMA CITY    OK    73119   \n",
      "16             LLC               N1000Q LLC        OAKLAND    CA    94605   \n",
      "20             LLC                  1KV LLC     WILMINGTON    DE    19810   \n",
      "21             LLC        SES OPERATING LLC        MIDLAND    TX    79702   \n",
      "33             LLC     JMP & ASSOCIATES LLC     LOUISVILLE    KY    40241   \n",
      "35     Corporation               AG AIR INC       CHEYENNE    WY    82001   \n",
      "37             LLC                HORUS LLC          OMAHA    NE    68108   \n",
      "44     Corporation       RIGHT DOWNWIND INC     ROPESVILLE    TX    79358   \n",
      "49     Corporation           TRADE AYER INC         LINDEN    NJ    07036   \n",
      "54             LLC  FLYING FOX AVIATION LLC    IDAHO FALLS    ID    83404   \n",
      "\n",
      "                region country last_action_date  issue_date status  \n",
      "9         Southwestern      US       2019-10-10  2016-02-16      V  \n",
      "16     Western-Pacific      US       2018-08-02  2018-08-02      V  \n",
      "20             Eastern      US       2019-05-14  2010-03-05      V  \n",
      "21        Southwestern      US       2020-09-08  2020-09-08      V  \n",
      "33             Central      US       2018-02-11  2007-10-22      V  \n",
      "35  Northwest Mountain      US       2019-09-11  2019-09-11      V  \n",
      "37             Central      US       2018-05-23  2018-05-23      V  \n",
      "44        Southwestern      US       2018-09-18  2018-09-18      V  \n",
      "49             Eastern      US       1977-01-14         NaN      N  \n",
      "54  Northwest Mountain      US       2019-12-20  2017-05-22      V  \n"
     ]
    }
   ],
   "source": [
    "# drop individual registrants\n",
    "aircraft.dropna(subset=['registrant_name'], inplace=True)\n",
    "\n",
    "# remove duplicate registrants within each ZIP code\n",
    "print(aircraft.drop_duplicates(subset=['registrant_name', 'zip_code'], keep='last').iloc[: , :15].head(10))"
   ]
  },
  {
   "cell_type": "markdown",
   "metadata": {},
   "source": [
    "Notice, in the last line, that we can append multiple function calls to a DataFrame reference to handle more than one processing step in the same statement. `drop_duplicates()` will return a DataFrame, `iloc` uses indexing to return only the first 15 columns (so the result is easier to see), and `head()` shows us only the first few rows.\n",
    "\n",
    "Every dataset is different, and the exact procedure for cleaning your data will depend on what you find when you perform your initial exploratory analysis. Cleaning data will make your job, and that of the data scientists and analysts, easier, and add value to the process. \n",
    "\n",
    "### Further Reading\n",
    "- https://realpython.com/python-data-cleaning-numpy-pandas/"
   ]
  }
 ],
 "metadata": {
  "interpreter": {
   "hash": "3d597f4c481aa0f25dceb95d2a0067e73c0966dcbd003d741d821a7208527ecf"
  },
  "kernelspec": {
   "display_name": "Python 3.9.7 64-bit ('base': conda)",
   "name": "python3"
  },
  "language_info": {
   "codemirror_mode": {
    "name": "ipython",
    "version": 3
   },
   "file_extension": ".py",
   "mimetype": "text/x-python",
   "name": "python",
   "nbconvert_exporter": "python",
   "pygments_lexer": "ipython3",
   "version": "3.9.7"
  },
  "orig_nbformat": 4
 },
 "nbformat": 4,
 "nbformat_minor": 2
}
