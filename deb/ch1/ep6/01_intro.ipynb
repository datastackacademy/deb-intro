{
 "cells": [
  {
   "cell_type": "markdown",
   "metadata": {},
   "source": [
    "# Ch 1, Ep. 6: Pandas\n",
    "## Intro to DataFrames and Basic Selection\n",
    "\n",
    "## Creating DataFrames\n",
    "Pandas loads tabular data inside a data structure called a **DataFrame**. Pandas can read/write DataFrames from a variety of formats, making it an ideal\n",
    "tool to convert file formats in Data Engineering. DataFrames provide an extensive set of built-in functions which allows us to transform and combine\n",
    "DataFrames very easily.\n",
    "\n",
    "Let's go through an example together:\n",
    "\n",
    "<br/>"
   ]
  },
  {
   "cell_type": "code",
   "execution_count": 14,
   "metadata": {},
   "outputs": [
    {
     "name": "stdout",
     "output_type": "stream",
     "text": [
      "   apples  peaches  eggplants\n",
      "0       4        1          1\n",
      "1       2        7          3\n",
      "2       4        4          1\n",
      "3       5        6          3\n",
      "4       1        5          0\n"
     ]
    }
   ],
   "source": [
    "import pandas as pd\n",
    "\n",
    "df = pd.DataFrame({'apples': [4, 2, 4, 5, 1],\n",
    "                   'peaches': [1, 7, 4, 6, 5],\n",
    "                   'eggplants': [1, 3, 1, 3, 0]})\n",
    "print(df)"
   ]
  },
  {
   "cell_type": "markdown",
   "metadata": {},
   "source": [
    "The easiest way to create a DataFrame is to build one from a `dict` where column names are passed as the keys and row values as a `list` for that column. First row of the DataFrame would be the first element of each column list.\n",
    "\n",
    "### Accessing Values with Brackets\n",
    "\n",
    "Try accessing values in a DataFrame:"
   ]
  },
  {
   "cell_type": "code",
   "execution_count": 10,
   "metadata": {},
   "outputs": [
    {
     "name": "stdout",
     "output_type": "stream",
     "text": [
      "The 'apples' column:\n"
     ]
    },
    {
     "data": {
      "text/plain": [
       "0    4\n",
       "1    2\n",
       "2    4\n",
       "3    5\n",
       "4    1\n",
       "Name: apples, dtype: int64"
      ]
     },
     "execution_count": 10,
     "metadata": {},
     "output_type": "execute_result"
    }
   ],
   "source": [
    "# select a single column\n",
    "print(\"The 'apples' column:\")\n",
    "df['apples']\n",
    "# you can also access as member of DataFrame\n",
    "df.apples\n"
   ]
  },
  {
   "cell_type": "code",
   "execution_count": 11,
   "metadata": {},
   "outputs": [
    {
     "name": "stdout",
     "output_type": "stream",
     "text": [
      "The first row in 'apples':\n"
     ]
    },
    {
     "data": {
      "text/plain": [
       "4"
      ]
     },
     "execution_count": 11,
     "metadata": {},
     "output_type": "execute_result"
    }
   ],
   "source": [
    "# accessing values within a column \n",
    "print(\"The first row in 'apples':\")\n",
    "df['apples'][0]\n",
    "df.apples[0]"
   ]
  },
  {
   "cell_type": "code",
   "execution_count": 13,
   "metadata": {},
   "outputs": [
    {
     "data": {
      "text/plain": [
       "0    4\n",
       "1    2\n",
       "2    4\n",
       "3    5\n",
       "Name: apples, dtype: int64"
      ]
     },
     "execution_count": 13,
     "metadata": {},
     "output_type": "execute_result"
    }
   ],
   "source": [
    "# access a slice of values\n",
    "df['apples'][0:4]"
   ]
  },
  {
   "cell_type": "markdown",
   "metadata": {},
   "source": [
    "When you're using `[]` to access elements in a DataFrame think of it a a **two dimensional array** where the first dimension represents the columns and the second dimension represents the row sequence.\n",
    "\n",
    "### Creating DataFrame with Index\n",
    "\n",
    "By default pandas assigns a RangeIndex to the rows starting with 0 (similar to lists). This is what we saw in the examples above. However you can specifically assign the **row labels** or **indexes** for each row by index vales:\n",
    "\n",
    "<br/>"
   ]
  },
  {
   "cell_type": "code",
   "execution_count": 15,
   "metadata": {},
   "outputs": [
    {
     "name": "stdout",
     "output_type": "stream",
     "text": [
      "   apples  peaches  eggplants\n",
      "A       4        1          1\n",
      "B       2        7          3\n",
      "C       4        4          1\n",
      "D       5        6          3\n",
      "E       1        5          0\n"
     ]
    }
   ],
   "source": [
    "df = pd.DataFrame({'apples': [4, 2, 4, 5, 1],\n",
    "                   'peaches': [1, 7, 4, 6, 5],\n",
    "                   'eggplants': [1, 3, 1, 3, 0]},\n",
    "                 index=['A', 'B', 'C', 'D', 'E'])\n",
    "print(df)"
   ]
  },
  {
   "cell_type": "markdown",
   "metadata": {},
   "source": [
    "You can still use brackets to access values:"
   ]
  },
  {
   "cell_type": "code",
   "execution_count": 16,
   "metadata": {},
   "outputs": [
    {
     "data": {
      "text/plain": [
       "A    4\n",
       "E    1\n",
       "D    5\n",
       "Name: apples, dtype: int64"
      ]
     },
     "execution_count": 16,
     "metadata": {},
     "output_type": "execute_result"
    }
   ],
   "source": [
    "# you can use both index by position or label\n",
    "# the correct way would be by label\n",
    "df['apples']['A']\n",
    "# or by position\n",
    "df['apples'][0]\n",
    "\n",
    "# you can also select multiple rows\n",
    "df['apples'][['A', 'E', 'D']]\n"
   ]
  },
  {
   "cell_type": "markdown",
   "metadata": {},
   "source": [
    "### Assigning Values\n",
    "\n",
    "As easy as reading values, you can also assign values:"
   ]
  },
  {
   "cell_type": "code",
   "execution_count": 5,
   "metadata": {},
   "outputs": [
    {
     "name": "stdout",
     "output_type": "stream",
     "text": [
      "   apples  peaches  eggplants  oranges\n",
      "A      10        1          1        0\n",
      "B       2        7          3        0\n",
      "C       4        4          1        0\n",
      "D       5        6          3        2\n",
      "E       1        5          0        0\n",
      "F       3        0          3        1\n"
     ]
    }
   ],
   "source": [
    "# assign a single value\n",
    "df['apples']['A'] = 10\n",
    "\n",
    "# assign and add an entire column\n",
    "df['oranges'] = 0\n",
    "df['oranges']['D'] = 2\n",
    "\n",
    "# add an entire row. you will learn .loc later\n",
    "df.loc['F'] = {'apples': 3, 'peaches': 0, 'eggplants': 3, 'oranges': 1}\n",
    "\n",
    "print(df)"
   ]
  },
  {
   "cell_type": "markdown",
   "metadata": {},
   "source": [
    "And there we have Pandas `DataFrame`! Let's take a quick look at the other basic Pandas data type, `Series`"
   ]
  },
  {
   "cell_type": "markdown",
   "metadata": {},
   "source": [
    "### Series\n",
    "\n",
    "Pandas `Series` are a one-dimensional array that can hold any data type. Being one dimensional, they are similar to single columns from a `DataFrame`. In fact, if we use single `[ ]` when returning a column from a `DataFrame`, we see it is a `Series`:"
   ]
  },
  {
   "cell_type": "code",
   "execution_count": 7,
   "metadata": {},
   "outputs": [
    {
     "data": {
      "text/plain": [
       "pandas.core.series.Series"
      ]
     },
     "execution_count": 7,
     "metadata": {},
     "output_type": "execute_result"
    }
   ],
   "source": [
    "type(df['apples'])"
   ]
  },
  {
   "cell_type": "markdown",
   "metadata": {},
   "source": [
    "We can create `Series` in the same manner as we did for `DataFrames`, the class constructor takes data as the first argument and returns a `Series` object of that data. If no index is specified, the same `RangeIndex` we see for `DataFrame` is created. We can also specify an index if desired:"
   ]
  },
  {
   "cell_type": "code",
   "execution_count": 10,
   "metadata": {},
   "outputs": [
    {
     "data": {
      "text/plain": [
       "a    5\n",
       "b    6\n",
       "c    7\n",
       "d    8\n",
       "e    9\n",
       "dtype: int64"
      ]
     },
     "execution_count": 10,
     "metadata": {},
     "output_type": "execute_result"
    }
   ],
   "source": [
    "s = pd.Series(range(5,10))\n",
    "s\n",
    "s = pd.Series(range(5,10), ['a', 'b', 'c', 'd', 'e'])\n",
    "s"
   ]
  },
  {
   "cell_type": "markdown",
   "metadata": {},
   "source": [
    "We can also create a series from  a `dict`. In this case, the `key` is interpreted as the `index` and the value becomes the entry in the `Series`:"
   ]
  },
  {
   "cell_type": "code",
   "execution_count": 12,
   "metadata": {},
   "outputs": [
    {
     "data": {
      "text/plain": [
       "b    1\n",
       "a    0\n",
       "c    2\n",
       "dtype: int64"
      ]
     },
     "execution_count": 12,
     "metadata": {},
     "output_type": "execute_result"
    }
   ],
   "source": [
    "d = {\"b\": 1, \"a\": 0, \"c\": 2}\n",
    "pd.Series(d)"
   ]
  },
  {
   "cell_type": "markdown",
   "metadata": {},
   "source": [
    "If we also include an index with a `dict`, the corresponding entries are included in the returned `Series` with `NaN` for those who do not have a corresponding value in the `dict`"
   ]
  },
  {
   "cell_type": "code",
   "execution_count": 13,
   "metadata": {},
   "outputs": [
    {
     "data": {
      "text/plain": [
       "c    2.0\n",
       "d    NaN\n",
       "a    0.0\n",
       "dtype: float64"
      ]
     },
     "execution_count": 13,
     "metadata": {},
     "output_type": "execute_result"
    }
   ],
   "source": [
    "pd.Series(d, index = ['c', 'd', 'a'])"
   ]
  },
  {
   "cell_type": "markdown",
   "metadata": {},
   "source": [
    "We note that we already know how to access `Series` using `[ ]` because as seen above, a column of a `DataFrame` is returned as a `Series`. So simply use the logic above, including the ability to return slices of `Series` "
   ]
  },
  {
   "cell_type": "code",
   "execution_count": 14,
   "metadata": {},
   "outputs": [
    {
     "data": {
      "text/plain": [
       "0"
      ]
     },
     "execution_count": 14,
     "metadata": {},
     "output_type": "execute_result"
    }
   ],
   "source": [
    "d = {\"b\": 1, \"a\": 0, \"c\": 2}\n",
    "d['a']"
   ]
  },
  {
   "cell_type": "code",
   "execution_count": 15,
   "metadata": {},
   "outputs": [
    {
     "data": {
      "text/plain": [
       "2    7\n",
       "3    8\n",
       "4    9\n",
       "dtype: int64"
      ]
     },
     "execution_count": 15,
     "metadata": {},
     "output_type": "execute_result"
    }
   ],
   "source": [
    "s = pd.Series(range(5,10))\n",
    "s[2:6]"
   ]
  }
 ],
 "metadata": {
  "interpreter": {
   "hash": "3d597f4c481aa0f25dceb95d2a0067e73c0966dcbd003d741d821a7208527ecf"
  },
  "kernelspec": {
   "display_name": "Python 3.9.5 64-bit ('base': conda)",
   "name": "python3"
  },
  "language_info": {
   "codemirror_mode": {
    "name": "ipython",
    "version": 3
   },
   "file_extension": ".py",
   "mimetype": "text/x-python",
   "name": "python",
   "nbconvert_exporter": "python",
   "pygments_lexer": "ipython3",
   "version": "3.9.7"
  },
  "metadata": {
   "interpreter": {
    "hash": "caf2427215b6d06207a2df1796b9e7a68226f163882bdffe10c7edd9425ce4b4"
   }
  }
 },
 "nbformat": 4,
 "nbformat_minor": 4
}
