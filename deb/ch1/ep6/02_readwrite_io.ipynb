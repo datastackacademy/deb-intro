{
 "cells": [
  {
   "cell_type": "markdown",
   "metadata": {},
   "source": [
    "# Ch 1, Ep. 6: Pandas\n",
    "## I/O: Reading and Writing Data\n",
    "\n",
    "The most standard use of pandas is to read and write data files. Pandas provides a series of [built-in I/O functions](https://pandas.pydata.org/pandas-docs/stable/user_guide/io.html) to read and write data from various files formats; making it the defacto standard tool to convert files formats.\n",
    "\n",
    "Pandas is often used to read data from basic internet and SQL files formats such as CSVs and Json files and transform them into **Big Data** formats such as **Parquet, ORC, BigQuery**, and other formats.\n",
    "\n",
    "### Reading CSV\n",
    "\n",
    "Amongst pandas [built-in readers](https://pandas.pydata.org/pandas-docs/stable/user_guide/io.html)you can use `read_csv` to import data from a delimited file:\n",
    "\n",
    "Data files for this lesson are included under `data/` folder. The `airports.csv` files contains all domestic (USA) airports.\n"
   ]
  },
  {
   "cell_type": "code",
   "execution_count": 1,
   "metadata": {},
   "outputs": [
    {
     "name": "stdout",
     "output_type": "stream",
     "text": [
      "  iata               airport              city state country        lat  \\\n",
      "0  00M              Thigpen        Bay Springs    MS     USA  31.953765   \n",
      "1  00R  Livingston Municipal        Livingston    TX     USA  30.685861   \n",
      "2  00V           Meadow Lake  Colorado Springs    CO     USA  38.945749   \n",
      "3  01G          Perry-Warsaw             Perry    NY     USA  42.741347   \n",
      "4  01J      Hilliard Airpark          Hilliard    FL     USA  30.688012   \n",
      "\n",
      "          lon  \n",
      "0  -89.234505  \n",
      "1  -95.017928  \n",
      "2 -104.569893  \n",
      "3  -78.052081  \n",
      "4  -81.905944  \n"
     ]
    }
   ],
   "source": [
    "import pandas as pd\n",
    "\n",
    "data_dir = '../../../data/input/ch1/'\n",
    "airports_file = data_dir + 'airports.csv'\n",
    "airports = pd.read_csv(airports_file, header=0)\n",
    "print(airports.head())"
   ]
  },
  {
   "cell_type": "markdown",
   "metadata": {},
   "source": [
    "`read_csv` methods provides a series of options to parse csv files correctly. The `header` option is used to extract column names from a csv header row. `header=0` marks the first row of csv (row 0) as the header row.\n",
    "\n",
    "Feel free to set other options:"
   ]
  },
  {
   "cell_type": "code",
   "execution_count": 2,
   "metadata": {},
   "outputs": [
    {
     "name": "stdout",
     "output_type": "stream",
     "text": [
      "  iata               airport              city state country        lat  \\\n",
      "0  00M              Thigpen        Bay Springs    MS     USA  31.953765   \n",
      "1  00R  Livingston Municipal        Livingston    TX     USA  30.685861   \n",
      "2  00V           Meadow Lake  Colorado Springs    CO     USA  38.945749   \n",
      "3  01G          Perry-Warsaw             Perry    NY     USA  42.741347   \n",
      "4  01J      Hilliard Airpark          Hilliard    FL     USA  30.688012   \n",
      "\n",
      "          lon  \n",
      "0  -89.234505  \n",
      "1  -95.017928  \n",
      "2 -104.569893  \n",
      "3  -78.052081  \n",
      "4  -81.905944  \n",
      "                airport              city state\n",
      "0              Thigpen        Bay Springs    MS\n",
      "1  Livingston Municipal        Livingston    TX\n",
      "2           Meadow Lake  Colorado Springs    CO\n",
      "3          Perry-Warsaw             Perry    NY\n",
      "4      Hilliard Airpark          Hilliard    FL\n"
     ]
    }
   ],
   "source": [
    "import pandas as pd\n",
    "\n",
    "# setting separator and line terminator characters\n",
    "airports = pd.read_csv(airports_file, header=0, sep=',', lineterminator='\\n')\n",
    "\n",
    "print(airports.head())\n",
    "# reading only 10 rows and selected columns\n",
    "airports = pd.read_csv(airports_file, header=0, nrows=10, \n",
    "                      usecols=['airport', 'city', 'state'])\n",
    "\n",
    "print(airports.head())"
   ]
  },
  {
   "cell_type": "markdown",
   "metadata": {},
   "source": [
    "For the full list of available `read_csv` options refer to the online \n",
    "[documentation](https://pandas.pydata.org/pandas-docs/stable/reference/api/pandas.read_csv.html)\n",
    "\n",
    "\n",
    "### Assigning data types\n",
    "\n",
    "You can set column data types using the `dtype` option:"
   ]
  },
  {
   "cell_type": "code",
   "execution_count": 3,
   "metadata": {},
   "outputs": [
    {
     "name": "stdout",
     "output_type": "stream",
     "text": [
      "  iata               airport              city state country        lat  \\\n",
      "0  00M              Thigpen        Bay Springs    MS     USA  31.953765   \n",
      "1  00R  Livingston Municipal        Livingston    TX     USA  30.685861   \n",
      "2  00V           Meadow Lake  Colorado Springs    CO     USA  38.945749   \n",
      "3  01G          Perry-Warsaw             Perry    NY     USA  42.741347   \n",
      "4  01J      Hilliard Airpark          Hilliard    FL     USA  30.688012   \n",
      "5  01M     Tishomingo County           Belmont    MS     USA  34.491667   \n",
      "6  02A           Gragg-Wade            Clanton    AL     USA  32.850487   \n",
      "7  02C               Capitol        Brookfield    WI     USA  43.087510   \n",
      "8  02G     Columbiana County    East Liverpool    OH     USA  40.673313   \n",
      "9  03D      Memphis Memorial           Memphis    MO     USA  40.447259   \n",
      "\n",
      "          lon  \n",
      "0  -89.234505  \n",
      "1  -95.017928  \n",
      "2 -104.569893  \n",
      "3  -78.052081  \n",
      "4  -81.905944  \n",
      "5  -88.201111  \n",
      "6  -86.611453  \n",
      "7  -88.177869  \n",
      "8  -80.641406  \n",
      "9  -92.226961  \n"
     ]
    }
   ],
   "source": [
    "import pandas as pd\n",
    "import numpy as np\n",
    "\n",
    "# using `dtype` to assign particular column data types\n",
    "airports = pd.read_csv(airports_file, header=0,\n",
    "                      dtype={\n",
    "                          'lat': np.float64,\n",
    "                          'long': np.float64\n",
    "                      })\n",
    "\n",
    "# print\n",
    "print(airports.head(10))"
   ]
  },
  {
   "cell_type": "markdown",
   "metadata": {},
   "source": [
    "Data types are typically set as numpy types. The dtype parameter is specifically handy since it allows you to set specific columns and leave the rest for pandas to figure out.\n",
    "\n",
    "### Using Converters\n",
    "\n",
    "The most convenient way to parse special columns and apply business rules to transform fields at ingest is using the `converters` option of `read_csv()`.\n",
    "\n",
    "You can use specific function to parse special fields. In this case we use a function called `pad_iata` to make the `iata` code uniform length. We also show that you can use `lambda` functions as converters:\n",
    "\n",
    "<br/>\n"
   ]
  },
  {
   "cell_type": "code",
   "execution_count": 4,
   "metadata": {},
   "outputs": [
    {
     "name": "stdout",
     "output_type": "stream",
     "text": [
      "   iata               airport              city state country  lat  lon\n",
      "0  000M              Thigpen        Bay Springs    MS     USA   32  -89\n",
      "1  000R  Livingston Municipal        Livingston    TX     USA   31  -95\n",
      "2  000V           Meadow Lake  Colorado Springs    CO     USA   39 -105\n",
      "3  001G          Perry-Warsaw             Perry    NY     USA   43  -78\n",
      "4  001J      Hilliard Airpark          Hilliard    FL     USA   31  -82\n",
      "5  001M     Tishomingo County           Belmont    MS     USA   34  -88\n",
      "6  002A           Gragg-Wade            Clanton    AL     USA   33  -87\n",
      "7  002C               Capitol        Brookfield    WI     USA   43  -88\n",
      "8  002G     Columbiana County    East Liverpool    OH     USA   41  -81\n",
      "9  003D      Memphis Memorial           Memphis    MO     USA   40  -92\n"
     ]
    }
   ],
   "source": [
    "import pandas as pd\n",
    "import numpy as np\n",
    "\n",
    "def pad_iata(value:str):\n",
    "    while len(value) < 4:\n",
    "        value = \"0\" + str(value)\n",
    "    return value\n",
    "\n",
    "# using `converters` to pass functions to parse fields\n",
    "airports = pd.read_csv(airports_file, header=0,\n",
    "                      converters={\n",
    "                          'iata': pad_iata,\n",
    "                          'lat': (lambda v: int(np.round(float(v)))),\n",
    "                          'lon': (lambda v: int(np.round(float(v)))),\n",
    "                      })\n",
    "\n",
    "# print\n",
    "print(airports.head(10))"
   ]
  },
  {
   "cell_type": "markdown",
   "metadata": {},
   "source": [
    "We highly recommend using the converter functions for parsing and applying business rules and cleansing rules at parse time with `read_csv()`.\n",
    "\n",
    "### Writing Data\n",
    "\n",
    "Pandas provides a series of [I/O write functions](https://pandas.pydata.org/pandas-docs/stable/user_guide/io.html). You can read the documentation to use appropriate function for your use-case. \n",
    "\n",
    "Here we're going to write our airports into both **JSON Row** and **Parquet** formats:\n"
   ]
  },
  {
   "cell_type": "markdown",
   "metadata": {},
   "source": [
    "### Renaming and dropping \n",
    "We often need to rename or drop columns when dealing with data. We also might want to remove specific rows as well. The below examples will show how to tackle these challenges:"
   ]
  },
  {
   "cell_type": "code",
   "execution_count": 5,
   "metadata": {},
   "outputs": [
    {
     "data": {
      "text/html": [
       "<div>\n",
       "<style scoped>\n",
       "    .dataframe tbody tr th:only-of-type {\n",
       "        vertical-align: middle;\n",
       "    }\n",
       "\n",
       "    .dataframe tbody tr th {\n",
       "        vertical-align: top;\n",
       "    }\n",
       "\n",
       "    .dataframe thead th {\n",
       "        text-align: right;\n",
       "    }\n",
       "</style>\n",
       "<table border=\"1\" class=\"dataframe\">\n",
       "  <thead>\n",
       "    <tr style=\"text-align: right;\">\n",
       "      <th></th>\n",
       "      <th>iata_code</th>\n",
       "      <th>airport_full_name</th>\n",
       "      <th>city</th>\n",
       "      <th>state</th>\n",
       "      <th>country</th>\n",
       "    </tr>\n",
       "  </thead>\n",
       "  <tbody>\n",
       "    <tr>\n",
       "      <th>3</th>\n",
       "      <td>001G</td>\n",
       "      <td>Perry-Warsaw</td>\n",
       "      <td>Perry</td>\n",
       "      <td>NY</td>\n",
       "      <td>USA</td>\n",
       "    </tr>\n",
       "    <tr>\n",
       "      <th>4</th>\n",
       "      <td>001J</td>\n",
       "      <td>Hilliard Airpark</td>\n",
       "      <td>Hilliard</td>\n",
       "      <td>FL</td>\n",
       "      <td>USA</td>\n",
       "    </tr>\n",
       "    <tr>\n",
       "      <th>5</th>\n",
       "      <td>001M</td>\n",
       "      <td>Tishomingo County</td>\n",
       "      <td>Belmont</td>\n",
       "      <td>MS</td>\n",
       "      <td>USA</td>\n",
       "    </tr>\n",
       "    <tr>\n",
       "      <th>6</th>\n",
       "      <td>002A</td>\n",
       "      <td>Gragg-Wade</td>\n",
       "      <td>Clanton</td>\n",
       "      <td>AL</td>\n",
       "      <td>USA</td>\n",
       "    </tr>\n",
       "    <tr>\n",
       "      <th>7</th>\n",
       "      <td>002C</td>\n",
       "      <td>Capitol</td>\n",
       "      <td>Brookfield</td>\n",
       "      <td>WI</td>\n",
       "      <td>USA</td>\n",
       "    </tr>\n",
       "  </tbody>\n",
       "</table>\n",
       "</div>"
      ],
      "text/plain": [
       "  iata_code  airport_full_name        city state country\n",
       "3      001G       Perry-Warsaw       Perry    NY     USA\n",
       "4      001J   Hilliard Airpark    Hilliard    FL     USA\n",
       "5      001M  Tishomingo County     Belmont    MS     USA\n",
       "6      002A        Gragg-Wade      Clanton    AL     USA\n",
       "7      002C            Capitol  Brookfield    WI     USA"
      ]
     },
     "execution_count": 5,
     "metadata": {},
     "output_type": "execute_result"
    }
   ],
   "source": [
    "# rename two columns and create a new DataFrame with the results\n",
    "updated_airports = airports.rename(columns={'airport': 'airport_full_name',\n",
    "                        'iata': 'iata_code'})\n",
    "\n",
    "# drop the lat and lon columns from the new DataFrame in place\n",
    "updated_airports.drop(columns=['lat', 'lon'], inplace=True)\n",
    "\n",
    "# remove rows - removing rows 0-3 by their label (index)\n",
    "updated_airports.drop(labels=[0,1,2], inplace=True)\n",
    "\n",
    "# Check our handywork\n",
    "updated_airports.head()"
   ]
  },
  {
   "cell_type": "markdown",
   "metadata": {},
   "source": [
    "### reset_index()\n",
    "Another operation you might want to do is reset the index of a DataFrame. For this data, we're already using a simple `RangeIndex` but we can still use `reset_index()` to create a new `RangeIndex`. `reset_index` can be done in place and the old index can be included as a column or dropped:"
   ]
  },
  {
   "cell_type": "code",
   "execution_count": 11,
   "metadata": {},
   "outputs": [
    {
     "name": "stdout",
     "output_type": "stream",
     "text": [
      "   index  iata               airport              city state country  lat  lon\n",
      "0      0  000M              Thigpen        Bay Springs    MS     USA   32  -89\n",
      "1      1  000R  Livingston Municipal        Livingston    TX     USA   31  -95\n",
      "2      2  000V           Meadow Lake  Colorado Springs    CO     USA   39 -105\n",
      "3      3  001G          Perry-Warsaw             Perry    NY     USA   43  -78\n",
      "4      4  001J      Hilliard Airpark          Hilliard    FL     USA   31  -82\n",
      "   iata               airport              city state country  lat  lon\n",
      "0  000M              Thigpen        Bay Springs    MS     USA   32  -89\n",
      "1  000R  Livingston Municipal        Livingston    TX     USA   31  -95\n",
      "2  000V           Meadow Lake  Colorado Springs    CO     USA   39 -105\n",
      "3  001G          Perry-Warsaw             Perry    NY     USA   43  -78\n",
      "4  001J      Hilliard Airpark          Hilliard    FL     USA   31  -82\n"
     ]
    }
   ],
   "source": [
    "updated_airports = airports.copy()\n",
    "updated_airports.reset_index(inplace=True)\n",
    "print(updated_airports.head())\n",
    "updated_airports.drop(columns=['index'], inplace=True)\n",
    "updated_airports.reset_index(inplace=True, drop=True)\n",
    "print(updated_airports.head())"
   ]
  },
  {
   "cell_type": "code",
   "execution_count": 5,
   "metadata": {},
   "outputs": [
    {
     "name": "stdout",
     "output_type": "stream",
     "text": [
      "done.\n"
     ]
    }
   ],
   "source": [
    "import pandas as pd\n",
    "\n",
    "# read csv\n",
    "airports = pd.read_csv(airports_file, header=0)\n",
    "\n",
    "# write json row format\n",
    "airports.to_json(data_dir + 'airports.json', orient='records', lines=True)\n",
    "# write compressed parquet format\n",
    "airports.to_parquet(data_dir + 'airports.parquet', engine='pyarrow', \n",
    "                   compression='gzip', index=False)\n",
    "\n",
    "print('done.')"
   ]
  }
 ],
 "metadata": {
  "kernelspec": {
   "display_name": "Python 3.8.5 64-bit ('tura-env': virtualenvwrapper)",
   "name": "python385jvsc74a57bd0caf2427215b6d06207a2df1796b9e7a68226f163882bdffe10c7edd9425ce4b4"
  },
  "language_info": {
   "codemirror_mode": {
    "name": "ipython",
    "version": 3
   },
   "file_extension": ".py",
   "mimetype": "text/x-python",
   "name": "python",
   "nbconvert_exporter": "python",
   "pygments_lexer": "ipython3",
   "version": "3.8.5"
  },
  "metadata": {
   "interpreter": {
    "hash": "caf2427215b6d06207a2df1796b9e7a68226f163882bdffe10c7edd9425ce4b4"
   }
  }
 },
 "nbformat": 4,
 "nbformat_minor": 4
}
