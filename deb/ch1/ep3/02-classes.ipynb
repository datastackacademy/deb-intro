{
 "cells": [
  {
   "cell_type": "markdown",
   "metadata": {},
   "source": [
    "## Classes\n",
    "\n",
    "What are Python classes? We can think of classes as blueprints for Python objects. As an object oriented language, almost everything in Python is an object; and the classes they belong to define their attributes and properties.\n",
    "\n",
    "Let's start our exploration of classes by making the most basic class and giving it a property. We declare a class similarly to how we define a function with the following syntax:"
   ]
  },
  {
   "cell_type": "code",
   "execution_count": 1,
   "metadata": {},
   "outputs": [
    {
     "name": "stdout",
     "output_type": "stream",
     "text": [
      "I'm a very simple class\n"
     ]
    }
   ],
   "source": [
    "class FirstInClass:\n",
    "    description = \"I'm a very simple class\"\n",
    "\n",
    "f1 = FirstInClass()\n",
    "print(f1.desctiption)"
   ]
  },
  {
   "cell_type": "markdown",
   "metadata": {},
   "source": [
    "While this simple construction works, we note that it is rather limited. In order to build more useful classes, we need to use the built-in function `__init__()`. All classes have this `__init__()` function and it runs any time a new member of a class is instantiated. Let's make a Book class and use `__init__()` that gives our Book objects a title, an author, and a genre"
   ]
  },
  {
   "cell_type": "code",
   "execution_count": 2,
   "metadata": {},
   "outputs": [
    {
     "name": "stdout",
     "output_type": "stream",
     "text": [
      "Epic Poem\n",
      "Beverly Cleary\n"
     ]
    }
   ],
   "source": [
    "class Book:\n",
    "    def __init__(self, title, author, genre):\n",
    "        self.title = title\n",
    "        self.author = author\n",
    "        self.genre = genre\n",
    "\n",
    "\n",
    "the_iliad = Book(\"The Iliad\", \"Homer\", \"Epic Poem\")\n",
    "print(the_iliad.genre)\n",
    "\n",
    "runaway_ralph = Book(\"Runaway Ralph\", \"Beverly Cleary\", \"Children's Novel\")\n",
    "print(runaway_ralph.author)\n"
   ]
  },
  {
   "cell_type": "markdown",
   "metadata": {},
   "source": [
    "One thing you might note is the `self` in the `__init__()` arguments. This first argument of a class method always refers to the object itself. By convention, we call it `self` although this is not required. Because this argument refers to the current instance of the class, we can see the `__init__()` method of `Book` setting the title, author, and genre as attributes of the `Book` instance.\n",
    "\n",
    "In addition to the `__init__()` method used to initate new objects, we can define methods to do other things. How about we make a function that prints a question asking if you have read the book, naming it by title?"
   ]
  },
  {
   "cell_type": "code",
   "execution_count": 3,
   "metadata": {},
   "outputs": [
    {
     "name": "stdout",
     "output_type": "stream",
     "text": [
      "Have you read Runaway Ralph by Beverly Cleary?\n"
     ]
    }
   ],
   "source": [
    "class Book:\n",
    "    def __init__(self, title, author, genre):\n",
    "        self.title = title\n",
    "        self.author = author\n",
    "        self.genre = genre\n",
    "    \n",
    "    def have_you_read(self):\n",
    "        print(f\"Have you read {self.title} by {self.author}?\")\n",
    "\n",
    "runaway_ralph = Book(\"Runaway Ralph\", \"Beverly Cleary\", \"Children's Novel\")\n",
    "runaway_ralph.have_you_read()"
   ]
  },
  {
   "cell_type": "markdown",
   "metadata": {},
   "source": [
    "Once an object has been instantiated, its attributes can be accessed directly. Let's make a book, print its title, then change the title:"
   ]
  },
  {
   "cell_type": "code",
   "execution_count": 4,
   "metadata": {},
   "outputs": [
    {
     "name": "stdout",
     "output_type": "stream",
     "text": [
      "The Invasion\n",
      "The Visitor\n"
     ]
    }
   ],
   "source": [
    "animporphs = Book(\"The Invasion\", \"K. A. Applegate\", \"YA SciFi\")\n",
    "print(animporphs.title)\n",
    "animporphs.title = \"The Visitor\"\n",
    "print(animporphs.title)"
   ]
  },
  {
   "cell_type": "markdown",
   "metadata": {},
   "source": [
    "We can also directly add attributes to objects:"
   ]
  },
  {
   "cell_type": "code",
   "execution_count": 5,
   "metadata": {},
   "outputs": [
    {
     "name": "stdout",
     "output_type": "stream",
     "text": [
      "True\n"
     ]
    }
   ],
   "source": [
    "animporphs = Book(\"The Invasion\", \"K. A. Applegate\", \"YA SciFi\")\n",
    "animporphs.good = True\n",
    "print(animporphs.good)"
   ]
  },
  {
   "cell_type": "markdown",
   "metadata": {},
   "source": [
    "What if we want to make a class for a specific type of book? Instead of building an entirely new class with all the same attributes and methods, we can create a child class that inherits everything from the parent class ([read more about inheritance](https://realpython.com/inheritance-composition-python/)). Let's make a class for biographies to see how this works.\n",
    "The first step is declaring a class called `Biography`. This done almost exactly the same way as how we declared `Book` but with one important difference. We follow the class name with the parent name in parentheses: `class Biography(Book)`. This tells Python that this new class is a child of the `Book` class."
   ]
  },
  {
   "cell_type": "code",
   "execution_count": 6,
   "metadata": {},
   "outputs": [
    {
     "name": "stdout",
     "output_type": "stream",
     "text": [
      "Have you read The Immortal Life of Henrietta Lacks by Rebecca Skloot?\n"
     ]
    }
   ],
   "source": [
    "class Biography(Book):\n",
    "    pass\n",
    "bio1 = Biography(\"The Immortal Life of Henrietta Lacks\", \"Rebecca Skloot\", \"Biography\")\n",
    "bio1.have_you_read()\n"
   ]
  },
  {
   "cell_type": "markdown",
   "metadata": {},
   "source": [
    "Right now our child class `Biography` is exactly the same as its parent `Book`. But one thing we note is the genre of `Biography` is always going to be \"Biography\". Additionally, it would be nice for a `Biogrpahy` to have an attribute telling _who_ the biography is about. We can do both these things by using the `__init__()` function for `Biography`. Instead of repeating all the code in `Book.__init__()`, we can use the `super()` method inside our new `__init__()` function to call `Book.__init__()`. The syntax for this is `super().__init__(title, author, genre)` (we can also explicitly calls `Book.__init__()` but `super()` automatically refers to the parent class). Using this method, we can change the `__init__()` for `Biography` to take the subject of the biography as an input instead of `genre`. Then we use `super()` to call the parent `__init__()` with `genre=\"Biography\"` before asigning the subject to a new attribute called `bio`. Let's also add a method to `Biography` to print who the biography is about:"
   ]
  },
  {
   "cell_type": "code",
   "execution_count": 7,
   "metadata": {},
   "outputs": [
    {
     "name": "stdout",
     "output_type": "stream",
     "text": [
      "Have you read The Immortal Life of Henrietta Lacks by Rebecca Skloot?\n",
      "This is a biography about Henrietta Lacks\n"
     ]
    }
   ],
   "source": [
    "class Biography(Book):\n",
    "    def __init__(self, title, author, bio):\n",
    "        super().__init__(title, author, \"biography\")\n",
    "        self.bio = bio\n",
    "    def about(self):\n",
    "        print(f\"This is a biography about {self.bio}\")\n",
    "\n",
    "bio1 = Biography(\"The Immortal Life of Henrietta Lacks\", \"Rebecca Skloot\", \"Henrietta Lacks\")\n",
    "bio1.have_you_read()\n",
    "bio1.about()"
   ]
  },
  {
   "cell_type": "markdown",
   "metadata": {},
   "source": [
    "### TODO Does this cover what you wanted for classes? What did you mean by metamorphism?"
   ]
  },
  {
   "cell_type": "markdown",
   "metadata": {},
   "source": [
    "### Further Reading\n",
    "- https://realpython.com/inheritance-composition-python/"
   ]
  }
 ],
 "metadata": {
  "kernelspec": {
   "display_name": "Python 3.8.5 64-bit ('tura-env': virtualenvwrapper)",
   "name": "python385jvsc74a57bd0caf2427215b6d06207a2df1796b9e7a68226f163882bdffe10c7edd9425ce4b4"
  },
  "language_info": {
   "codemirror_mode": {
    "name": "ipython",
    "version": 3
   },
   "file_extension": ".py",
   "mimetype": "text/x-python",
   "name": "python",
   "nbconvert_exporter": "python",
   "pygments_lexer": "ipython3",
   "version": "3.8.5"
  },
  "metadata": {
   "interpreter": {
    "hash": "caf2427215b6d06207a2df1796b9e7a68226f163882bdffe10c7edd9425ce4b4"
   }
  },
  "orig_nbformat": 2
 },
 "nbformat": 4,
 "nbformat_minor": 2
}
