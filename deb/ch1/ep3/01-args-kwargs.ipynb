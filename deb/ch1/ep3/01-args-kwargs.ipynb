{
 "cells": [
  {
   "cell_type": "markdown",
   "metadata": {},
   "source": [
    "## args and kwargs\n",
    "\n",
    "When we learned to define functions, we always specified all the arguments for our functions. But what if we want to create a function but don't want to limit the input arguments. There are two constructions that allow us to do this in Python, `args` and `kwargs` respectively. \n",
    "\n",
    "As you might have guessed `args` is short for arguments. If we define a function `my_function(*args)`, then an arbitrary number of arguments can be passed in and they will be accessible via index.\n",
    "\n",
    "The following function definition accepts exactly two numbers as input:"
   ]
  },
  {
   "cell_type": "code",
   "execution_count": null,
   "metadata": {},
   "outputs": [],
   "source": [
    "def my_sum(a, b):\n",
    "    return a + b"
   ]
  },
  {
   "cell_type": "markdown",
   "metadata": {},
   "source": [
    "But what if we want to find the sum of a list of numbers, and the length of that list is not fixed? There is no way to do that using the above style of function definition where every input argument is explicitly declared.\n",
    "\n",
    "`args` and `kwargs` let us solve this type of problem. Let's look at `args` first to see how it works:"
   ]
  },
  {
   "cell_type": "code",
   "execution_count": null,
   "metadata": {},
   "outputs": [],
   "source": [
    "def second_and_last(*args):\n",
    "    print(args[1])\n",
    "    print(args[-1])\n",
    "\n",
    "second_and_last(1,2,3,4,5)"
   ]
  },
  {
   "cell_type": "markdown",
   "metadata": {},
   "source": [
    "This constructor collects all the arguments in an indexed tuple. If we want to access all the possible args, we can use a `for` loop:"
   ]
  },
  {
   "cell_type": "code",
   "execution_count": null,
   "metadata": {},
   "outputs": [],
   "source": [
    "def print_all(*args):\n",
    "    for arg in args:\n",
    "        print(arg)\n",
    "        \n",
    "print_all(None, True, \"cake\", 2, 1)"
   ]
  },
  {
   "cell_type": "markdown",
   "metadata": {},
   "source": [
    "The downside of `args` is that we can only access the arguments via index which can become quite cumbersome if the number of arguments is large. That is where our friend `kwargs` (short for key-word arguments) comes in. We can define a function like this `my_function(**kwargs)`. Then within the function we can access the arguments by name using `kwargs` as a dict."
   ]
  },
  {
   "cell_type": "code",
   "execution_count": null,
   "metadata": {},
   "outputs": [],
   "source": [
    "def middle_namer(**fullname):\n",
    "    print(f\"My middle name is {fullname['middle']}\")\n",
    "\n",
    "middle_namer(first=\"Joe\", middle=\"Don\", last=\"Baker\")"
   ]
  },
  {
   "cell_type": "markdown",
   "metadata": {},
   "source": [
    "We can also combine `args` and `kwargs` also long as all non-key-word args come first:"
   ]
  },
  {
   "cell_type": "code",
   "execution_count": null,
   "metadata": {},
   "outputs": [],
   "source": [
    "def combine_print_all_middle_name(*args, **kwargs):\n",
    "    print_all(*args)\n",
    "    middle_namer(**kwargs)\n",
    "\n",
    "combine_print_all_middle_name(1,2,4, 5, last=\"Bacon\", middle=\"Aaron\")"
   ]
  },
  {
   "cell_type": "markdown",
   "metadata": {},
   "source": [
    "### TODO What else should we teach before we deal with classes?"
   ]
  },
  {
   "cell_type": "code",
   "execution_count": null,
   "metadata": {},
   "outputs": [],
   "source": []
  },
  {
   "cell_type": "markdown",
   "metadata": {},
   "source": [
    "### Further Reading\n",
    "- https://realpython.com/python-kwargs-and-args/ (WIP)"
   ]
  }
 ],
 "metadata": {
  "kernelspec": {
   "display_name": "Python 3.8.5 64-bit ('tura-env': venv)",
   "name": "python385jvsc74a57bd0caf2427215b6d06207a2df1796b9e7a68226f163882bdffe10c7edd9425ce4b4"
  },
  "language_info": {
   "codemirror_mode": {
    "name": "ipython",
    "version": 3
   },
   "file_extension": ".py",
   "mimetype": "text/x-python",
   "name": "python",
   "nbconvert_exporter": "python",
   "pygments_lexer": "ipython3",
   "version": "3.8.5-final"
  },
  "metadata": {
   "interpreter": {
    "hash": "caf2427215b6d06207a2df1796b9e7a68226f163882bdffe10c7edd9425ce4b4"
   }
  },
  "orig_nbformat": 2
 },
 "nbformat": 4,
 "nbformat_minor": 2
}
