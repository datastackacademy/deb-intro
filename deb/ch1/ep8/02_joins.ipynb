{
 "cells": [
  {
   "cell_type": "markdown",
   "metadata": {},
   "source": []
  },
  {
   "cell_type": "markdown",
   "metadata": {},
   "source": [
    "## Joins\n",
    "\n",
    "For the full discussion and instructions, see the [README for this episode](README.md). \n",
    "\n",
    "Before looking at join examples, we need to do our standard import and data loading:\n"
   ]
  },
  {
   "cell_type": "code",
   "execution_count": 9,
   "metadata": {},
   "outputs": [],
   "source": [
    "import pandas as pd\n",
    "\n",
    "data_dir = '../../../data/input/ch1/'\n",
    "airports_file = data_dir + 'airports.csv'\n",
    "routes_file = data_dir + 'routes.csv'\n",
    "\n",
    "# read data fom csv\n",
    "airports = pd.read_csv(airports_file, header=0)\n",
    "routes = pd.read_csv(routes_file, header=0)\n"
   ]
  },
  {
   "cell_type": "markdown",
   "metadata": {},
   "source": [
    "### Merge()\n",
    "\n",
    "Pandas provides a `merge()` function, which is the most flexible way to perform join operations on multiple datasets. First, let's take a look at an *inner join* (one which returns only rows which have a column match from the left and right `DataFrame`s):\n"
   ]
  },
  {
   "cell_type": "code",
   "execution_count": 11,
   "metadata": {},
   "outputs": [
    {
     "name": "stdout",
     "output_type": "stream",
     "text": [
      "     iata                 airport            city state country        lat  \\\n",
      "3     01G            Perry-Warsaw           Perry    NY     USA  42.741347   \n",
      "19    06N                Randall       Middletown    NY     USA  41.431566   \n",
      "42    0B8              Elizabeth   Fishers Island    NY     USA  41.251308   \n",
      "54    0G0  North Buffalo Suburban        Lockport    NY     USA  43.103184   \n",
      "57    0G7   Finger Lakes Regional    Seneca Falls    NY     USA  42.880623   \n",
      "...   ...                     ...             ...   ...     ...        ...   \n",
      "2901  SCH         Schenectady Cty     Schenectady    NY     USA  42.852456   \n",
      "2972  SLK              Adirondack    Saranac Lake    NY     USA  44.385310   \n",
      "3039  SWF                 Stewart        Newburgh    NY     USA  41.504094   \n",
      "3048  SYR   Syracuse-Hancock Intl        Syracuse    NY     USA  43.111187   \n",
      "3193  UCA              Oneida Cty           Utica    NY     USA  43.145119   \n",
      "\n",
      "            lon  \n",
      "3    -78.052081  \n",
      "19   -74.391917  \n",
      "42   -72.031611  \n",
      "54   -78.703346  \n",
      "57   -76.781620  \n",
      "...         ...  \n",
      "2901 -73.928867  \n",
      "2972 -74.206185  \n",
      "3039 -74.104838  \n",
      "3048 -76.106311  \n",
      "3193 -75.383859  \n",
      "\n",
      "[97 rows x 7 columns]\n",
      "Just New York airports:\n",
      " (97, 7)\n",
      "       src dest\n",
      "0      ASF  KZN\n",
      "1      ASF  MRV\n",
      "2      CEK  KZN\n",
      "3      CEK  OVB\n",
      "4      DME  KZN\n",
      "...    ...  ...\n",
      "37589  TSV  WIN\n",
      "37590  WGA  MEL\n",
      "37591  WIN  LRE\n",
      "37592  WIN  TSV\n",
      "37593  WYA  ADL\n",
      "\n",
      "[37594 rows x 2 columns]\n",
      "All possible src and dest pairs:\n",
      " (37594, 2)\n",
      "  iata     airport    city state country        lat        lon  src dest\n",
      "0  ALB  Albany Cty  Albany    NY     USA  42.748119 -73.802979  ALB  BOS\n",
      "1  ALB  Albany Cty  Albany    NY     USA  42.748119 -73.802979  ALB  MSS\n",
      "2  ALB  Albany Cty  Albany    NY     USA  42.748119 -73.802979  ALB  OGS\n",
      "3  ALB  Albany Cty  Albany    NY     USA  42.748119 -73.802979  ALB  CLT\n",
      "4  ALB  Albany Cty  Albany    NY     USA  42.748119 -73.802979  ALB  DCA\n",
      "(358, 9)\n"
     ]
    }
   ],
   "source": [
    "# filter for only NY airports\n",
    "ny_airports = airports[airports.state == 'NY']\n",
    "print(ny_airports)\n",
    "print(\"Just New York airports:\\n\", ny_airports.shape)\n",
    "\n",
    "# drop duplicate routes\n",
    "src_dest = routes[['src', 'dest']].drop_duplicates(ignore_index=True)\n",
    "print(src_dest)\n",
    "print(\"All possible src and dest pairs:\\n\", src_dest.shape)\n",
    "\n",
    "# inner join on the resulting DataFrames using merge()\n",
    "ny_routes_inner = pd.merge(ny_airports, src_dest, left_on='iata', right_on='src')\n",
    "print(ny_routes_inner.head(5)) \n",
    "print(ny_routes_inner.shape)\n"
   ]
  },
  {
   "cell_type": "markdown",
   "metadata": {},
   "source": [
    "There are no null values, illustrating the fact that an inner join returns rows with matches in both DataFrames.\n",
    "\n",
    "Now let's look at an outer join using the same input DataFrames:"
   ]
  },
  {
   "cell_type": "code",
   "execution_count": 14,
   "metadata": {},
   "outputs": [
    {
     "name": "stdout",
     "output_type": "stream",
     "text": [
      "  iata                 airport            city state country        lat  \\\n",
      "0  01G            Perry-Warsaw           Perry    NY     USA  42.741347   \n",
      "1  06N                Randall       Middletown    NY     USA  41.431566   \n",
      "2  0B8              Elizabeth   Fishers Island    NY     USA  41.251308   \n",
      "3  0G0  North Buffalo Suburban        Lockport    NY     USA  43.103184   \n",
      "4  0G7   Finger Lakes Regional    Seneca Falls    NY     USA  42.880623   \n",
      "\n",
      "         lon  src dest  \n",
      "0 -78.052081  NaN  NaN  \n",
      "1 -74.391917  NaN  NaN  \n",
      "2 -72.031611  NaN  NaN  \n",
      "3 -78.703346  NaN  NaN  \n",
      "4 -76.781620  NaN  NaN  \n",
      "   iata           airport     city state country        lat        lon  src  \\\n",
      "30  9G0  Buffalo Airfield  Buffalo    NY     USA  42.862003 -78.716585  NaN   \n",
      "31  9G3             Akron    Akron    NY     USA  43.021087 -78.482968  NaN   \n",
      "32  9G5          Royalton  Gasport    NY     USA  43.182002 -78.557805  NaN   \n",
      "33  ALB        Albany Cty   Albany    NY     USA  42.748119 -73.802979  ALB   \n",
      "34  ALB        Albany Cty   Albany    NY     USA  42.748119 -73.802979  ALB   \n",
      "\n",
      "   dest  \n",
      "30  NaN  \n",
      "31  NaN  \n",
      "32  NaN  \n",
      "33  BOS  \n",
      "34  MSS  \n",
      "(37673, 9)\n"
     ]
    }
   ],
   "source": [
    "# outer join:\n",
    "ny_routes_outer = pd.merge(ny_airports, src_dest, how='outer', left_on='iata', right_on='src')\n",
    "print(ny_routes_outer.head(5)) \n",
    "print(ny_routes_outer[30:35])\n",
    "print(ny_routes_outer.shape)"
   ]
  },
  {
   "cell_type": "markdown",
   "metadata": {},
   "source": [
    "Notice that the outer join returns a result with many more rows than the one returned by the inner join, confirming that an outer join is much less restrictive, because it does not require a match in either the left or right DataFrame.\n",
    "\n",
    "Now let's look at a left outer join, which returns rows which match the left DataFrame (but does not require a match in the right DataFrame):"
   ]
  },
  {
   "cell_type": "code",
   "execution_count": 17,
   "metadata": {},
   "outputs": [
    {
     "name": "stdout",
     "output_type": "stream",
     "text": [
      "  iata                 airport            city state country        lat  \\\n",
      "0  01G            Perry-Warsaw           Perry    NY     USA  42.741347   \n",
      "1  06N                Randall       Middletown    NY     USA  41.431566   \n",
      "2  0B8              Elizabeth   Fishers Island    NY     USA  41.251308   \n",
      "3  0G0  North Buffalo Suburban        Lockport    NY     USA  43.103184   \n",
      "4  0G7   Finger Lakes Regional    Seneca Falls    NY     USA  42.880623   \n",
      "\n",
      "         lon  src dest  \n",
      "0 -78.052081  NaN  NaN  \n",
      "1 -74.391917  NaN  NaN  \n",
      "2 -72.031611  NaN  NaN  \n",
      "3 -78.703346  NaN  NaN  \n",
      "4 -76.781620  NaN  NaN  \n",
      "(437, 9)\n"
     ]
    }
   ],
   "source": [
    "# left outer join:\n",
    "ny_routes_left_outer = pd.merge(ny_airports, src_dest, how='left', left_on='iata', right_on='src')\n",
    "print(ny_routes_left_outer.head()) \n",
    "print(ny_routes_left_outer.shape)"
   ]
  },
  {
   "cell_type": "markdown",
   "metadata": {},
   "source": [
    "The left outer join returns more rows than the inner join, but far fewer than the outer join.\n",
    "\n",
    "Finally, let's look at a right outer join:"
   ]
  },
  {
   "cell_type": "code",
   "execution_count": 18,
   "metadata": {},
   "outputs": [
    {
     "name": "stdout",
     "output_type": "stream",
     "text": [
      "  iata airport city state country  lat  lon  src dest\n",
      "0  NaN     NaN  NaN   NaN     NaN  NaN  NaN  ASF  KZN\n",
      "1  NaN     NaN  NaN   NaN     NaN  NaN  NaN  ASF  MRV\n",
      "2  NaN     NaN  NaN   NaN     NaN  NaN  NaN  CEK  KZN\n",
      "3  NaN     NaN  NaN   NaN     NaN  NaN  NaN  CEK  OVB\n",
      "4  NaN     NaN  NaN   NaN     NaN  NaN  NaN  DME  KZN\n",
      "(37594, 9)\n"
     ]
    }
   ],
   "source": [
    "# right join:\n",
    "ny_routes_right_join = pd.merge(ny_airports, src_dest,how='right', left_on='iata', right_on='src')\n",
    "print(ny_routes_right_join.head()) \n",
    "print(ny_routes_right_join.shape)"
   ]
  },
  {
   "cell_type": "markdown",
   "metadata": {},
   "source": [
    "The right outer join returns 37,594 rows. Why does it return so many more rows than the left outer join?\n",
    "\n",
    "### Join with Pandas join() method\n",
    "`DataFrames` also have built in `join` methods. This object method uses `merge` but can be a more straightforward method for performing joins onto a specific `DataFrame`. `join()` always joins using the index of the other `DataFrame` so it is less flexible but can give similar behavior to `merge()` when many indices are common:"
   ]
  },
  {
   "cell_type": "code",
   "execution_count": 16,
   "metadata": {},
   "outputs": [
    {
     "name": "stdout",
     "output_type": "stream",
     "text": [
      "   iata                 airport            city state country        lat  \\\n",
      "3   01G            Perry-Warsaw           Perry    NY     USA  42.741347   \n",
      "19  06N                Randall       Middletown    NY     USA  41.431566   \n",
      "42  0B8              Elizabeth   Fishers Island    NY     USA  41.251308   \n",
      "54  0G0  North Buffalo Suburban        Lockport    NY     USA  43.103184   \n",
      "57  0G7   Finger Lakes Regional    Seneca Falls    NY     USA  42.880623   \n",
      "\n",
      "          lon dest  \n",
      "3  -78.052081  NaN  \n",
      "19 -74.391917  NaN  \n",
      "42 -72.031611  NaN  \n",
      "54 -78.703346  NaN  \n",
      "57 -76.781620  NaN  \n",
      "(437, 8)\n",
      "    iata     airport    city state country        lat        lon dest\n",
      "825  ALB  Albany Cty  Albany    NY     USA  42.748119 -73.802979  BOS\n",
      "825  ALB  Albany Cty  Albany    NY     USA  42.748119 -73.802979  MSS\n",
      "825  ALB  Albany Cty  Albany    NY     USA  42.748119 -73.802979  OGS\n",
      "825  ALB  Albany Cty  Albany    NY     USA  42.748119 -73.802979  CLT\n",
      "825  ALB  Albany Cty  Albany    NY     USA  42.748119 -73.802979  DCA\n",
      "(358, 8)\n"
     ]
    }
   ],
   "source": [
    "left_join = ny_airports.join(src_dest.set_index('src'), how='left', on='iata')\n",
    "print(left_join.head()) \n",
    "print(left_join.shape)\n",
    "\n",
    "inner_join = ny_airports.join(src_dest.set_index('src'), how='inner', on='iata')\n",
    "print(inner_join.head()) \n",
    "print(inner_join.shape)"
   ]
  },
  {
   "cell_type": "markdown",
   "metadata": {},
   "source": [
    "### Concat()\n",
    "\n",
    "The last way to combine `DataFrames` we will discuss is using the `concat()` method. Unlike the joins we have been discussing, `concat()` does not attempt to match common data within columns. Instead, it can be thought of as simply stacking the `DataFrames` on top of or next to each other. The first argument of `concat()` is a list of objects to concatenate, usually `DataFrames`. \n",
    "We then specify which way to concatenate them with the `axis` argument. With `axis=0`, the `DataFrames` are concatenated vertically (stacked on top of each other). All column names are retained and columns common to the `DataFrames` are combined. Similarly, `axis=1` is a horizontal concatenation; the `DataFrames` are stacked next to each other, aligned by index."
   ]
  },
  {
   "cell_type": "code",
   "execution_count": 7,
   "metadata": {},
   "outputs": [
    {
     "name": "stdout",
     "output_type": "stream",
     "text": [
      "Vertical concat:\n",
      "   iata               airport              city state country        lat  \\\n",
      "0  00M              Thigpen        Bay Springs    MS     USA  31.953765   \n",
      "1  00R  Livingston Municipal        Livingston    TX     USA  30.685861   \n",
      "2  00V           Meadow Lake  Colorado Springs    CO     USA  38.945749   \n",
      "3  01G          Perry-Warsaw             Perry    NY     USA  42.741347   \n",
      "4  01J      Hilliard Airpark          Hilliard    FL     USA  30.688012   \n",
      "0  ASF                   NaN               NaN   NaN     NaN        NaN   \n",
      "1  ASF                   NaN               NaN   NaN     NaN        NaN   \n",
      "2  CEK                   NaN               NaN   NaN     NaN        NaN   \n",
      "3  CEK                   NaN               NaN   NaN     NaN        NaN   \n",
      "4  DME                   NaN               NaN   NaN     NaN        NaN   \n",
      "5  01M     Tishomingo County           Belmont    MS     USA  34.491667   \n",
      "6  02A           Gragg-Wade            Clanton    AL     USA  32.850487   \n",
      "7  02C               Capitol        Brookfield    WI     USA  43.087510   \n",
      "8  02G     Columbiana County    East Liverpool    OH     USA  40.673313   \n",
      "9  03D      Memphis Memorial           Memphis    MO     USA  40.447259   \n",
      "\n",
      "          lon airline dest codeshare  stops equipment  \n",
      "0  -89.234505     NaN  NaN       NaN    NaN       NaN  \n",
      "1  -95.017928     NaN  NaN       NaN    NaN       NaN  \n",
      "2 -104.569893     NaN  NaN       NaN    NaN       NaN  \n",
      "3  -78.052081     NaN  NaN       NaN    NaN       NaN  \n",
      "4  -81.905944     NaN  NaN       NaN    NaN       NaN  \n",
      "0         NaN      2B  KZN       NaN    0.0       CR2  \n",
      "1         NaN      2B  MRV       NaN    0.0       CR2  \n",
      "2         NaN      2B  KZN       NaN    0.0       CR2  \n",
      "3         NaN      2B  OVB       NaN    0.0       CR2  \n",
      "4         NaN      2B  KZN       NaN    0.0       CR2  \n",
      "5  -88.201111     NaN  NaN       NaN    NaN       NaN  \n",
      "6  -86.611453     NaN  NaN       NaN    NaN       NaN  \n",
      "7  -88.177869     NaN  NaN       NaN    NaN       NaN  \n",
      "8  -80.641406     NaN  NaN       NaN    NaN       NaN  \n",
      "9  -92.226961     NaN  NaN       NaN    NaN       NaN  \n",
      "Horizontal concat:\n",
      "   iata               airport              city state country        lat  \\\n",
      "0  00M              Thigpen        Bay Springs    MS     USA  31.953765   \n",
      "1  00R  Livingston Municipal        Livingston    TX     USA  30.685861   \n",
      "2  00V           Meadow Lake  Colorado Springs    CO     USA  38.945749   \n",
      "3  01G          Perry-Warsaw             Perry    NY     USA  42.741347   \n",
      "4  01J      Hilliard Airpark          Hilliard    FL     USA  30.688012   \n",
      "5  NaN                   NaN               NaN   NaN     NaN        NaN   \n",
      "6  NaN                   NaN               NaN   NaN     NaN        NaN   \n",
      "7  NaN                   NaN               NaN   NaN     NaN        NaN   \n",
      "8  NaN                   NaN               NaN   NaN     NaN        NaN   \n",
      "9  NaN                   NaN               NaN   NaN     NaN        NaN   \n",
      "\n",
      "          lon airline iata dest codeshare  stops equipment iata  \\\n",
      "0  -89.234505      2B  ASF  KZN       NaN    0.0       CR2  NaN   \n",
      "1  -95.017928      2B  ASF  MRV       NaN    0.0       CR2  NaN   \n",
      "2 -104.569893      2B  CEK  KZN       NaN    0.0       CR2  NaN   \n",
      "3  -78.052081      2B  CEK  OVB       NaN    0.0       CR2  NaN   \n",
      "4  -81.905944      2B  DME  KZN       NaN    0.0       CR2  NaN   \n",
      "5         NaN     NaN  NaN  NaN       NaN    NaN       NaN  01M   \n",
      "6         NaN     NaN  NaN  NaN       NaN    NaN       NaN  02A   \n",
      "7         NaN     NaN  NaN  NaN       NaN    NaN       NaN  02C   \n",
      "8         NaN     NaN  NaN  NaN       NaN    NaN       NaN  02G   \n",
      "9         NaN     NaN  NaN  NaN       NaN    NaN       NaN  03D   \n",
      "\n",
      "             airport            city state country        lat        lon  \n",
      "0                NaN             NaN   NaN     NaN        NaN        NaN  \n",
      "1                NaN             NaN   NaN     NaN        NaN        NaN  \n",
      "2                NaN             NaN   NaN     NaN        NaN        NaN  \n",
      "3                NaN             NaN   NaN     NaN        NaN        NaN  \n",
      "4                NaN             NaN   NaN     NaN        NaN        NaN  \n",
      "5  Tishomingo County         Belmont    MS     USA  34.491667 -88.201111  \n",
      "6        Gragg-Wade          Clanton    AL     USA  32.850487 -86.611453  \n",
      "7            Capitol      Brookfield    WI     USA  43.087510 -88.177869  \n",
      "8  Columbiana County  East Liverpool    OH     USA  40.673313 -80.641406  \n",
      "9   Memphis Memorial         Memphis    MO     USA  40.447259 -92.226961  \n"
     ]
    }
   ],
   "source": [
    "# vertical concatenate\n",
    "first_airports = airports.head()\n",
    "first_routes = routes.head().copy()\n",
    "second_airports = airports.iloc[5:10]\n",
    "first_routes.rename(columns={'src': 'iata'}, inplace=True)\n",
    "print(\"Vertical concat:\\n\", pd.concat([first_airports, first_routes, second_airports], axis=0))\n",
    "print(\"Horizontal concat:\\n\", pd.concat([first_airports, first_routes, second_airports], axis=1))"
   ]
  }
 ],
 "metadata": {
  "interpreter": {
   "hash": "3d597f4c481aa0f25dceb95d2a0067e73c0966dcbd003d741d821a7208527ecf"
  },
  "kernelspec": {
   "display_name": "Python 3.9.7 64-bit ('base': conda)",
   "name": "python3"
  },
  "language_info": {
   "codemirror_mode": {
    "name": "ipython",
    "version": 3
   },
   "file_extension": ".py",
   "mimetype": "text/x-python",
   "name": "python",
   "nbconvert_exporter": "python",
   "pygments_lexer": "ipython3",
   "version": "3.9.7"
  },
  "metadata": {
   "interpreter": {
    "hash": "caf2427215b6d06207a2df1796b9e7a68226f163882bdffe10c7edd9425ce4b4"
   }
  }
 },
 "nbformat": 4,
 "nbformat_minor": 4
}
