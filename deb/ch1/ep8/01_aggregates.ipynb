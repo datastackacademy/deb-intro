{
 "cells": [
  {
   "cell_type": "markdown",
   "metadata": {},
   "source": [
    "\n",
    "<br/>\n",
    "\n",
    "### Aggregates\n",
    "\n",
    "Pandas provides a `.groupby()` method which makes it easy to compute aggregates over the DataFrame. This is very handy to find things like sums, counts, min. and max values.\n",
    "\n",
    "The example below shows how to use `count()`, `sum()`, `min()`, and `max()`:"
   ]
  },
  {
   "cell_type": "code",
   "execution_count": 12,
   "metadata": {},
   "outputs": [
    {
     "name": "stdout",
     "output_type": "stream",
     "text": [
      "Routes per src:\n",
      " src\n",
      "AAE     9\n",
      "AAL    20\n",
      "AAN     2\n",
      "AAQ     3\n",
      "AAR     8\n",
      "AAT     2\n",
      "AAX     1\n",
      "AAY     1\n",
      "ABA     4\n",
      "ABB     2\n",
      "Name: src, dtype: int64\n",
      "Stops per dest:\n",
      " dest\n",
      "AAE    0\n",
      "AAL    0\n",
      "AAN    0\n",
      "AAQ    0\n",
      "AAR    0\n",
      "AAT    0\n",
      "AAX    0\n",
      "AAY    0\n",
      "ABA    0\n",
      "ABB    0\n",
      "Name: stops, dtype: int64\n",
      "Max stops per src:\n",
      " src\n",
      "BOS    1\n",
      "YRT    1\n",
      "HOU    1\n",
      "ARN    1\n",
      "YVR    1\n",
      "Name: stops, dtype: int64\n",
      "Min stops per src:\n",
      " src\n",
      "AAE    0\n",
      "AAL    0\n",
      "AAN    0\n",
      "AAQ    0\n",
      "AAR    0\n",
      "Name: stops, dtype: int64\n"
     ]
    }
   ],
   "source": [
    "import pandas as pd\n",
    "\n",
    "# read data fom csv\n",
    "data_dir = '../../../data/input/ch1/'\n",
    "routes_file = data_dir + 'routes.csv'\n",
    "routes = pd.read_csv(routes_file, header=0)\n",
    "\n",
    "# get count of routes leaving a src\n",
    "routes_per_src = routes.groupby('src').src.count()\n",
    "\n",
    "# get total stops leading to each dest\n",
    "stops_per_dest = routes.groupby('dest').stops.sum()\n",
    "\n",
    "# get max stops per src\n",
    "max_stops_src = routes.groupby('src').stops.max()\n",
    "\n",
    "# get min stops per src\n",
    "min_stops_src = routes.groupby('src').stops.min()\n",
    "\n",
    "print(\"Routes per src:\\n\", routes_per_src.head(10))\n",
    "print(\"Stops per dest:\\n\", stops_per_dest.head(10))\n",
    "print(\"Max stops per src:\\n\", max_stops_src.sort_values(ascending=False).head())\n",
    "print(\"Min stops per src:\\n\", min_stops_src.head())"
   ]
  },
  {
   "cell_type": "markdown",
   "metadata": {},
   "source": [
    "\n",
    "<br/>\n",
    "\n",
    "### Multiple Aggregates Using .agg()\n",
    "\n",
    "Alternatively, pandas provides the `.agg()` method to apply multiple aggregates on a column at the same time. You can accomplish the same results much more concisely by using the `.agg()` method such as:\n"
   ]
  },
  {
   "cell_type": "code",
   "execution_count": 6,
   "metadata": {},
   "outputs": [
    {
     "name": "stdout",
     "output_type": "stream",
     "text": [
      "     len  sum  min  max\n",
      "src                    \n",
      "AAE    9    0    0    0\n",
      "AAL   20    0    0    0\n",
      "AAN    2    0    0    0\n",
      "AAQ    3    0    0    0\n",
      "AAR    8    0    0    0\n"
     ]
    }
   ],
   "source": [
    "# create a grouped series\n",
    "grouped = routes.groupby('src').stops.agg([len, sum, min, max])\n",
    "print(grouped.head(5))\n"
   ]
  },
  {
   "cell_type": "markdown",
   "metadata": {},
   "source": [
    "\n",
    "<br/>\n",
    "\n",
    "### GroupBy Multiple Columns\n",
    "\n",
    "You can pass an array of columns to `groupby()` method to aggregate by multiple columns at the same time. The example below calculates flight counts per airline route (airline, src, dest):"
   ]
  },
  {
   "cell_type": "code",
   "execution_count": 9,
   "metadata": {},
   "outputs": [
    {
     "data": {
      "text/plain": [
       "src  dest\n",
       "AAE  ALG     1\n",
       "     CDG     1\n",
       "     IST     1\n",
       "     LYS     1\n",
       "     MRS     2\n",
       "     ORN     1\n",
       "     ORY     2\n",
       "AAL  AAR     1\n",
       "     AGP     1\n",
       "     ALC     1\n",
       "     AMS     2\n",
       "     ARN     1\n",
       "     BCN     2\n",
       "     BLL     3\n",
       "     CPH     2\n",
       "     IST     1\n",
       "     LGW     1\n",
       "     OSL     3\n",
       "     PMI     1\n",
       "     SVG     1\n",
       "AAN  CCJ     1\n",
       "     PEW     1\n",
       "AAQ  DME     1\n",
       "     LED     1\n",
       "     SVO     1\n",
       "Name: src, dtype: int64"
      ]
     },
     "execution_count": 9,
     "metadata": {},
     "output_type": "execute_result"
    }
   ],
   "source": [
    "# get flight counts for distinct routes\n",
    "routes_per_pair = routes.groupby(['src', 'dest']).src.count()\n",
    "routes_per_pair.head(25)"
   ]
  }
 ],
 "metadata": {
  "kernelspec": {
   "display_name": "Python 3.8.5 64-bit ('tura-env': virtualenvwrapper)",
   "name": "python385jvsc74a57bd0caf2427215b6d06207a2df1796b9e7a68226f163882bdffe10c7edd9425ce4b4"
  },
  "language_info": {
   "codemirror_mode": {
    "name": "ipython",
    "version": 3
   },
   "file_extension": ".py",
   "mimetype": "text/x-python",
   "name": "python",
   "nbconvert_exporter": "python",
   "pygments_lexer": "ipython3",
   "version": "3.8.5"
  },
  "metadata": {
   "interpreter": {
    "hash": "caf2427215b6d06207a2df1796b9e7a68226f163882bdffe10c7edd9425ce4b4"
   }
  }
 },
 "nbformat": 4,
 "nbformat_minor": 4
}
