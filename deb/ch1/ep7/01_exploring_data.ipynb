{
 "cells": [
  {
   "cell_type": "markdown",
   "metadata": {},
   "source": [
    "# Exploring Data with Pandas\n",
    "\n",
    "This notebook walks through examples of exploratory data analysis with Pandas. See the [episode README](README.md) for full discussion."
   ]
  },
  {
   "cell_type": "code",
   "execution_count": 5,
   "metadata": {},
   "outputs": [],
   "source": [
    "import pandas as pd"
   ]
  },
  {
   "cell_type": "code",
   "execution_count": 3,
   "metadata": {},
   "outputs": [],
   "source": [
    "data_dir = '../../../data/input/ch1/'\n",
    "airports_file = data_dir + 'airports.csv'\n",
    "routes_file = data_dir + 'routes.csv'"
   ]
  },
  {
   "cell_type": "code",
   "execution_count": 3,
   "metadata": {},
   "outputs": [
    {
     "name": "stdout",
     "output_type": "stream",
     "text": [
      "  airline  src dest codeshare  stops equipment\n",
      "0      2B  ASF  KZN       NaN      0       CR2\n",
      "1      2B  ASF  MRV       NaN      0       CR2\n",
      "2      2B  CEK  KZN       NaN      0       CR2\n",
      "3      2B  CEK  OVB       NaN      0       CR2\n",
      "4      2B  DME  KZN       NaN      0       CR2\n",
      "  airline  src dest codeshare  stops equipment\n",
      "0      2B  ASF  KZN       NaN      0       CR2\n",
      "1      2B  ASF  MRV       NaN      0       CR2\n",
      "      airline  src dest codeshare  stops equipment\n",
      "67659      ZM  FRU  DME       NaN      0       734\n",
      "67660      ZM  FRU  OSS       NaN      0       734\n",
      "67661      ZM  OSS  FRU       NaN      0       734\n",
      "(67662, 6)\n",
      "<class 'pandas.core.frame.DataFrame'>\n",
      "RangeIndex: 67662 entries, 0 to 67661\n",
      "Data columns (total 6 columns):\n",
      " #   Column     Non-Null Count  Dtype \n",
      "---  ------     --------------  ----- \n",
      " 0   airline    67662 non-null  object\n",
      " 1   src        67662 non-null  object\n",
      " 2   dest       67662 non-null  object\n",
      " 3   codeshare  14597 non-null  object\n",
      " 4   stops      67662 non-null  int64 \n",
      " 5   equipment  67644 non-null  object\n",
      "dtypes: int64(1), object(5)\n",
      "memory usage: 3.1+ MB\n"
     ]
    }
   ],
   "source": [
    "routes = pd.read_csv(routes_file, header=0)\n",
    "print(routes.head())\n",
    "print(routes.head(2))\n",
    "print(routes.tail(3))\n",
    "print(routes.shape)\n",
    "routes.info()"
   ]
  },
  {
   "cell_type": "markdown",
   "metadata": {},
   "source": [
    "Another useful preview function is count(), which can help us quickly identify columns with missing values:"
   ]
  },
  {
   "cell_type": "code",
   "execution_count": 5,
   "metadata": {},
   "outputs": [
    {
     "name": "stdout",
     "output_type": "stream",
     "text": [
      "airline      67662\n",
      "src          67662\n",
      "dest         67662\n",
      "codeshare    14597\n",
      "stops        67662\n",
      "equipment    67644\n",
      "dtype: int64\n"
     ]
    }
   ],
   "source": [
    "print(routes.count())"
   ]
  },
  {
   "cell_type": "code",
   "execution_count": 7,
   "metadata": {},
   "outputs": [
    {
     "name": "stdout",
     "output_type": "stream",
     "text": [
      "<class 'pandas.core.frame.DataFrame'>\n",
      "RangeIndex: 67662 entries, 0 to 67661\n",
      "Data columns (total 6 columns):\n",
      " #   Column     Non-Null Count  Dtype \n",
      "---  ------     --------------  ----- \n",
      " 0   airline    67662 non-null  object\n",
      " 1   src        67662 non-null  object\n",
      " 2   dest       67662 non-null  object\n",
      " 3   codeshare  14597 non-null  object\n",
      " 4   stops      67662 non-null  int64 \n",
      " 5   equipment  67644 non-null  object\n",
      "dtypes: int64(1), object(5)\n",
      "memory usage: 3.1+ MB\n",
      "None\n"
     ]
    }
   ],
   "source": [
    "print(routes.info())"
   ]
  },
  {
   "cell_type": "code",
   "execution_count": 6,
   "metadata": {},
   "outputs": [
    {
     "name": "stdout",
     "output_type": "stream",
     "text": [
      "              stops\n",
      "count  67662.000000\n",
      "mean       0.000163\n",
      "std        0.012749\n",
      "min        0.000000\n",
      "25%        0.000000\n",
      "50%        0.000000\n",
      "75%        0.000000\n",
      "max        1.000000\n"
     ]
    }
   ],
   "source": [
    "print(routes.describe())"
   ]
  },
  {
   "cell_type": "code",
   "execution_count": 14,
   "metadata": {},
   "outputs": [
    {
     "name": "stdout",
     "output_type": "stream",
     "text": [
      "Fewest stops: 0\n",
      " Most stops: 1\n"
     ]
    }
   ],
   "source": [
    "print(f\"Fewest stops: {routes.stops.min()}\\n Most stops: {routes.stops.max()}\")"
   ]
  },
  {
   "cell_type": "code",
   "execution_count": 8,
   "metadata": {},
   "outputs": [
    {
     "name": "stdout",
     "output_type": "stream",
     "text": [
      "(67662, 6)\n",
      "(67662, 6)\n",
      "(37594, 6)\n"
     ]
    }
   ],
   "source": [
    "print(routes.drop_duplicates().shape)\n",
    "print(routes.drop_duplicates(ignore_index=True).shape)\n",
    "print(routes.drop_duplicates(ignore_index=True, subset=['src', 'dest']).shape)"
   ]
  },
  {
   "cell_type": "markdown",
   "metadata": {},
   "source": [
    "from pandas_profiling import ProfileReport\n",
    "\n",
    "profile = ProfileReport(routes, title=\"Pandas Profiling Report\")\n",
    "profile.to_notebook_iframe()"
   ]
  },
  {
   "cell_type": "code",
   "execution_count": 6,
   "metadata": {},
   "outputs": [
    {
     "name": "stdout",
     "output_type": "stream",
     "text": [
      "    fruit        day  count\n",
      "0   apple      today      4\n",
      "1  cherry  yesterday      1\n",
      "2   apple  yesterday      1\n",
      "3   apple  yesterday      1\n",
      "4  cherry      today      4\n",
      "<class 'pandas.core.frame.DataFrame'>\n",
      "RangeIndex: 25 entries, 0 to 24\n",
      "Data columns (total 3 columns):\n",
      " #   Column  Non-Null Count  Dtype \n",
      "---  ------  --------------  ----- \n",
      " 0   fruit   25 non-null     object\n",
      " 1   day     25 non-null     object\n",
      " 2   count   25 non-null     int64 \n",
      "dtypes: int64(1), object(2)\n",
      "memory usage: 728.0+ bytes\n",
      "None\n"
     ]
    }
   ],
   "source": [
    "fruit_file = data_dir + 'fruits.csv'\n",
    "fruits = pd.read_csv(fruit_file, names=['fruit', 'day', 'count'])\n",
    "print(fruits.head())\n",
    "print(fruits.info())"
   ]
  },
  {
   "cell_type": "code",
   "execution_count": 30,
   "metadata": {},
   "outputs": [
    {
     "name": "stdout",
     "output_type": "stream",
     "text": [
      "count    68\n",
      "dtype: int64\n",
      "    count\n",
      "0       4\n",
      "2       1\n",
      "3       1\n",
      "5       1\n",
      "7       4\n",
      "10      5\n",
      "11      5\n",
      "14      1\n",
      "20      4\n",
      "count    26\n",
      "dtype: int64\n",
      "count    2.888889\n",
      "dtype: float64\n",
      "count    9\n",
      "dtype: int64\n"
     ]
    }
   ],
   "source": [
    "print(fruits[['count']].sum())\n",
    "apple_count = fruits[fruits.fruit == 'apple'][['count']]\n",
    "print(apple_count)\n",
    "print(apple_count.sum())\n",
    "print(apple_count.mean())\n",
    "print(apple_count.count())"
   ]
  },
  {
   "cell_type": "code",
   "execution_count": 25,
   "metadata": {},
   "outputs": [
    {
     "data": {
      "text/html": [
       "<div>\n",
       "<style scoped>\n",
       "    .dataframe tbody tr th:only-of-type {\n",
       "        vertical-align: middle;\n",
       "    }\n",
       "\n",
       "    .dataframe tbody tr th {\n",
       "        vertical-align: top;\n",
       "    }\n",
       "\n",
       "    .dataframe thead th {\n",
       "        text-align: right;\n",
       "    }\n",
       "</style>\n",
       "<table border=\"1\" class=\"dataframe\">\n",
       "  <thead>\n",
       "    <tr style=\"text-align: right;\">\n",
       "      <th></th>\n",
       "      <th>fruit</th>\n",
       "      <th>day</th>\n",
       "      <th>count</th>\n",
       "    </tr>\n",
       "  </thead>\n",
       "  <tbody>\n",
       "    <tr>\n",
       "      <th>0</th>\n",
       "      <td>apple</td>\n",
       "      <td>today</td>\n",
       "      <td>4</td>\n",
       "    </tr>\n",
       "    <tr>\n",
       "      <th>1</th>\n",
       "      <td>cherry</td>\n",
       "      <td>yesterday</td>\n",
       "      <td>1</td>\n",
       "    </tr>\n",
       "    <tr>\n",
       "      <th>2</th>\n",
       "      <td>apple</td>\n",
       "      <td>yesterday</td>\n",
       "      <td>1</td>\n",
       "    </tr>\n",
       "    <tr>\n",
       "      <th>3</th>\n",
       "      <td>apple</td>\n",
       "      <td>yesterday</td>\n",
       "      <td>1</td>\n",
       "    </tr>\n",
       "    <tr>\n",
       "      <th>4</th>\n",
       "      <td>cherry</td>\n",
       "      <td>today</td>\n",
       "      <td>4</td>\n",
       "    </tr>\n",
       "  </tbody>\n",
       "</table>\n",
       "</div>"
      ],
      "text/plain": [
       "    fruit        day  count\n",
       "0   apple      today      4\n",
       "1  cherry  yesterday      1\n",
       "2   apple  yesterday      1\n",
       "3   apple  yesterday      1\n",
       "4  cherry      today      4"
      ]
     },
     "execution_count": 25,
     "metadata": {},
     "output_type": "execute_result"
    }
   ],
   "source": [
    "fruits.head()"
   ]
  },
  {
   "cell_type": "code",
   "execution_count": 32,
   "metadata": {},
   "outputs": [
    {
     "name": "stdout",
     "output_type": "stream",
     "text": [
      "     fruit        day  count\n",
      "1   cherry  yesterday      1\n",
      "2    apple  yesterday      1\n",
      "3    apple  yesterday      1\n",
      "5    apple  yesterday      1\n",
      "18  cherry  yesterday      1\n",
      "23  cherry  yesterday      1\n",
      "14   apple      today      1\n",
      "17  banana      today      2\n",
      "22  cherry  yesterday      2\n",
      "21  cherry  yesterday      2\n",
      "9   cherry  yesterday      2\n",
      "19  cherry  yesterday      2\n",
      "13  banana  yesterday      2\n",
      "6   cherry      today      3\n",
      "15  cherry      today      3\n",
      "0    apple      today      4\n",
      "20   apple      today      4\n",
      "12  cherry  yesterday      4\n",
      "8   cherry      today      4\n",
      "7    apple      today      4\n",
      "4   cherry      today      4\n",
      "24  cherry  yesterday      4\n",
      "11   apple  yesterday      5\n",
      "10   apple      today      5\n",
      "16  cherry  yesterday      5\n",
      "     fruit        day  count\n",
      "0    apple      today      4\n",
      "2    apple  yesterday      1\n",
      "3    apple  yesterday      1\n",
      "5    apple  yesterday      1\n",
      "20   apple      today      4\n",
      "7    apple      today      4\n",
      "10   apple      today      5\n",
      "11   apple  yesterday      5\n",
      "14   apple      today      1\n",
      "17  banana      today      2\n",
      "13  banana  yesterday      2\n",
      "22  cherry  yesterday      2\n",
      "21  cherry  yesterday      2\n",
      "19  cherry  yesterday      2\n",
      "18  cherry  yesterday      1\n",
      "16  cherry  yesterday      5\n",
      "12  cherry  yesterday      4\n",
      "23  cherry  yesterday      1\n",
      "9   cherry  yesterday      2\n",
      "8   cherry      today      4\n",
      "6   cherry      today      3\n",
      "4   cherry      today      4\n",
      "1   cherry  yesterday      1\n",
      "15  cherry      today      3\n",
      "24  cherry  yesterday      4\n"
     ]
    }
   ],
   "source": [
    "print(fruits.sort_values(['count']))\n",
    "print(fruits.sort_values(['fruit']))"
   ]
  },
  {
   "cell_type": "code",
   "execution_count": 33,
   "metadata": {},
   "outputs": [
    {
     "name": "stdout",
     "output_type": "stream",
     "text": [
      "      airline  src dest codeshare  stops equipment\n",
      "10180      AH  IST  AAE       NaN      0       738\n",
      "10134      AH  CDG  AAE       NaN      0       738\n",
      "10238      AH  ORY  AAE       NaN      0       736\n",
      "10220      AH  ORN  AAE       NaN      0       ATR\n",
      "67471      ZI  MRS  AAE       NaN      0       319\n"
     ]
    }
   ],
   "source": [
    "print(routes.sort_values(['dest']).head())"
   ]
  },
  {
   "cell_type": "code",
   "execution_count": 9,
   "metadata": {},
   "outputs": [
    {
     "name": "stdout",
     "output_type": "stream",
     "text": [
      "     fruit        day  count\n",
      "0    apple      today      4\n",
      "1   cherry  yesterday      1\n",
      "2    apple  yesterday      1\n",
      "3    apple  yesterday      1\n",
      "4   cherry      today      4\n",
      "5    apple  yesterday      1\n",
      "6   cherry      today      3\n",
      "7    apple      today      4\n",
      "8   cherry      today      4\n",
      "9   cherry  yesterday      2\n",
      "10   apple      today      5\n",
      "11   apple  yesterday      5\n",
      "12  cherry  yesterday      4\n",
      "13  banana  yesterday      2\n",
      "14   apple      today      1\n",
      "15  cherry      today      3\n",
      "16  cherry  yesterday      5\n",
      "17  banana      today      2\n",
      "18  cherry  yesterday      1\n",
      "19  cherry  yesterday      2\n",
      "20   apple      today      4\n",
      "21  cherry  yesterday      2\n",
      "22  cherry  yesterday      2\n",
      "23  cherry  yesterday      1\n",
      "24  cherry  yesterday      4\n",
      "    count        day   fruit\n",
      "0       4      today   apple\n",
      "1       1  yesterday  cherry\n",
      "2       1  yesterday   apple\n",
      "3       1  yesterday   apple\n",
      "4       4      today  cherry\n",
      "5       1  yesterday   apple\n",
      "6       3      today  cherry\n",
      "7       4      today   apple\n",
      "8       4      today  cherry\n",
      "9       2  yesterday  cherry\n",
      "10      5      today   apple\n",
      "11      5  yesterday   apple\n",
      "12      4  yesterday  cherry\n",
      "13      2  yesterday  banana\n",
      "14      1      today   apple\n",
      "15      3      today  cherry\n",
      "16      5  yesterday  cherry\n",
      "17      2      today  banana\n",
      "18      1  yesterday  cherry\n",
      "19      2  yesterday  cherry\n",
      "20      4      today   apple\n",
      "21      2  yesterday  cherry\n",
      "22      2  yesterday  cherry\n",
      "23      1  yesterday  cherry\n",
      "24      4  yesterday  cherry\n"
     ]
    }
   ],
   "source": [
    "# sort on the row index\n",
    "print(fruits.sort_index(axis = 0))\n",
    "\n",
    "# sort on the column labels\n",
    "print(fruits.sort_index(axis = 1))"
   ]
  },
  {
   "cell_type": "code",
   "execution_count": 12,
   "metadata": {},
   "outputs": [
    {
     "name": "stdout",
     "output_type": "stream",
     "text": [
      "     fruit        day  count\n",
      "12  cherry  yesterday      4\n",
      "1   cherry  yesterday      1\n",
      "23  cherry  yesterday      1\n",
      "22  cherry  yesterday      2\n",
      "21  cherry  yesterday      2\n",
      "19  cherry  yesterday      2\n",
      "18  cherry  yesterday      1\n",
      "16  cherry  yesterday      5\n",
      "15  cherry      today      3\n",
      "24  cherry  yesterday      4\n",
      "9   cherry  yesterday      2\n",
      "8   cherry      today      4\n",
      "6   cherry      today      3\n",
      "4   cherry      today      4\n",
      "13  banana  yesterday      2\n",
      "17  banana      today      2\n",
      "10   apple      today      5\n",
      "11   apple  yesterday      5\n",
      "14   apple      today      1\n",
      "7    apple      today      4\n",
      "5    apple  yesterday      1\n",
      "20   apple      today      4\n",
      "3    apple  yesterday      1\n",
      "2    apple  yesterday      1\n",
      "0    apple      today      4\n"
     ]
    }
   ],
   "source": [
    "print(fruits.sort_values(by = \"fruit\", ascending = False))"
   ]
  },
  {
   "cell_type": "markdown",
   "metadata": {},
   "source": [
    "We can also sort by multiple columns in a single operation using `sort_values()`. To do this, we pass `sort_values()` a list of column names as the first argument, with a corresponding tuple of booleans specifying sort directions as the second argument:"
   ]
  },
  {
   "cell_type": "code",
   "execution_count": 8,
   "metadata": {},
   "outputs": [
    {
     "name": "stdout",
     "output_type": "stream",
     "text": [
      "     fruit        day  count\n",
      "10   apple      today      5\n",
      "11   apple  yesterday      5\n",
      "0    apple      today      4\n",
      "7    apple      today      4\n",
      "20   apple      today      4\n",
      "14   apple      today      1\n",
      "2    apple  yesterday      1\n",
      "3    apple  yesterday      1\n",
      "5    apple  yesterday      1\n",
      "17  banana      today      2\n",
      "13  banana  yesterday      2\n",
      "16  cherry  yesterday      5\n",
      "4   cherry      today      4\n",
      "8   cherry      today      4\n",
      "12  cherry  yesterday      4\n",
      "24  cherry  yesterday      4\n",
      "6   cherry      today      3\n",
      "15  cherry      today      3\n",
      "9   cherry  yesterday      2\n",
      "19  cherry  yesterday      2\n",
      "21  cherry  yesterday      2\n",
      "22  cherry  yesterday      2\n",
      "1   cherry  yesterday      1\n",
      "18  cherry  yesterday      1\n",
      "23  cherry  yesterday      1\n"
     ]
    }
   ],
   "source": [
    "print(fruits.sort_values([\"fruit\", \"count\", \"day\"], ascending = (True, False, True)))"
   ]
  },
  {
   "cell_type": "markdown",
   "metadata": {},
   "source": [
    "We can see that this example produces a result where the records are sorted as follows:\n",
    "1. by the fruit name, in ascending order\n",
    "2. by fruit count, in descending order\n",
    "3. by day, in ascending order"
   ]
  }
 ],
 "metadata": {
  "interpreter": {
   "hash": "3d597f4c481aa0f25dceb95d2a0067e73c0966dcbd003d741d821a7208527ecf"
  },
  "kernelspec": {
   "display_name": "Python 3.9.7 64-bit ('base': conda)",
   "name": "python3"
  },
  "language_info": {
   "codemirror_mode": {
    "name": "ipython",
    "version": 3
   },
   "file_extension": ".py",
   "mimetype": "text/x-python",
   "name": "python",
   "nbconvert_exporter": "python",
   "pygments_lexer": "ipython3",
   "version": "3.9.7"
  },
  "metadata": {
   "interpreter": {
    "hash": "51603b686d13537f1859a78d550faee8565bb562a456d83c7cf61df0765e39df"
   }
  }
 },
 "nbformat": 4,
 "nbformat_minor": 4
}
