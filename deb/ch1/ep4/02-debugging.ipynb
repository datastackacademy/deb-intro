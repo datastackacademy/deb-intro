{
 "cells": [
  {
   "cell_type": "markdown",
   "metadata": {},
   "source": [
    "# Python Debugging\n",
    "\n",
    "As a programmer and data engineer, you will often encounter unexpected behavior from your code, and will need to be able to diagnose the problem and find a solution. That process, of finding and resolving errors (bugs) in your program, is called *debugging*. Debugging is part art and part science - sometimes correcting program errors can be surprisingly difficult. We will only discuss the basics of Python debugging here, but if you are interested to learn more, see the additional links at the bottom of this document. \n",
    "\n",
    "## Common Errors\n",
    "\n",
    "First, let's take a look at some of the most commonly encountered errors.\n",
    "\n",
    "### Syntax Error\n",
    "\n",
    "Syntax errors result from things like missing colons or parentheses, or incorrect use of white space. Here's an example of forgetting a colon at the end of a line in a function definition, which will generate a `SyntaxError`:"
   ]
  },
  {
   "cell_type": "code",
   "execution_count": 2,
   "metadata": {},
   "outputs": [
    {
     "ename": "SyntaxError",
     "evalue": "invalid syntax (92591035.py, line 1)",
     "output_type": "error",
     "traceback": [
      "\u001b[0;36m  File \u001b[0;32m\"/var/folders/p7/1230cnn96dl9pk5c3fbjl5y00000gn/T/ipykernel_98273/92591035.py\"\u001b[0;36m, line \u001b[0;32m1\u001b[0m\n\u001b[0;31m    def hello_world()\u001b[0m\n\u001b[0m                     ^\u001b[0m\n\u001b[0;31mSyntaxError\u001b[0m\u001b[0;31m:\u001b[0m invalid syntax\n"
     ]
    }
   ],
   "source": [
    "def hello_world()\n",
    "    message = \"Hello, world!\"\n",
    "    print(message)\n",
    "     return message\n"
   ]
  },
  {
   "cell_type": "markdown",
   "metadata": {},
   "source": [
    "Syntax errors are usually easy to correct, but can sometimes be tricky. In the next example, we have corrected the problem with the missing colon, but now there is a different issue with the code:"
   ]
  },
  {
   "cell_type": "code",
   "execution_count": 3,
   "metadata": {},
   "outputs": [
    {
     "ename": "TabError",
     "evalue": "inconsistent use of tabs and spaces in indentation (4101766056.py, line 4)",
     "output_type": "error",
     "traceback": [
      "\u001b[0;36m  File \u001b[0;32m\"/var/folders/p7/1230cnn96dl9pk5c3fbjl5y00000gn/T/ipykernel_98273/4101766056.py\"\u001b[0;36m, line \u001b[0;32m4\u001b[0m\n\u001b[0;31m    return message\u001b[0m\n\u001b[0m                  ^\u001b[0m\n\u001b[0;31mTabError\u001b[0m\u001b[0;31m:\u001b[0m inconsistent use of tabs and spaces in indentation\n"
     ]
    }
   ],
   "source": [
    "def hello_world():\n",
    "\tmessage = \"Hello, World!!\"\n",
    "\tprint(message)\n",
    "        return message"
   ]
  },
  {
   "cell_type": "markdown",
   "metadata": {},
   "source": [
    "The Python interpreter helpfully tells us the problem (inconsistent use of tabs and spaces). But this error is not quite as straightforward, because the location given in the traceback (the end of the return statement line) is not the actual location of the tab error. And it is not obvious where the mixed tabs and spaces are, because they both look the same to our eye, even though the underlying character representation of what we see is not the same. The fallback when fixing these sorts of errors is to go through your code line by line in the region of the error, delete the whitespace, and correct the indentation, keeping your use of tabs (or spaces, whichever you pick) consistent.\n",
    "\n",
    "<br>\n",
    "\n",
    "### Name Error\n",
    "\n",
    "A `NameError` occurs when you try to use a variable that has not been defined yet, and thus does not exist in your Python namespace. Let's take a look:"
   ]
  },
  {
   "cell_type": "code",
   "execution_count": 5,
   "metadata": {},
   "outputs": [
    {
     "ename": "NameError",
     "evalue": "name 'my_new_variable' is not defined",
     "output_type": "error",
     "traceback": [
      "\u001b[0;31m---------------------------------------------------------------------------\u001b[0m",
      "\u001b[0;31mNameError\u001b[0m                                 Traceback (most recent call last)",
      "\u001b[0;32m/var/folders/p7/1230cnn96dl9pk5c3fbjl5y00000gn/T/ipykernel_98273/1110381204.py\u001b[0m in \u001b[0;36m<module>\u001b[0;34m\u001b[0m\n\u001b[1;32m      1\u001b[0m \u001b[0;31m# a is not define, so we get a NameError\u001b[0m\u001b[0;34m\u001b[0m\u001b[0;34m\u001b[0m\u001b[0m\n\u001b[0;32m----> 2\u001b[0;31m \u001b[0mprint\u001b[0m\u001b[0;34m(\u001b[0m\u001b[0mmy_new_variable\u001b[0m\u001b[0;34m)\u001b[0m\u001b[0;34m\u001b[0m\u001b[0;34m\u001b[0m\u001b[0m\n\u001b[0m",
      "\u001b[0;31mNameError\u001b[0m: name 'my_new_variable' is not defined"
     ]
    }
   ],
   "source": [
    "# my_new_variable is not defined, so we get a NameError\n",
    "print(my_new_variable)"
   ]
  },
  {
   "cell_type": "markdown",
   "metadata": {},
   "source": [
    "### IndexError\n",
    "\n",
    "Another common error type is the `IndexError`. This occurs when we try to access an element in a list or other object with an index that is out of range:"
   ]
  },
  {
   "cell_type": "code",
   "execution_count": 6,
   "metadata": {},
   "outputs": [
    {
     "ename": "IndexError",
     "evalue": "range object index out of range",
     "output_type": "error",
     "traceback": [
      "\u001b[0;31m---------------------------------------------------------------------------\u001b[0m",
      "\u001b[0;31mIndexError\u001b[0m                                Traceback (most recent call last)",
      "\u001b[0;32m/var/folders/p7/1230cnn96dl9pk5c3fbjl5y00000gn/T/ipykernel_9734/1408825302.py\u001b[0m in \u001b[0;36m<module>\u001b[0;34m\u001b[0m\n\u001b[1;32m      1\u001b[0m \u001b[0mmy_list\u001b[0m \u001b[0;34m=\u001b[0m \u001b[0mrange\u001b[0m\u001b[0;34m(\u001b[0m\u001b[0;36m10\u001b[0m\u001b[0;34m)\u001b[0m\u001b[0;34m\u001b[0m\u001b[0;34m\u001b[0m\u001b[0m\n\u001b[1;32m      2\u001b[0m \u001b[0;34m\u001b[0m\u001b[0m\n\u001b[0;32m----> 3\u001b[0;31m \u001b[0mmy_list\u001b[0m\u001b[0;34m[\u001b[0m\u001b[0;36m11\u001b[0m\u001b[0;34m]\u001b[0m\u001b[0;34m\u001b[0m\u001b[0;34m\u001b[0m\u001b[0m\n\u001b[0m",
      "\u001b[0;31mIndexError\u001b[0m: range object index out of range"
     ]
    }
   ],
   "source": [
    "my_list = range(10)\n",
    "\n",
    "my_list[11]"
   ]
  },
  {
   "cell_type": "markdown",
   "metadata": {},
   "source": [
    "\n",
    "The easiest and most common debugging method in Python does not involve any special tools - we have been using it already throughout this tutorial. Whenever your code generates an error, the Python interpreter will automatically print out a [traceback](https://realpython.com/python-traceback/) (or *stack trace*), showing you details of the error and where exactly in your code it was produced. Let's take a look at another common error (division by zero) to see:\n"
   ]
  },
  {
   "cell_type": "code",
   "execution_count": 1,
   "metadata": {},
   "outputs": [
    {
     "ename": "ZeroDivisionError",
     "evalue": "division by zero",
     "output_type": "error",
     "traceback": [
      "\u001b[0;31m---------------------------------------------------------------------------\u001b[0m",
      "\u001b[0;31mZeroDivisionError\u001b[0m                         Traceback (most recent call last)",
      "\u001b[0;32m/var/folders/p7/1230cnn96dl9pk5c3fbjl5y00000gn/T/ipykernel_98273/1992888086.py\u001b[0m in \u001b[0;36m<module>\u001b[0;34m\u001b[0m\n\u001b[1;32m      1\u001b[0m \u001b[0ma\u001b[0m \u001b[0;34m=\u001b[0m \u001b[0;36m0\u001b[0m\u001b[0;34m\u001b[0m\u001b[0;34m\u001b[0m\u001b[0m\n\u001b[0;32m----> 2\u001b[0;31m \u001b[0mprint\u001b[0m\u001b[0;34m(\u001b[0m\u001b[0;36m1\u001b[0m\u001b[0;34m/\u001b[0m\u001b[0ma\u001b[0m\u001b[0;34m)\u001b[0m\u001b[0;34m\u001b[0m\u001b[0;34m\u001b[0m\u001b[0m\n\u001b[0m",
      "\u001b[0;31mZeroDivisionError\u001b[0m: division by zero"
     ]
    }
   ],
   "source": [
    "a = 0\n",
    "print(1/a)"
   ]
  },
  {
   "cell_type": "markdown",
   "metadata": {},
   "source": [
    "We can see that the interpreter helpfully points to the exact line of code that generated the error and gives an error message that helps us diagnose the problem."
   ]
  },
  {
   "cell_type": "markdown",
   "metadata": {},
   "source": [
    "## Debugging with pdb\n",
    "\n",
    "...\n",
    "\n",
    "There are a couple of ways to set a *breakpoint*, which is a point in the program where the interpreter will halt execution, allowing the programmer to check variable values or otherwise examine program behavior in more detail.\n",
    "\n",
    "The more traditional way uses the `set_trace()` method included with pdb. The other way uses the `breakpoint()` function which is built into Python as of version 3.7.\n",
    "\n",
    "```\n",
    "### breakpoint using set_trace()\n",
    "import pdb; pdb.set_trace()\n",
    "\n",
    "### breakpoint using breakpoint() (the newer way)\n",
    "breakpoint()\n",
    "```\n",
    "\n",
    "Notice that we do not require an import, or attach a prefix to the function name, to use breakpoint(). Python 3.7 incorporated this function in the standard library.\n",
    "\n",
    "Here's an example, given a file `example1.py` which contains the following code:\n",
    "\n",
    "```python\n",
    "filename = __file__\n",
    "import pdb; pdb.set_trace()\n",
    "print(f'path = {filename}')\n",
    "```"
   ]
  },
  {
   "cell_type": "code",
   "execution_count": null,
   "metadata": {},
   "outputs": [],
   "source": [
    "python example1.py"
   ]
  },
  {
   "cell_type": "markdown",
   "metadata": {},
   "source": [
    "If we call the python interpreter on the example1.py file, it will halt execution after the first line and enter debugging mode:"
   ]
  },
  {
   "cell_type": "markdown",
   "metadata": {},
   "source": [
    "```bash\n",
    "> /Users/myuser/Desktop/example1.py(3)<module>()\n",
    "-> print(f'path = {filename}')\n",
    "(Pdb) \n",
    "```"
   ]
  },
  {
   "cell_type": "markdown",
   "metadata": {},
   "source": [
    "Now, if you enter `p filename` at the prompt, the debugger will print the value of the variable (in this case, `filename`):\n",
    "\n",
    "```bash\n",
    "(Pdb) p filename\n",
    "'/Users/myuser/Desktop/example1.py'\n",
    "(Pdb)\n",
    "``` \n",
    "\n",
    "This is very useful for examing programming behavior in detail. If you are trying to track down the source of an error, you can set breakpoints in your code and take a close look at what is going on in your program at a particular point. Especially with difficult-to-diagnose errors, this can be much more helpful than simply using `print()` to print out variable values, which can get quite messy.\n",
    "\n",
    "There's another useful feature of pdb besides the ability to set breakpoints. Once you have set a breakpoint and stopped program execution, you can the `n` and `s` commands to execute your program one line at a time:\n",
    "- `n`: continue execution until the next line and 'step over' any foreign functions (i.e., do not stop in a foreign function if one is called)\n",
    "- `s`: execute the current line and 'step into' a foreign function if one is called\n",
    "\n",
    "This allows us to walk through our code, one line at a time. We can check our variables as we go, using `p` as before, allowing us to know the exact state of our code before the line that generates the error. This can also be very helpful if our code is not failing but _is_ producing unexpected results. We can use the debugger to see how the variables change from line to line."
   ]
  },
  {
   "cell_type": "markdown",
   "metadata": {},
   "source": [
    "## Exception Handling\n",
    "\n",
    "As a programmer, you should obviously strive to make your code as error-free as possible. But even in the best code, there will sometimes still be unexpected behavior that causes errors. Python, like most programming languages, provides us a mechanism for handling exceptions so that they do not crash our program. The `try` and `except` block will do this for us."
   ]
  },
  {
   "cell_type": "code",
   "execution_count": 5,
   "metadata": {},
   "outputs": [
    {
     "name": "stdout",
     "output_type": "stream",
     "text": [
      "The file could not be found.\n",
      "The program keeps executing.\n"
     ]
    }
   ],
   "source": [
    "# demonstration of handling an exception\n",
    "try:\n",
    "    with open('nonexistentfile.txt', 'r') as f:\n",
    "        data = f.read()\n",
    "except:\n",
    "    print(\"The file could not be found.\")\n",
    "\n",
    "print(\"The program keeps executing.\")"
   ]
  },
  {
   "cell_type": "markdown",
   "metadata": {},
   "source": [
    "Notice that instead of throwing an exception and halting, the interpreter handles the exception by executing the code in the `except` block, and continues to run. We can display an error message to the user and prompt them to specify another file. Use a `try` and `except` block anywhere you have code that you believe will throw an exception (such as file operations, OS-specific code, etc.)\n",
    "\n",
    "We can also except specific types of errors in our `except` clause. For example, we could specifically `except` the error associated with not finding a file:\n"
   ]
  },
  {
   "cell_type": "code",
   "execution_count": null,
   "metadata": {},
   "outputs": [],
   "source": [
    "# demonstration of handling an FileNotFoundError exception\n",
    "try:\n",
    "    with open('nonexistentfile.txt', 'r') as f:\n",
    "        data = f.read()\n",
    "except FileNotFoundError as E:\n",
    "    print(E.message)\n",
    "    print(\"The file could not be found.\")\n",
    "print(\"The program keeps executing.\")"
   ]
  },
  {
   "cell_type": "markdown",
   "metadata": {},
   "source": [
    "### Further Reading\n",
    "- [Understanding the Python Traceback](https://realpython.com/python-traceback/)\n",
    "- [pdf - The Python Debugger](https://docs.python.org/3/library/pdb.html)  (python.org)\n",
    "- [Python debugging in VSCode](https://code.visualstudio.com/docs/python/debugging) (visualstudio.com)\n",
    "- [Debugging and Profiling](https://docs.python.org/3/library/debug.html) (python.org)\n",
    "- [Python Built-in Exceptions](https://docs.python.org/3/library/exceptions.html)\n",
    "- [Python breakpoint() docs](https://www.python.org/dev/peps/pep-0553/)"
   ]
  }
 ],
 "metadata": {
  "interpreter": {
   "hash": "b9338035bfea9dad844361c6d337f991f9c9aba6ed1955d4748b812deb1bbd3c"
  },
  "kernelspec": {
   "display_name": "Python 3.9.7 64-bit ('3.9.7': pyenv)",
   "name": "python3"
  },
  "language_info": {
   "codemirror_mode": {
    "name": "ipython",
    "version": 3
   },
   "file_extension": ".py",
   "mimetype": "text/x-python",
   "name": "python",
   "nbconvert_exporter": "python",
   "pygments_lexer": "ipython3",
   "version": "3.9.7"
  },
  "orig_nbformat": 2
 },
 "nbformat": 4,
 "nbformat_minor": 2
}
