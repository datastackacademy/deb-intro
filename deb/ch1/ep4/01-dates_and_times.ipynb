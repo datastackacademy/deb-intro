{
 "cells": [
  {
   "cell_type": "markdown",
   "metadata": {},
   "source": [
    "## Dates, times, and datetimes"
   ]
  },
  {
   "cell_type": "markdown",
   "metadata": {},
   "source": [
    "One of the most common data types you will be interacting with as a data engineer is temporal data. This can range from timestamps showing when records were created, to a date telling when a book was published, to a range of time for which a process was running. Because of the prevalence of temporal data, Python has an entire library to handle date and time data, called `datetime`. To import a python library, we just need to do the following:"
   ]
  },
  {
   "cell_type": "code",
   "execution_count": 2,
   "metadata": {},
   "outputs": [],
   "source": [
    "import datetime"
   ]
  },
  {
   "cell_type": "markdown",
   "metadata": {},
   "source": [
    "Using this library, let's create our first `datetime` object using the `datetime.datetime.now()` method:"
   ]
  },
  {
   "cell_type": "code",
   "execution_count": 3,
   "metadata": {},
   "outputs": [
    {
     "name": "stdout",
     "output_type": "stream",
     "text": [
      "2021-04-23 09:53:36.492874\n",
      "<class 'datetime.datetime'>\n"
     ]
    }
   ],
   "source": [
    "current_time = datetime.datetime.now()\n",
    "print(current_time)\n",
    "print(type(current_time))"
   ]
  },
  {
   "cell_type": "markdown",
   "metadata": {},
   "source": [
    "As we can see from the print statements, this creates a datetime class object with the time in the current timezone. This illustrates one of the first issues with a `datetime`: timezones. Python tends to default to the local timezone in functions, but one must always check the documentation or specify a `datetime.tzone` object to verify behavior; awareness of timezone is the first step to not being tripped up when times do not line up as expected. One important timezone for us to consider is Universal Coordinated Time or UTC. This is the standard reference timezone from which all others can be calculated as a difference. If we would like the current time in UTC, we can use the `utcnow` method of `datetime`:"
   ]
  },
  {
   "cell_type": "code",
   "execution_count": 4,
   "metadata": {},
   "outputs": [
    {
     "name": "stdout",
     "output_type": "stream",
     "text": [
      "Local time is2021-04-23 10:01:29.487813\n",
      "But UTC time is 2021-04-23 17:01:29.487848\n"
     ]
    }
   ],
   "source": [
    "current_time = datetime.datetime.now()\n",
    "utc_current_time = datetime.datetime.utcnow()\n",
    "print(f\"Local time is{current_time}\")\n",
    "print(f\"But UTC time is {utc_current_time}\")"
   ]
  },
  {
   "cell_type": "markdown",
   "metadata": {},
   "source": [
    "If we would like to create a `datetime` object for a specific time, we can use the `datetime.datetime()` method:"
   ]
  },
  {
   "cell_type": "code",
   "execution_count": 5,
   "metadata": {},
   "outputs": [
    {
     "name": "stdout",
     "output_type": "stream",
     "text": [
      "2021-01-01 00:00:00\n"
     ]
    }
   ],
   "source": [
    "new_years = datetime.datetime(2021, 1, 1)\n",
    "print(new_years)"
   ]
  },
  {
   "cell_type": "markdown",
   "metadata": {},
   "source": [
    "`datetime.datetime` also has argements for hour, minute, second, microsecond, and `tzone`. Let's create a `datetime` for 5 minute after midnight on January 1st using the kwarg `minute`:"
   ]
  },
  {
   "cell_type": "code",
   "execution_count": 8,
   "metadata": {},
   "outputs": [
    {
     "name": "stdout",
     "output_type": "stream",
     "text": [
      "2021-01-01 00:05:00\n"
     ]
    }
   ],
   "source": [
    "new_years_and_five = datetime.datetime(2021, 1, 1, minute=5)\n",
    "print(new_years_and_five)"
   ]
  },
  {
   "cell_type": "markdown",
   "metadata": {},
   "source": [
    "Until now we've been printing the full datetime object. But we can also print specific fields which are stored as attributes of the class:"
   ]
  },
  {
   "cell_type": "code",
   "execution_count": 11,
   "metadata": {},
   "outputs": [
    {
     "name": "stdout",
     "output_type": "stream",
     "text": [
      "23\n",
      "5\n",
      "None\n"
     ]
    }
   ],
   "source": [
    "current_time = datetime.datetime.now()\n",
    "print(current_time.day)\n",
    "print(current_time.second)\n",
    "print(current_time.tzinfo)"
   ]
  },
  {
   "cell_type": "markdown",
   "metadata": {},
   "source": [
    "In addition to printing the specific attributes of a `datetime`, we often want to create a specific `str` representation of the time. To do this we use the `strftime()` method of a `datetime` object. This method takes a single argument, a formatting `str` with the desired output format for the date `str`. A handy reference guide for the format can be [found here](https://strftime.org/). For example, if we want to return a string with the format `month_name day, full_year` we would use the formatting `str`: `\"%B %d, %Y\"`:"
   ]
  },
  {
   "cell_type": "code",
   "execution_count": 12,
   "metadata": {},
   "outputs": [
    {
     "name": "stdout",
     "output_type": "stream",
     "text": [
      "April 23, 2021\n"
     ]
    }
   ],
   "source": [
    "print(current_time.strftime(\"%B %d, %Y\"))"
   ]
  },
  {
   "cell_type": "markdown",
   "metadata": {},
   "source": [
    "We can also use these formatting strings to create `datetime` objects from `str` input, a very common data engineering task. To do this, we need an input `str` and a formatting `str` telling us how to interpret the input. Let's read in a date in the same format that we just printed:"
   ]
  },
  {
   "cell_type": "code",
   "execution_count": 16,
   "metadata": {},
   "outputs": [
    {
     "name": "stdout",
     "output_type": "stream",
     "text": [
      "2020-05-01 00:00:00 <class 'datetime.datetime'>\n",
      "2020-02-29 10:04:31\n"
     ]
    }
   ],
   "source": [
    "date_format =  \"%B %d, %Y\"\n",
    "first_of_may = datetime.datetime.strptime(\"May 1, 2020\", date_format)\n",
    "print(first_of_may, type(first_of_may))\n",
    "\n",
    "# and now let's try a different format:\n",
    "new_format = \"%Y-%m-%d %H:%M:%S\"\n",
    "feb_29 = datetime.datetime.strptime(\"2020-02-29 10:04:31\", new_format)\n",
    "print(feb_29)\n"
   ]
  },
  {
   "cell_type": "markdown",
   "metadata": {},
   "source": [
    "#### Time and Date\n",
    "In additon to the combined datetime class we've been exploring, `datetime` also has separate `time` and `date` classes which contain just the specified portions of temporal data. "
   ]
  },
  {
   "cell_type": "markdown",
   "metadata": {},
   "source": [
    "### Time deltas\n",
    "Dates and times are great for capturing when events occured, but we often also want to know how much time passes between events. This is where the `timedelta` object comes in. The quickest was to see how these work is simply use the `-` operator between two `datetime` objects:"
   ]
  },
  {
   "cell_type": "code",
   "execution_count": 18,
   "metadata": {},
   "outputs": [
    {
     "name": "stdout",
     "output_type": "stream",
     "text": [
      "116 days, 13:27:25.031352\n",
      "<class 'datetime.timedelta'>\n"
     ]
    }
   ],
   "source": [
    "jan_first = datetime.datetime(2021, 1, 1)\n",
    "year_so_far = datetime.datetime.now() - jan_first\n",
    "print(year_so_far)\n",
    "print(type(year_so_far))"
   ]
  },
  {
   "cell_type": "markdown",
   "metadata": {},
   "source": [
    "We can also create `timedelta` objects directly using the `datetime.timedelta` class constructor. Let's make a timedelta of 1 day and then add it to `jan_first` and see how it behaves:"
   ]
  },
  {
   "cell_type": "code",
   "execution_count": 21,
   "metadata": {},
   "outputs": [
    {
     "name": "stdout",
     "output_type": "stream",
     "text": [
      "1 day, 0:00:00 <class 'datetime.timedelta'>\n",
      "2021-01-02 00:00:00 <class 'datetime.datetime'>\n",
      "2021-01-03 00:00:00\n"
     ]
    }
   ],
   "source": [
    "day_delta = datetime.timedelta(days=1)\n",
    "print(day_delta, type(day_delta))\n",
    "jan_two = jan_first + day_delta\n",
    "print(jan_two, type(jan_two))\n",
    "print(jan_two + day_delta)"
   ]
  },
  {
   "cell_type": "markdown",
   "metadata": {},
   "source": [
    "As you can see, adding a `timedelta` to a `datetime` results in another `datetime` object. This behavior makes it straightforward to use `timedelta`s to increment `datetime`s.\n",
    "\n",
    "### Book datetime\n",
    "Let's put this new knowledge to use by updating our `Book` class. We can now add a published year to our `__init__()` function that can accept either a `str`, an `int`, or a `datetime` object:"
   ]
  },
  {
   "cell_type": "code",
   "execution_count": 34,
   "metadata": {},
   "outputs": [],
   "source": [
    "class Book:\n",
    "    def __init__(self, title, author, genre, pub_year=None):\n",
    "        self.title = title\n",
    "        self.author = author\n",
    "        self.genre = genre\n",
    "        if isinstance(pub_year, datetime.datetime):\n",
    "            self.pub_year = pub_year\n",
    "        elif isinstance(pub_year, str):\n",
    "            self.pub_year = datetime.datetime.strptime(pub_year, \"%Y\")\n",
    "        elif isinstance(pub_year, int):\n",
    "            self.pub_year = datetime.datetime(year=pub_year, month=1, day=1)\n",
    "        else:\n",
    "            self.pub_year = pub_year\n",
    "    \n",
    "    def have_you_read(self):\n",
    "        print(f\"Have you read {self.title} by {self.author}?\")\n",
    "    \n",
    "    def was_published(self):\n",
    "        print(f\"{self.title} was published in {self.pub_year.year}\")"
   ]
  },
  {
   "cell_type": "markdown",
   "metadata": {},
   "source": [
    "We can also use our knowledge of `datetime` objects to create a subclass of `Book`, `LibraryBook` that has an attribute for when it is checked out, its due date (default loan length of 30 days), and a function that returns how long the book has been checked out for:"
   ]
  },
  {
   "cell_type": "code",
   "execution_count": 35,
   "metadata": {},
   "outputs": [],
   "source": [
    "class LibraryBook(Book):\n",
    "    def __init__(self, title, author, genre, pub_year=None, checked_out=None, loan_length=None):\n",
    "        super().__init__(title, author, genre, pub_year)\n",
    "        if isinstance(checked_out, datetime.datetime):\n",
    "            self.checked_out = checked_out\n",
    "        else:\n",
    "            self.checked_out = datetime.datetime.now()\n",
    "        if isinstance(loan_length, datetime.timedelta):\n",
    "            self.due_date = self.checked_out + loan_length\n",
    "        else:\n",
    "            self.due_date = self.checked_out + datetime.timedelta(days=30)\n",
    "    def on_loan(self):\n",
    "        cur_dur = datetime.datetime.now() - self.checked_out\n",
    "        print(f\"{self.title} has been on loan for {cur_dur}\")"
   ]
  },
  {
   "cell_type": "code",
   "execution_count": 36,
   "metadata": {},
   "outputs": [
    {
     "name": "stdout",
     "output_type": "stream",
     "text": [
      "Have you read Runaway Ralph by Beverly Cleary?\n",
      "Runaway Ralph was published in 1970\n",
      "Runaway Ralph has been on loan for 0:00:00.000513\n",
      "Runaway Ralph has been on loan for 0:00:05.003152\n"
     ]
    }
   ],
   "source": [
    "from time import sleep\n",
    "runaway_ralph = LibraryBook(\"Runaway Ralph\", \"Beverly Cleary\", \"Children's Novel\", 1970)\n",
    "runaway_ralph.have_you_read()\n",
    "runaway_ralph.was_published()\n",
    "runaway_ralph.on_loan()\n",
    "sleep(5)\n",
    "runaway_ralph.on_loan()"
   ]
  },
  {
   "cell_type": "markdown",
   "metadata": {},
   "source": [
    "Sometimes it is useful to convert a `datetime` into a number of seconds. Here's an example of how to do that. First we initialize a string containing only a time (not a date). When we convert to a datetime representation, a default date (1/1/1900) gets added automatically. To convert the original time to a number of seconds, we have to remove the date portion from `date_time`. Then, we can call `total_seconds()` on the resulting `timedelta` to get a number of seconds represented by our original time string:"
   ]
  },
  {
   "cell_type": "code",
   "execution_count": 3,
   "metadata": {},
   "outputs": [
    {
     "name": "stdout",
     "output_type": "stream",
     "text": [
      "1900-01-01 12:01:27\n",
      "43287.0\n"
     ]
    }
   ],
   "source": [
    "# initialize a time string\n",
    "time_string = \"12:01:27\"\n",
    "\n",
    "# convert to datetime representation\n",
    "date_time = datetime.datetime.strptime(time_string, \"%H:%M:%S\")\n",
    "print(date_time)\n",
    "\n",
    "#remove years, months, and days so only time (not date) is left\n",
    "a_timedelta = date_time - datetime.datetime(1900, 1, 1)\n",
    "seconds = a_timedelta.total_seconds()\n",
    "print(seconds)"
   ]
  },
  {
   "cell_type": "markdown",
   "metadata": {},
   "source": [
    "### Further Reading\n",
    "- [Python datetime docs](https://docs.python.org/3/library/datetime.html)"
   ]
  }
 ],
 "metadata": {
  "interpreter": {
   "hash": "b9338035bfea9dad844361c6d337f991f9c9aba6ed1955d4748b812deb1bbd3c"
  },
  "kernelspec": {
   "display_name": "Python 3.9.7 64-bit ('3.9.7': pyenv)",
   "name": "python3"
  },
  "language_info": {
   "codemirror_mode": {
    "name": "ipython",
    "version": 3
   },
   "file_extension": ".py",
   "mimetype": "text/x-python",
   "name": "python",
   "nbconvert_exporter": "python",
   "pygments_lexer": "ipython3",
   "version": "3.9.7"
  },
  "metadata": {
   "interpreter": {
    "hash": "51603b686d13537f1859a78d550faee8565bb562a456d83c7cf61df0765e39df"
   }
  },
  "orig_nbformat": 2
 },
 "nbformat": 4,
 "nbformat_minor": 2
}
