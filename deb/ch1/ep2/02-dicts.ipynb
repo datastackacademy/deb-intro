{
 "cells": [
  {
   "cell_type": "markdown",
   "metadata": {},
   "source": [
    "# Python Data Types: Dictionaries\n",
    "\n",
    "The second collection data type we will take a look at is the `Dictionary` type. Dictionaries are mutable (changeable) but (unlike lists) they do *not* allow duplicates. As of Python 3.7, dictionaries are now ordered. Whereas lists contain only the items themselves, dictionaries contain key-value pairs, where each value is associated with a label or key. The keys for a dictionary must be both unique (so there is no ambiguity when trying to access items) and immutable. For example `int`, `float`, `str`, etc are all immutable but `list` or other `dicts` (which can be changed, i.e. are mutable) cannot be keys. Let's make a dictionary that the following key value pairs: `A: 1`, `B: \"this is the value for B\"`, `C: [1, 2, 4, 8]`, and `2: \"int as a key\"`:"
   ]
  },
  {
   "cell_type": "code",
   "execution_count": 3,
   "metadata": {},
   "outputs": [
    {
     "data": {
      "text/plain": [
       "{'A': 1, 'B': 'this is the value for B', 'C': [1, 2, 4, 8], 2: 'int as a key'}"
      ]
     },
     "execution_count": 3,
     "metadata": {},
     "output_type": "execute_result"
    }
   ],
   "source": [
    "my_first_dict = {\n",
    "    \"A\": 1,\n",
    "     \"B\": \"this is the value for B\",\n",
    "     \"C\": [1, 2, 4, 8],\n",
    "      2: \"int as a key\"\n",
    "}\n",
    "my_first_dict"
   ]
  },
  {
   "cell_type": "markdown",
   "metadata": {},
   "source": [
    "If we want to access a value stored in the `dict`, we simply use `[ ]` with the `dict` variable name (syntax similar to returning a particular index of a `list`). Let's return the value with key `'A'` and `2`. We not that the value is not removed when we access it this way."
   ]
  },
  {
   "cell_type": "code",
   "execution_count": 5,
   "metadata": {},
   "outputs": [
    {
     "name": "stdout",
     "output_type": "stream",
     "text": [
      "1\n",
      "int as a key\n"
     ]
    },
    {
     "data": {
      "text/plain": [
       "{'A': 1, 'B': 'this is the value for B', 'C': [1, 2, 4, 8], 2: 'int as a key'}"
      ]
     },
     "execution_count": 5,
     "metadata": {},
     "output_type": "execute_result"
    }
   ],
   "source": [
    "print(my_first_dict['A'])\n",
    "print(my_first_dict[2])\n",
    "my_first_dict"
   ]
  },
  {
   "cell_type": "markdown",
   "metadata": {},
   "source": [
    "If we want to add an item to a `dict`, the most straightforward way is the following syntax:"
   ]
  },
  {
   "cell_type": "code",
   "execution_count": 15,
   "metadata": {},
   "outputs": [
    {
     "data": {
      "text/plain": [
       "{'A': 1,\n",
       " 'B': 'this is the value for B',\n",
       " 'C': [1, 2, 4, 8],\n",
       " 2: 'int as a key',\n",
       " 'new_key': 3.3}"
      ]
     },
     "execution_count": 15,
     "metadata": {},
     "output_type": "execute_result"
    }
   ],
   "source": [
    "my_first_dict[\"new_key\"] = 3.3\n",
    "my_first_dict"
   ]
  },
  {
   "cell_type": "markdown",
   "metadata": {},
   "source": [
    "If you would like to return and remove a key, we can once again use the `pop()` method with the key as the first argument of `pop()`. This time we also have an optional argument for what value to return if a key is not present in the `dict`. This allows us to avoid an error if we try to `pop()` a key that isn't in the `dict`."
   ]
  },
  {
   "cell_type": "code",
   "execution_count": 16,
   "metadata": {},
   "outputs": [
    {
     "name": "stdout",
     "output_type": "stream",
     "text": [
      "3.3\n"
     ]
    },
    {
     "data": {
      "text/plain": [
       "{'A': 1, 'B': 'this is the value for B', 'C': [1, 2, 4, 8], 2: 'int as a key'}"
      ]
     },
     "execution_count": 16,
     "metadata": {},
     "output_type": "execute_result"
    }
   ],
   "source": [
    "print(my_first_dict.pop('new_key'))\n",
    "my_first_dict"
   ]
  },
  {
   "cell_type": "code",
   "execution_count": 18,
   "metadata": {},
   "outputs": [
    {
     "name": "stdout",
     "output_type": "stream",
     "text": [
      "None\n"
     ]
    },
    {
     "data": {
      "text/plain": [
       "{'A': 1, 'B': 'this is the value for B', 'C': [1, 2, 4, 8], 2: 'int as a key'}"
      ]
     },
     "execution_count": 18,
     "metadata": {},
     "output_type": "execute_result"
    }
   ],
   "source": [
    "print(my_first_dict.pop('not_a_key', None))\n",
    "my_first_dict"
   ]
  },
  {
   "cell_type": "markdown",
   "metadata": {},
   "source": [
    "If you'd like to know how many items are in a `dict`, you can use the `len()` (short for length) method:"
   ]
  },
  {
   "cell_type": "code",
   "execution_count": 10,
   "metadata": {},
   "outputs": [
    {
     "data": {
      "text/plain": [
       "5"
      ]
     },
     "execution_count": 10,
     "metadata": {},
     "output_type": "execute_result"
    }
   ],
   "source": [
    "len(my_first_dict)"
   ]
  },
  {
   "cell_type": "markdown",
   "metadata": {},
   "source": [
    "If you want to see what keys a `dict` contains, you can use the `keys()` method:"
   ]
  },
  {
   "cell_type": "code",
   "execution_count": 11,
   "metadata": {},
   "outputs": [
    {
     "data": {
      "text/plain": [
       "dict_keys(['A', 'B', 'C', 2, 'new_key'])"
      ]
     },
     "execution_count": 11,
     "metadata": {},
     "output_type": "execute_result"
    }
   ],
   "source": [
    "my_first_dict.keys()"
   ]
  },
  {
   "cell_type": "markdown",
   "metadata": {},
   "source": [
    "If you want to see all the dictionary values, we can use the `values()` method:"
   ]
  },
  {
   "cell_type": "code",
   "execution_count": 12,
   "metadata": {},
   "outputs": [
    {
     "data": {
      "text/plain": [
       "dict_values([1, 'this is the value for B', [1, 2, 4, 8], 'int as a key', 3.3])"
      ]
     },
     "execution_count": 12,
     "metadata": {},
     "output_type": "execute_result"
    }
   ],
   "source": [
    "my_first_dict.values()"
   ]
  },
  {
   "cell_type": "markdown",
   "metadata": {},
   "source": [
    "We won't be using the `len`, `values`, and `keys` methods just yet but look forward to using them when we start iterating!"
   ]
  },
  {
   "cell_type": "markdown",
   "metadata": {},
   "source": [
    "We can also check if a key is present in a `dict` with a quick `in` statement:"
   ]
  },
  {
   "cell_type": "code",
   "execution_count": 19,
   "metadata": {},
   "outputs": [
    {
     "data": {
      "text/plain": [
       "True"
      ]
     },
     "execution_count": 19,
     "metadata": {},
     "output_type": "execute_result"
    }
   ],
   "source": [
    "\"A\" in my_first_dict"
   ]
  },
  {
   "cell_type": "markdown",
   "metadata": {},
   "source": [
    "To check if a value is present in a set, we can use an `in` membership operator with `dict.values()`"
   ]
  },
  {
   "cell_type": "code",
   "execution_count": 21,
   "metadata": {},
   "outputs": [
    {
     "name": "stdout",
     "output_type": "stream",
     "text": [
      "False\n",
      "True\n"
     ]
    }
   ],
   "source": [
    "print(1 in my_first_dict)\n",
    "print(1 in my_first_dict.values())"
   ]
  },
  {
   "cell_type": "markdown",
   "metadata": {},
   "source": [
    "### Further Reading\n",
    "\n",
    "- [Dictionaries official documentation](https://docs.python.org/3/tutorial/datastructures.html#dictionaries) (docs.python.org)"
   ]
  }
 ],
 "metadata": {
  "kernelspec": {
   "display_name": "Python 3.8.5 64-bit ('tura-env': venv)",
   "name": "python385jvsc74a57bd0caf2427215b6d06207a2df1796b9e7a68226f163882bdffe10c7edd9425ce4b4"
  },
  "language_info": {
   "codemirror_mode": {
    "name": "ipython",
    "version": 3
   },
   "file_extension": ".py",
   "mimetype": "text/x-python",
   "name": "python",
   "nbconvert_exporter": "python",
   "pygments_lexer": "ipython3",
   "version": "3.8.5-final"
  },
  "metadata": {
   "interpreter": {
    "hash": "caf2427215b6d06207a2df1796b9e7a68226f163882bdffe10c7edd9425ce4b4"
   }
  },
  "orig_nbformat": 2
 },
 "nbformat": 4,
 "nbformat_minor": 2
}
