{
 "cells": [
  {
   "cell_type": "markdown",
   "metadata": {},
   "source": [
    "Let's look at the last two Python collection types: tuples and sets. Tuples are an ordered, unchangeable collection that allows duplicate members. Sets are an unordered and unindexed collections that do not allow duplicates. They are less commonly used than lists or dicts but still serve important roles.\n",
    "\n",
    "Let's start with tuples. They are used to store multiple variables in a single object. They are ordered, and therefore can be accesses by index like a list. However, they are unchangeable which means they cannot be modified after creation. Let's create a tuple using `( )` and store the first three letters of the alphabet:"
   ]
  },
  {
   "cell_type": "code",
   "execution_count": 2,
   "metadata": {},
   "outputs": [
    {
     "name": "stdout",
     "output_type": "stream",
     "text": [
      "('A', 'B', 'C')\n",
      "A\n",
      "C\n"
     ]
    }
   ],
   "source": [
    "my_first_tuple = (\"A\", \"B\", \"C\")\n",
    "print(my_first_tuple)\n",
    "print(my_first_tuple[0])\n",
    "print(my_first_tuple[2])"
   ]
  },
  {
   "cell_type": "markdown",
   "metadata": {},
   "source": [
    "Tuples do allow duplicate items and any object can be stored in a tuple"
   ]
  },
  {
   "cell_type": "code",
   "execution_count": 4,
   "metadata": {},
   "outputs": [
    {
     "data": {
      "text/plain": [
       "(1, 1, ('A', 'B', 'C'))"
      ]
     },
     "execution_count": 4,
     "metadata": {},
     "output_type": "execute_result"
    }
   ],
   "source": [
    "my_second_tuple = (1, 1, my_first_tuple)\n",
    "my_second_tuple"
   ]
  },
  {
   "cell_type": "markdown",
   "metadata": {},
   "source": [
    "If we would like to create a tuple with a single value, we either have to leave a trailing comma or use the `tuple()` constructor on another collection:"
   ]
  },
  {
   "cell_type": "code",
   "execution_count": 11,
   "metadata": {},
   "outputs": [
    {
     "name": "stdout",
     "output_type": "stream",
     "text": [
      "<class 'int'>\n",
      "<class 'tuple'>\n",
      "<class 'tuple'>\n"
     ]
    }
   ],
   "source": [
    "test_tuple = (1)\n",
    "print(type(test_tuple))\n",
    "test_tuple = (1,)\n",
    "print(type(test_tuple))\n",
    "test_tuple = tuple([1])\n",
    "print(type(test_tuple))"
   ]
  },
  {
   "cell_type": "markdown",
   "metadata": {},
   "source": [
    "As with other collections, we can check how many items are in our tuple with the `len()` function"
   ]
  },
  {
   "cell_type": "code",
   "execution_count": 12,
   "metadata": {},
   "outputs": [
    {
     "name": "stdout",
     "output_type": "stream",
     "text": [
      "3\n",
      "1\n"
     ]
    }
   ],
   "source": [
    "print(len(my_first_tuple))\n",
    "print(len(test_tuple))"
   ]
  },
  {
   "cell_type": "markdown",
   "metadata": {},
   "source": [
    "We can check if items are in a tuple with an `in` membership operator just like a list:"
   ]
  },
  {
   "cell_type": "code",
   "execution_count": 13,
   "metadata": {},
   "outputs": [
    {
     "data": {
      "text/plain": [
       "True"
      ]
     },
     "execution_count": 13,
     "metadata": {},
     "output_type": "execute_result"
    }
   ],
   "source": [
    "\"A\" in my_first_tuple"
   ]
  },
  {
   "cell_type": "markdown",
   "metadata": {},
   "source": [
    "We will conclude by noting we often use tuples for the return values of functions which we will see when we learn how to declare functions in Python.\n",
    "\n",
    "\n",
    "### Sets\n",
    "Sets are collections of unique items, there are no duplicates. They are unordered and unindexed. If duplicate items are included in the creation, only one copy will be in the returned set. We can create a set with `{ }` without the `:` used in dicts"
   ]
  },
  {
   "cell_type": "code",
   "execution_count": 17,
   "metadata": {},
   "outputs": [
    {
     "name": "stdout",
     "output_type": "stream",
     "text": [
      "{1, 2, 'A', 'a'}\n",
      "<class 'set'>\n"
     ]
    }
   ],
   "source": [
    "my_first_set = {1, 2, 2, \"A\", \"a\"}\n",
    "print(my_first_set)\n",
    "print(type(my_first_set))"
   ]
  },
  {
   "cell_type": "markdown",
   "metadata": {},
   "source": [
    "As usual, we can use an `in` statement to check for set membership, and count the number of items with `len()`"
   ]
  },
  {
   "cell_type": "code",
   "execution_count": 18,
   "metadata": {},
   "outputs": [
    {
     "name": "stdout",
     "output_type": "stream",
     "text": [
      "True\n",
      "4\n"
     ]
    }
   ],
   "source": [
    "print(1 in my_first_set)\n",
    "print(len(my_first_set))"
   ]
  },
  {
   "cell_type": "markdown",
   "metadata": {},
   "source": [
    "While the items in a set are unchangeable, sets do have an `add()` method for including new items. If the item is a duplicate of an existing item, nothing is added. It is also worth noting the `add()` has no return value; the set is updated in place. This means there will be no feedback if an existing value is not added, the set will remain unchanged. You need to use the `in` operator as above if you need a return value about `set` membership."
   ]
  },
  {
   "cell_type": "code",
   "execution_count": 19,
   "metadata": {},
   "outputs": [
    {
     "name": "stdout",
     "output_type": "stream",
     "text": [
      "{1, 2, 'A', 'a'}\n",
      "{1, 2, 'fancy new string', 'A', 'a'}\n",
      "{1, 2, 'fancy new string', 'A', 'a'}\n"
     ]
    }
   ],
   "source": [
    "print(my_first_set)\n",
    "my_first_set.add(\"fancy new string\")\n",
    "print(my_first_set)\n",
    "my_first_set.add(\"A\")\n",
    "print(my_first_set)"
   ]
  },
  {
   "cell_type": "markdown",
   "metadata": {},
   "source": [
    "## Collection summary\n",
    "\n",
    "Now you know all the basic types of Collections you will encounter in Python. These will serve as the building blocks for your future work engineering with Python. Let's give a quick summary of them so you know what collection to grab when a future project needs a way to store multiple objects:\n",
    "- `list`: The simplicity and flexibility of `lists` means you will often use them whenever you simply need to store multiple values. As ordered collections, they are great for storing items sequentially which also makes them great for iteration. They are not well suited to finding specific items inside them since there is no labeling on the values.\n",
    "- `dict` These are great any time you want to store labeled values for future use which happens often. They are often used to store configuration information because of this. They are also great for iterating over and allow you to check the label before performing certain actions as well. Additionally as of Python 3.7, the items can be iterated over in the order they were added similar to a list.\n",
    "- `tuples` an ordered, unchangable set of values. Tuples will show up most often in return values from functions. Their more rigid structure is well suited functions interacting with each other; if you expect a specific number of returned values, a `tuple` won't let you down.\n",
    "- `sets`: probably the least frequently used collection type but they have utility when you want to keep unique values and/or check if an input is in a specific set of values. You won't use them often but everyone once in a while, they'll be exactly what is needed."
   ]
  }
 ],
 "metadata": {
  "kernelspec": {
   "display_name": "Python 3.8.5 64-bit ('tura-env': venv)",
   "name": "python385jvsc74a57bd0caf2427215b6d06207a2df1796b9e7a68226f163882bdffe10c7edd9425ce4b4"
  },
  "language_info": {
   "codemirror_mode": {
    "name": "ipython",
    "version": 3
   },
   "file_extension": ".py",
   "mimetype": "text/x-python",
   "name": "python",
   "nbconvert_exporter": "python",
   "pygments_lexer": "ipython3",
   "version": "3.8.5-final"
  },
  "metadata": {
   "interpreter": {
    "hash": "caf2427215b6d06207a2df1796b9e7a68226f163882bdffe10c7edd9425ce4b4"
   }
  },
  "orig_nbformat": 2
 },
 "nbformat": 4,
 "nbformat_minor": 2
}
