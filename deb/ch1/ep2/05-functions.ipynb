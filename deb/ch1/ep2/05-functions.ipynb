{
 "cells": [
  {
   "cell_type": "markdown",
   "metadata": {},
   "source": [
    "## Functions\n",
    "Python functions define a block of code that can be called and run by name. Functions are one of the most common features in all modern programming languages; the ability to define a portion of code and call it by name makes code much more compact and reusable (since it only has to be updated in one place, the function definition, rather than every place the function is called). A function can accept inputs and can return values. An example of a function you already know that takes input is `print()`! This simple function takes the input supplied in the `()` and prints it to the screen. We note that `print()` has no return value as we can see by printing at print:"
   ]
  },
  {
   "cell_type": "code",
   "execution_count": 1,
   "metadata": {},
   "outputs": [
    {
     "name": "stdout",
     "output_type": "stream",
     "text": [
      "Hello friends!\n",
      "None\n"
     ]
    }
   ],
   "source": [
    "print(print(\"Hello friends!\"))"
   ]
  },
  {
   "cell_type": "markdown",
   "metadata": {},
   "source": [
    "If we want to create our own function, we use the following syntax: "
   ]
  },
  {
   "cell_type": "code",
   "execution_count": 2,
   "metadata": {},
   "outputs": [
    {
     "name": "stdout",
     "output_type": "stream",
     "text": [
      "I'm a brand new function\n"
     ]
    }
   ],
   "source": [
    "def new_function():\n",
    "    print(\"I'm a brand new function\")\n",
    "\n",
    "new_function()"
   ]
  },
  {
   "cell_type": "markdown",
   "metadata": {},
   "source": [
    "Note this function takes no input and returns `None`, the Python equivalent to JS `null`. Documentation can be found [here](https://docs.python.org/3/c-api/none.html):"
   ]
  },
  {
   "cell_type": "code",
   "execution_count": 3,
   "metadata": {},
   "outputs": [
    {
     "name": "stdout",
     "output_type": "stream",
     "text": [
      "I'm a brand new function\n",
      "None\n"
     ]
    }
   ],
   "source": [
    "print(new_function())"
   ]
  },
  {
   "cell_type": "markdown",
   "metadata": {},
   "source": [
    "Let's add inputs to our function. We can do that by adding comma separated variables in the function definition:"
   ]
  },
  {
   "cell_type": "code",
   "execution_count": 4,
   "metadata": {},
   "outputs": [
    {
     "name": "stdout",
     "output_type": "stream",
     "text": [
      "My first input was 1, my second input was cake and I refuse to tell you that ['secret', 'list'] was my thrid input\n"
     ]
    }
   ],
   "source": [
    "def input_function(first_intput, second_input, third_input):\n",
    "    print(f\"My first input was {first_intput}, my second input was {second_input} and I refuse to tell you that {third_input} was my thrid input\")\n",
    "\n",
    "input_function(1, \"cake\", [\"secret\", \"list\"])\n",
    "\n"
   ]
  },
  {
   "cell_type": "markdown",
   "metadata": {},
   "source": [
    "We can return values from a function by using a `return` statement. Once a function encounters a `return` statement, the specified value is returned"
   ]
  },
  {
   "cell_type": "code",
   "execution_count": 5,
   "metadata": {},
   "outputs": [
    {
     "data": {
      "text/plain": [
       "7"
      ]
     },
     "execution_count": 5,
     "metadata": {},
     "output_type": "execute_result"
    }
   ],
   "source": [
    "def add_numbers(num_1, num_2):\n",
    "    return num_1 + num_2\n",
    "\n",
    "add_numbers(3, 4)"
   ]
  },
  {
   "cell_type": "markdown",
   "metadata": {},
   "source": [
    "We note that Python does not enforce type on the inputs to a function. This means we can use the addition operator on any data types that have a supported `+` operator."
   ]
  },
  {
   "cell_type": "code",
   "execution_count": 6,
   "metadata": {},
   "outputs": [
    {
     "name": "stdout",
     "output_type": "stream",
     "text": [
      "AB\n",
      "[1, 3, 5, 6]\n"
     ]
    }
   ],
   "source": [
    "print(add_numbers(\"A\", \"B\"))\n",
    "print(add_numbers([1, 3], [5, 6]))"
   ]
  },
  {
   "cell_type": "markdown",
   "metadata": {},
   "source": [
    "If we want to annotate an expected type in a function, Python3 allows us to do so with a colon in the parameter declaration. This still will not enforce type but add clarity and allows other tools to know what inputs are expected. Similarly, if we want to annotate what the output type should be, we can follow the `( )` with `-> type`. Let's annotate our adding function to say it takes two `int` at input and returns an `int`:"
   ]
  },
  {
   "cell_type": "code",
   "execution_count": 7,
   "metadata": {},
   "outputs": [
    {
     "name": "stdout",
     "output_type": "stream",
     "text": [
      "9\n",
      "Hello friends\n"
     ]
    }
   ],
   "source": [
    "def add_numbers(num_1:int, num_2:int) -> int:\n",
    "    return num_1 + num_2\n",
    "\n",
    "print(add_numbers(4,5))\n",
    "print(add_numbers(\"Hello\", \" friends\"))"
   ]
  },
  {
   "cell_type": "markdown",
   "metadata": {},
   "source": []
  },
  {
   "cell_type": "markdown",
   "metadata": {},
   "source": [
    "Default arguments"
   ]
  },
  {
   "cell_type": "markdown",
   "metadata": {},
   "source": [
    "When defining a function, we can also set default values for some or all of the input arguments. To do this, all that is needed is to follow the argument name with `=default_value`. Note that if you are using a mix of default arguments and nondefault arguments, all arguments without a default value must come first. Let's make a string reversing function that defaults to capitalizing the string as well:"
   ]
  },
  {
   "cell_type": "code",
   "execution_count": 8,
   "metadata": {},
   "outputs": [
    {
     "name": "stdout",
     "output_type": "stream",
     "text": [
      "RAC ECAR\n",
      "DRAC WOLLEY\n",
      "pac on\n"
     ]
    }
   ],
   "source": [
    "def flip_string_and_reverse(input_str, cap=True):\n",
    "    if cap:\n",
    "        input_str = input_str.upper()\n",
    "    return input_str[::-1]\n",
    "\n",
    "print(flip_string_and_reverse(\"race car\"))\n",
    "print(flip_string_and_reverse(\"Yellow carD\"))\n",
    "print(flip_string_and_reverse(\"no cap\", False))"
   ]
  },
  {
   "cell_type": "markdown",
   "metadata": {},
   "source": [
    "If there are multiple defualt arguments for a function and you only want to specific a nondefualt value for one of them, you can use `default_arg=new_value` when calling the function. This must come after any nondefault arguments when calling the function. "
   ]
  },
  {
   "cell_type": "code",
   "execution_count": 9,
   "metadata": {},
   "outputs": [
    {
     "name": "stdout",
     "output_type": "stream",
     "text": [
      "Hello Everyone, How Is Your Day Going?\n",
      "?gnioG yaD ruoY sI woH ,enoyrevE olleH\n"
     ]
    }
   ],
   "source": [
    "def string_formatting(input_str, cap_first=True, reverse=False):\n",
    "    if cap_first:\n",
    "        input_str = input_str.title()\n",
    "    if reverse:\n",
    "        input_str = input_str[::-1]\n",
    "    return input_str\n",
    "\n",
    "test_string = \"hello everyone, how is your day going?\"\n",
    "print(string_formatting(test_string))\n",
    "print(string_formatting(test_string, reverse=True))"
   ]
  },
  {
   "cell_type": "markdown",
   "metadata": {},
   "source": [
    "We can also invoke our defined function inside other functions. Let's make a function that adds two numbers if they are both even but return `None` if either is odd: "
   ]
  },
  {
   "cell_type": "code",
   "execution_count": 10,
   "metadata": {},
   "outputs": [
    {
     "name": "stdout",
     "output_type": "stream",
     "text": [
      "None\n",
      "4\n",
      "0\n"
     ]
    }
   ],
   "source": [
    "def is_even(num):\n",
    "    if num % 2 == 0:\n",
    "        return True\n",
    "    return False\n",
    "\n",
    "def even_adder(num_1, num_2):\n",
    "    if is_even(num_1) and is_even(num_2):\n",
    "        return add_numbers(num_1, num_2)\n",
    "    return None\n",
    "\n",
    "print(even_adder(1,2))\n",
    "print(even_adder(2,2))\n",
    "print(even_adder(-2,2))\n",
    "    "
   ]
  },
  {
   "cell_type": "markdown",
   "metadata": {},
   "source": [
    "We see what happens when we invoke another function inside our function. What happens if we invoke our function _inside itself_? This is the concept called *recursion*. While we must be careful that our functions do not recurse endlessly, we can use recursion to do some cool things. Let's make a function that takes a number and returns the sum of all positive integers up to that number (e.g. given 3, it will add 1 + 2 + 3 and return the value 6)"
   ]
  },
  {
   "cell_type": "code",
   "execution_count": 11,
   "metadata": {},
   "outputs": [
    {
     "name": "stdout",
     "output_type": "stream",
     "text": [
      "1\n",
      "3\n",
      "6\n",
      "Lets check the value for 3: 6\n",
      "1\n",
      "3\n",
      "6\n",
      "10\n",
      "15\n",
      "21\n",
      "And the value for 6: 21\n"
     ]
    }
   ],
   "source": [
    "def add_recursion(num):\n",
    "  if num > 0:\n",
    "    result = num + add_recursion(num - 1)\n",
    "    print(result) # this lets us keep an eye on the current sum\n",
    "  else:\n",
    "    result = 0\n",
    "  return result\n",
    "print(f\"Lets check the value for 3: {add_recursion(3)}\")\n",
    "print(f\"And the value for 6: {add_recursion(6)}\")"
   ]
  },
  {
   "cell_type": "markdown",
   "metadata": {},
   "source": [
    "### Lambda Functions\n",
    "\n",
    "An important type of function in Python is the lambda function. These are small anonymous functions which are declared inline. What does it mean to be an anonymous function? It simply means it does not have to be bound to an identifier like the functions we have seen up to this point. Let's make a very simple lambda function that will double a number:"
   ]
  },
  {
   "cell_type": "code",
   "execution_count": 12,
   "metadata": {},
   "outputs": [
    {
     "name": "stdout",
     "output_type": "stream",
     "text": [
      "4\n",
      "10\n"
     ]
    }
   ],
   "source": [
    "dubs = lambda a: 2*a\n",
    "print(dubs(2))\n",
    "print(dubs(5))"
   ]
  },
  {
   "cell_type": "markdown",
   "metadata": {},
   "source": [
    "Lambda functions can have any number of inputs but only one expression following the `:`"
   ]
  },
  {
   "cell_type": "code",
   "execution_count": 13,
   "metadata": {},
   "outputs": [
    {
     "name": "stdout",
     "output_type": "stream",
     "text": [
      "15\n",
      "-8\n"
     ]
    }
   ],
   "source": [
    "multiplier = lambda a, b: a*b\n",
    "print(multiplier(3, 5))\n",
    "print(multiplier(4, -2))"
   ]
  },
  {
   "cell_type": "markdown",
   "metadata": {},
   "source": [
    "That's all well and good but why are we bothering with these lambda functions? The two examples we've created could be done simply with a regular function. The utility of anonymous lambda functions is more easy to see when they're used inside other functions. Let's create a simple function that will multiply by an unknown number, then use that function to build our doubling function as well as a tripling function:"
   ]
  },
  {
   "cell_type": "code",
   "execution_count": 14,
   "metadata": {},
   "outputs": [
    {
     "name": "stdout",
     "output_type": "stream",
     "text": [
      "10\n",
      "15\n"
     ]
    }
   ],
   "source": [
    "def scale_by_num(num):\n",
    "    return lambda a: num*a\n",
    "\n",
    "dubs = scale_by_num(2)\n",
    "print(dubs(5))\n",
    "\n",
    "trips = scale_by_num(3)\n",
    "print(trips(5))"
   ]
  }
 ],
 "metadata": {
  "kernelspec": {
   "display_name": "Python 3.8.5 64-bit ('tura-env': virtualenvwrapper)",
   "name": "python385jvsc74a57bd0caf2427215b6d06207a2df1796b9e7a68226f163882bdffe10c7edd9425ce4b4"
  },
  "language_info": {
   "codemirror_mode": {
    "name": "ipython",
    "version": 3
   },
   "file_extension": ".py",
   "mimetype": "text/x-python",
   "name": "python",
   "nbconvert_exporter": "python",
   "pygments_lexer": "ipython3",
   "version": "3.8.5"
  },
  "metadata": {
   "interpreter": {
    "hash": "caf2427215b6d06207a2df1796b9e7a68226f163882bdffe10c7edd9425ce4b4"
   }
  },
  "orig_nbformat": 2
 },
 "nbformat": 4,
 "nbformat_minor": 2
}
