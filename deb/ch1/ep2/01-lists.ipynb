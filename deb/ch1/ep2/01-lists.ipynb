{
 "cells": [
  {
   "cell_type": "markdown",
   "metadata": {},
   "source": [
    "# Python Lists\n",
    "\n",
    "Let's take a look at one of the most important data types in Python, the `list`. Python `list`s are one of the four collection data types in Python (list, tuple, set, and dictionary). They are an ordered and mutable (changeable) collection of items that allows duplicates. This collection of items also allows for different datatypes to be stored in one collection. For those familar with Javascript, we can see the similarities between Javascript arrays and Python lists (but arrays in Python are an entirely different object).\n",
    " In Python, we usually declare a list using square brackets `[ ]` with list items seprated by commas. For example, here's how to create a list of the odd numbers from 1 to 5 named `my_first_list`:"
   ]
  },
  {
   "cell_type": "code",
   "execution_count": 35,
   "metadata": {},
   "outputs": [
    {
     "data": {
      "text/plain": [
       "[1, 3, 5]"
      ]
     },
     "execution_count": 35,
     "metadata": {},
     "output_type": "execute_result"
    }
   ],
   "source": [
    "my_first_list = [1, 3, 5]\n",
    "my_first_list"
   ]
  },
  {
   "cell_type": "markdown",
   "metadata": {},
   "source": [
    "We can put any type of item in a list. This includes other lists! Let's create `my_second_list` to store the string `'Hello'`, the number `8`, the number `4.5` and `my_first_list` in that order:\n"
   ]
  },
  {
   "cell_type": "code",
   "execution_count": 22,
   "metadata": {},
   "outputs": [
    {
     "data": {
      "text/plain": [
       "['Hello', 8, 4.5, [1, 3, 5]]"
      ]
     },
     "execution_count": 22,
     "metadata": {},
     "output_type": "execute_result"
    }
   ],
   "source": [
    "my_second_list = ['Hello', 8, 4.5, my_first_list]\n",
    "my_second_list"
   ]
  },
  {
   "cell_type": "markdown",
   "metadata": {},
   "source": [
    "Now that we've made a list, how do we access the items in the list? There are a number of ways to do this but let's look at using an `index` first. Python lists are 0-indexed so you can get the first element of a list by using square brackets and the number 0"
   ]
  },
  {
   "cell_type": "code",
   "execution_count": 23,
   "metadata": {},
   "outputs": [
    {
     "data": {
      "text/plain": [
       "1"
      ]
     },
     "execution_count": 23,
     "metadata": {},
     "output_type": "execute_result"
    }
   ],
   "source": [
    "my_first_list[0]"
   ]
  },
  {
   "cell_type": "markdown",
   "metadata": {},
   "source": [
    "There we go! Let's say we want the last element of our list. For our two simple lists, we could just use the index 2 or 3 respectively:"
   ]
  },
  {
   "cell_type": "code",
   "execution_count": 32,
   "metadata": {},
   "outputs": [
    {
     "name": "stdout",
     "output_type": "stream",
     "text": [
      "7\n",
      "[3, 5, 7, 9, 5, 7, 9]\n"
     ]
    }
   ],
   "source": [
    "print(my_first_list[2])\n",
    "print(my_second_list[3])"
   ]
  },
  {
   "cell_type": "markdown",
   "metadata": {},
   "source": [
    "But what if we've been changing our list and don't know the exact length? Well, that's where the hand negative indexing helps. Negative indexing allows us to traverse backwards from the end of the list, as opposed to the beginning. Index -1 always returns the final element of a list:"
   ]
  },
  {
   "cell_type": "code",
   "execution_count": 13,
   "metadata": {},
   "outputs": [
    {
     "data": {
      "text/plain": [
       "5"
      ]
     },
     "execution_count": 13,
     "metadata": {},
     "output_type": "execute_result"
    }
   ],
   "source": [
    "my_first_list[-1]"
   ]
  },
  {
   "cell_type": "markdown",
   "metadata": {},
   "source": [
    "Similarly, you can count backwards with this index to get the second to last element"
   ]
  },
  {
   "cell_type": "code",
   "execution_count": 14,
   "metadata": {},
   "outputs": [
    {
     "data": {
      "text/plain": [
       "3"
      ]
     },
     "execution_count": 14,
     "metadata": {},
     "output_type": "execute_result"
    }
   ],
   "source": [
    "my_first_list[-2]"
   ]
  },
  {
   "cell_type": "markdown",
   "metadata": {},
   "source": [
    "What if we want to return and remove an item from a list? The list method `pop()` can help us there. It is a function that takes an optional argument which is the index to return with the default being to return the last item in the list. Let's return the last item using `pop()`, check our list then return the first item:"
   ]
  },
  {
   "cell_type": "code",
   "execution_count": 39,
   "metadata": {},
   "outputs": [
    {
     "name": "stdout",
     "output_type": "stream",
     "text": [
      "5\n",
      "[1, 3]\n",
      "1\n",
      "[3]\n"
     ]
    }
   ],
   "source": [
    "my_first_list = [1, 3, 5]\n",
    "last_item = my_first_list.pop()\n",
    "print(last_item)\n",
    "print(my_first_list)\n",
    "first_item = my_first_list.pop(0)\n",
    "print(first_item)\n",
    "print(my_first_list)"
   ]
  },
  {
   "cell_type": "markdown",
   "metadata": {},
   "source": [
    "Great! now we know how to return and remove elements from a list. If we want to just remove without a return value, the `remove()` function can be used instad of `pop()`.\n",
    "\n",
    "What if we want to add a new value to a list? We can simply use the list's built in `append()` function. This function takes a single argument, the value to be appended, and places it in the final spot in the list. Note this change happens in-place, that is, you don't have to use an `=` to assign the appended list to a value, the list is updated automatically. Let's use append to put the numbers 5, 7, 9 at the end of `my_first_list`"
   ]
  },
  {
   "cell_type": "code",
   "execution_count": 1,
   "metadata": {},
   "outputs": [
    {
     "name": "stdout",
     "output_type": "stream",
     "text": [
      "[3, [5, 7, 9]]\n",
      "[3, 5, 7, 9, 5, 7, 9]\n"
     ]
    }
   ],
   "source": [
    "my_first_list = [3]\n",
    "my_first_list.append([5, 7, 9])\n",
    "print(my_first_list)\n",
    "my_first_list.pop()\n",
    "my_first_list.append(5)\n",
    "my_first_list.append(7)\n",
    "my_first_list.append(9)\n",
    "my_first_list\n",
    "\n",
    "# also could use a for loop\n",
    "my_first_list = [3]\n",
    "for i in [5,7,9]:\n",
    "    my_first_list.append(i)\n",
    "\n",
    "print(my_first_list)"
   ]
  },
  {
   "cell_type": "markdown",
   "metadata": {},
   "source": [
    "You may have noticed that if we try to append a list of numbers to an existing list, the list being appended remains as a three-item list, and goes in the last position. Another way to say this is that the whole list ([5,7,9] becomes the second item in my_first_list, rather than the individual items in [5,7,9] each becoming a new item in my_first_list (in which case that list would contain four items)). What if simply want to extend our existing list by the list `[5, 7, 9]`? Luckily, lists have a built in `extend()` method:"
   ]
  },
  {
   "cell_type": "code",
   "execution_count": 43,
   "metadata": {},
   "outputs": [
    {
     "data": {
      "text/plain": [
       "[3, 5, 7, 9]"
      ]
     },
     "execution_count": 43,
     "metadata": {},
     "output_type": "execute_result"
    }
   ],
   "source": [
    "my_first_list = [3]\n",
    "my_first_list.extend([5, 7, 9])\n",
    "my_first_list"
   ]
  },
  {
   "cell_type": "markdown",
   "metadata": {},
   "source": [
    "How do we check if an item is in our list? The `in` membership operator is used in python to test if something is present in another object."
   ]
  },
  {
   "cell_type": "code",
   "execution_count": 44,
   "metadata": {},
   "outputs": [
    {
     "name": "stdout",
     "output_type": "stream",
     "text": [
      "True\n",
      "False\n"
     ]
    }
   ],
   "source": [
    "my_first_list = [3, 5, 7, 9]\n",
    "print(5 in my_first_list)\n",
    "print(0 in my_first_list)"
   ]
  },
  {
   "cell_type": "markdown",
   "metadata": {},
   "source": [
    "What if we want to put a list in order? Luckily, lists have an inplace sorting method that uses the `>` comparison operator. Let's use it to sort a list of numbers!"
   ]
  },
  {
   "cell_type": "code",
   "execution_count": 3,
   "metadata": {},
   "outputs": [
    {
     "name": "stdout",
     "output_type": "stream",
     "text": [
      "[-40, 1, 32, 52, 520]\n"
     ]
    }
   ],
   "source": [
    "unruly_list = [52, 32, 520, -40, 1]\n",
    "unruly_list.sort()\n",
    "print(unruly_list)\n"
   ]
  },
  {
   "cell_type": "markdown",
   "metadata": {},
   "source": [
    "Note that because this method uses the `<`, it cannot be used to sort lists of mixed types that can't be compared with `<`."
   ]
  },
  {
   "cell_type": "markdown",
   "metadata": {},
   "source": [
    "## List slicing\n",
    "\n",
    "*Slicing* refers to accessing a range of elements in a list. It's something that you will do frequently as a data engineer, and that we will see in action a number of times later in the course. \n",
    "\n",
    "The basic syntax for slicing is `List[Initial:End:Jump]`. Given a list object, that expression will return the portion of the list from index `Initial` to but not including index `End`, at a step size of `Jump`. Note that `Jump` is optional - if you omit it, and just use `List[Initial:End]`, the interpreter will use a default step size of 1 and return the portion of the list between the `Initial` and `End` indexes.\n",
    "\n",
    "Here are a few basic examples:\n"
   ]
  },
  {
   "cell_type": "code",
   "execution_count": 9,
   "metadata": {},
   "outputs": [
    {
     "name": "stdout",
     "output_type": "stream",
     "text": [
      "[10, 20, 30, 40, 50, 60, 70, 80, 90]\n",
      "[10, 20, 30, 40, 50, 60, 70, 80, 90]\n",
      "[10, 30, 50, 70, 90]\n",
      "[40, 50, 60]\n",
      "[90, 80, 70, 60, 50, 40, 30, 20, 10]\n",
      "[30, 40, 50, 60, 70, 80, 90]\n",
      "[50, 40, 30, 20, 10]\n",
      "[]\n"
     ]
    }
   ],
   "source": [
    "# initialize a list\n",
    "my_list = [10,20,30,40,50,60,70,80,90]\n",
    "\n",
    "# example 1: display the whole list\n",
    "# these two statements are equivalent, demonstrating that the Jump parameter is optional\n",
    "print(my_list[::])\n",
    "print(my_list[:])\n",
    "\n",
    "# example 2: use jump size to show every other item\n",
    "print(my_list[::2])\n",
    "\n",
    "# example 3: display a portion of the list\n",
    "print(my_list[3:6])\n",
    "\n",
    "# use negative indexing to display list items, starting from the end\n",
    "# example 4: display the whole list in reverse\n",
    "print(my_list[::-1])\n",
    "# example 5: in this case, we display the last 7 items\n",
    "print(my_list[-7:])\n",
    "# example 6: use a negative step size to traverse the list in reverse\n",
    "print(my_list[-5::-1])\n",
    "\n",
    "# if your slicing expression does not make sense, an empty list will be generated\n",
    "# example 7: noncomputable slicing expression (index out of range)\n",
    "print(my_list[10::2])"
   ]
  },
  {
   "cell_type": "markdown",
   "metadata": {},
   "source": [
    "The comments in the above code give you the details on each example. From these, we can see that Python provides an extremely concise and powerful list slicing syntax that makes it easy to get the items you need from a list, in the order you need them.\n",
    "\n",
    "Notice that, in the last example, a nonsensical slicing expression returns an empty list. In this case, the list only contains 9 items, but we are using an index of 10, which is out of range. But when this happens with slicing expressions, the interpreter will NOT produce an error. It is important to be aware of this behavior, because in performing complex data manipulation, you might encounter a situation where subsequent operations which depend on your incorrectly formulated slicing expression do not give you the expected result, but the code runs without error.\n",
    "\n",
    "We will see many more examples of list slicing when we get to Pandas and other topics in later chapters!"
   ]
  },
  {
   "cell_type": "markdown",
   "metadata": {},
   "source": [
    "\n",
    "### Further reading:\n",
    "- [List Methods](https://docs.python.org/3/tutorial/datastructures.html) (Python docs)\n",
    "- [List Slicing reference](https://python-reference.readthedocs.io/en/latest/docs/brackets/slicing.html) \n"
   ]
  }
 ],
 "metadata": {
  "interpreter": {
   "hash": "b9338035bfea9dad844361c6d337f991f9c9aba6ed1955d4748b812deb1bbd3c"
  },
  "kernelspec": {
   "display_name": "Python 3.9.7 64-bit ('3.9.7': pyenv)",
   "name": "python3"
  },
  "language_info": {
   "codemirror_mode": {
    "name": "ipython",
    "version": 3
   },
   "file_extension": ".py",
   "mimetype": "text/x-python",
   "name": "python",
   "nbconvert_exporter": "python",
   "pygments_lexer": "ipython3",
   "version": "3.9.7"
  },
  "metadata": {
   "interpreter": {
    "hash": "caf2427215b6d06207a2df1796b9e7a68226f163882bdffe10c7edd9425ce4b4"
   }
  },
  "orig_nbformat": 2
 },
 "nbformat": 4,
 "nbformat_minor": 2
}
