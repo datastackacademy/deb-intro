{
 "cells": [
  {
   "cell_type": "markdown",
   "metadata": {},
   "source": [
    "Loops and iteration is one of the most important skills to master in Python. They are important tools for both data engineering and more broadly in software engineering with Python. The basic construction is a simple. First we need something to loop over. let's make a list of the numbers 0-9 as our first example and call it `loop_list`. Then all we need to do is implement a `for` loop:\n"
   ]
  },
  {
   "cell_type": "code",
   "execution_count": 6,
   "metadata": {},
   "outputs": [
    {
     "name": "stdout",
     "output_type": "stream",
     "text": [
      "0\n",
      "1\n",
      "2\n",
      "3\n",
      "4\n",
      "5\n",
      "6\n",
      "7\n",
      "8\n",
      "9\n",
      "We are out of the loop\n"
     ]
    }
   ],
   "source": [
    "loop_list = list(range(10))\n",
    "for item in loop_list:\n",
    "    print(item)\n",
    "\n",
    "print(\"We are out of the loop\")"
   ]
  },
  {
   "cell_type": "markdown",
   "metadata": {},
   "source": [
    "In this example, *item* is the variable name we are declaring for each value in our list. After our declaration line telling us what we are looping over, the block of indented code is executed once for every *item* in the object we're looping over. Pretty straightforward, right? Python loves to loop and many objects are naturally iterable, For example, we can loop over every character in the string *\"this is a string\"*"
   ]
  },
  {
   "cell_type": "code",
   "execution_count": 8,
   "metadata": {},
   "outputs": [
    {
     "name": "stdout",
     "output_type": "stream",
     "text": [
      "t\n",
      "h\n",
      "i\n",
      "s\n",
      " \n",
      "i\n",
      "s\n",
      " \n",
      "a\n",
      " \n",
      "s\n",
      "t\n",
      "r\n",
      "i\n",
      "n\n",
      "g\n"
     ]
    }
   ],
   "source": [
    "for char in \"this is a string\":\n",
    "    print(char)"
   ]
  },
  {
   "cell_type": "markdown",
   "metadata": {},
   "source": [
    "We can also nest loops. If we have a list of strings and want to loop over each character in each string we could do the following:"
   ]
  },
  {
   "cell_type": "code",
   "execution_count": 9,
   "metadata": {},
   "outputs": [
    {
     "name": "stdout",
     "output_type": "stream",
     "text": [
      "the character 't' from the word 'this'\n",
      "the character 'h' from the word 'this'\n",
      "the character 'i' from the word 'this'\n",
      "the character 's' from the word 'this'\n",
      "the character 'i' from the word 'is'\n",
      "the character 's' from the word 'is'\n",
      "the character 'a' from the word 'a'\n",
      "the character 's' from the word 'str'\n",
      "the character 't' from the word 'str'\n",
      "the character 'r' from the word 'str'\n",
      "the character 'l' from the word 'list'\n",
      "the character 'i' from the word 'list'\n",
      "the character 's' from the word 'list'\n",
      "the character 't' from the word 'list'\n"
     ]
    }
   ],
   "source": [
    "stringy_list = [\"this\", \"is\", \"a\", \"str\", \"list\"]\n",
    "for item in stringy_list:\n",
    "    for char in item:\n",
    "        print(f\"the character '{char}' from the word '{item}'\")"
   ]
  },
  {
   "cell_type": "markdown",
   "metadata": {},
   "source": [
    "Another powerful flow control is a conditional statement, also known as `if ... else`. In Python, the syntax is straight forward, it begins with the declaration `if condition:` followed by a block of indented text to be executed if `condition` evaluates as `True`. For example:"
   ]
  },
  {
   "cell_type": "code",
   "execution_count": 10,
   "metadata": {},
   "outputs": [
    {
     "name": "stdout",
     "output_type": "stream",
     "text": [
      "True is always true\n"
     ]
    }
   ],
   "source": [
    "if True:\n",
    "    print(\"True is always true\")"
   ]
  },
  {
   "cell_type": "markdown",
   "metadata": {},
   "source": [
    "We can combine this `if` with an `else:` which is what will be executed if `condition` is `False: "
   ]
  },
  {
   "cell_type": "code",
   "execution_count": 11,
   "metadata": {},
   "outputs": [
    {
     "name": "stdout",
     "output_type": "stream",
     "text": [
      "But this will always print\n"
     ]
    }
   ],
   "source": [
    "if False:\n",
    "    print(\"This will never print\")\n",
    "else:\n",
    "    print(\"But this will always print\")"
   ]
  },
  {
   "cell_type": "markdown",
   "metadata": {},
   "source": [
    "There is a third option, `elif`. After a conditional is declared, any number of additional `condition` can be checked using an `elif condition:` line:"
   ]
  },
  {
   "cell_type": "code",
   "execution_count": 13,
   "metadata": {},
   "outputs": [
    {
     "name": "stdout",
     "output_type": "stream",
     "text": [
      "3 is in fact 3\n"
     ]
    }
   ],
   "source": [
    "my_number = 3\n",
    "if my_number > 3:\n",
    "    print(f\"{my_number} is > 3\")\n",
    "elif my_number == 0:\n",
    "    print(f\"{my_number} equals 0\")\n",
    "elif my_number ==  3:\n",
    "    print(f\"{my_number} is in fact 3\")\n",
    "elif my_number < 5:\n",
    "    print(f\"{my_number} is < 5\")\n",
    "else:\n",
    "    print(\"what was my number?\")"
   ]
  },
  {
   "cell_type": "markdown",
   "metadata": {},
   "source": [
    "We can also combine conditions using Python's `and` and `or` operators:"
   ]
  },
  {
   "cell_type": "code",
   "execution_count": 1,
   "metadata": {},
   "outputs": [
    {
     "name": "stdout",
     "output_type": "stream",
     "text": [
      "5 is a positive odd number\n"
     ]
    }
   ],
   "source": [
    "test_number = 5\n",
    "if test_number > 0 and test_number % 2 == 0:\n",
    "    print(f\"{test_number} is a positive even number\")\n",
    "elif test_number > 0:\n",
    "    print(f\"{test_number} is a positive odd number\")\n",
    "else:\n",
    "    print(f\"{test_number} is not greater than 0\")"
   ]
  },
  {
   "cell_type": "markdown",
   "metadata": {},
   "source": [
    "We note that the conditionals are evaluated in the order written and the first condition that is `True` is the evaluated. All following conditions are not evaluated and the code will not be run even if that condition _is_ `True`.\n",
    "\n",
    "\n",
    "Now that we have conditional statements and loops, we can have some fun! How about we use the `%` operator to print all the even numbers from 1 to 10?"
   ]
  },
  {
   "cell_type": "code",
   "execution_count": 17,
   "metadata": {},
   "outputs": [
    {
     "name": "stdout",
     "output_type": "stream",
     "text": [
      "2\n",
      "4\n",
      "6\n",
      "8\n",
      "10\n"
     ]
    }
   ],
   "source": [
    "for num in range(1,11):\n",
    "    if num % 2 == 0:\n",
    "        print(num)"
   ]
  },
  {
   "cell_type": "markdown",
   "metadata": {},
   "source": [
    "We can also use conditionals to explore two new loop controls, `continue` and `break`. When a loop encounters a `continue`, the current step of the loop evaluation stop and it begins on the next item in the loop. We can use that behavior to print all the odd numbers from 1 to 10:"
   ]
  },
  {
   "cell_type": "code",
   "execution_count": 19,
   "metadata": {},
   "outputs": [
    {
     "name": "stdout",
     "output_type": "stream",
     "text": [
      "1\n",
      "3\n",
      "5\n",
      "7\n",
      "9\n"
     ]
    }
   ],
   "source": [
    "for num in range(1,11):\n",
    "    if num % 2 == 0:\n",
    "        continue\n",
    "    print(num)"
   ]
  },
  {
   "cell_type": "markdown",
   "metadata": {},
   "source": [
    "By using a `continue`, we can avoid deeply nested conditionals in our loops. Next we will consider `break`. When a loop encounters a `break`, the loop exits."
   ]
  },
  {
   "cell_type": "code",
   "execution_count": 21,
   "metadata": {},
   "outputs": [
    {
     "name": "stdout",
     "output_type": "stream",
     "text": [
      "0\n",
      "1\n",
      "2\n",
      "3\n",
      "4\n",
      "5\n",
      "Out of the loop\n"
     ]
    }
   ],
   "source": [
    "for num in range(10):\n",
    "    if num > 5:\n",
    "        break\n",
    "    print(num)\n",
    "print(\"Out of the loop\")"
   ]
  },
  {
   "cell_type": "markdown",
   "metadata": {},
   "source": [
    "In addition to the formal `for item in iterator` syntax for loops, python supports a special kind of looping called *list comprehension*. This syntax is what we use when we want to loop over something and return the results in a list. It is easiest to see in action and then explain the syntax. Let's start with the list of even numbers from 2-10 and return a list of them divided by 2:"
   ]
  },
  {
   "cell_type": "code",
   "execution_count": 1,
   "metadata": {},
   "outputs": [
    {
     "name": "stdout",
     "output_type": "stream",
     "text": [
      "[2, 4, 6, 8, 10]\n",
      "[1.0, 2.0, 3.0, 4.0, 5.0]\n"
     ]
    }
   ],
   "source": [
    "starting_list = list(range(2,11,2))\n",
    "print(starting_list)\n",
    "divided_list = [num/2 for num in starting_list]\n",
    "print(divided_list)"
   ]
  },
  {
   "cell_type": "markdown",
   "metadata": {},
   "source": [
    "As you can see from the example `divided_list`, the syntax is straightforward: `[(expression returning item in the new list) for item in (iterator)]`. In this example, we iterated over a list but we can also use list comprehension with other iterables like a `str`:"
   ]
  },
  {
   "cell_type": "code",
   "execution_count": 2,
   "metadata": {},
   "outputs": [
    {
     "name": "stdout",
     "output_type": "stream",
     "text": [
      "['L', 'O', 'W', 'E', 'R', 'C', 'A', 'S', 'E']\n"
     ]
    }
   ],
   "source": [
    "print([letter.upper() for letter in \"lowercase\"])"
   ]
  },
  {
   "cell_type": "markdown",
   "metadata": {},
   "source": [
    "This brings us to the Python concept of *iterators*. All the collection types (list, dict, set, tuple) we've been working with are iterators, as is the `str` (string) type. *iterators* are python objects capable of returning their members one at a time, permitting them to be iterated over in a for loop. This means that iterators have built in `__iter__()` and `__next__()` methods (we will learn more about creating these whe we discuss Python classes). In addition to the collection objects, we've also used the iterator `range()` when making lists of numbers. One aspect of iterators that `range()` helps illustrate is that they can be lazily evaluated. What this means is that the iterator does not have to store all the values to be iterated on; instead it can store the logic for creating that logic and all the values are enumerated once iteration is invoked."
   ]
  },
  {
   "cell_type": "code",
   "execution_count": 3,
   "metadata": {},
   "outputs": [
    {
     "name": "stdout",
     "output_type": "stream",
     "text": [
      "range(5, 10)\n",
      "[10, 12, 14, 16, 18]\n"
     ]
    }
   ],
   "source": [
    "print(range(5, 10))\n",
    "print([2*num for num in range(5, 10)])"
   ]
  }
 ],
 "metadata": {
  "interpreter": {
   "hash": "3d597f4c481aa0f25dceb95d2a0067e73c0966dcbd003d741d821a7208527ecf"
  },
  "kernelspec": {
   "display_name": "Python 3.8.5 64-bit ('tura-env': venv)",
   "language": "python",
   "name": "python3"
  },
  "language_info": {
   "codemirror_mode": {
    "name": "ipython",
    "version": 3
   },
   "file_extension": ".py",
   "mimetype": "text/x-python",
   "name": "python",
   "nbconvert_exporter": "python",
   "pygments_lexer": "ipython3",
   "version": "3.9.7"
  },
  "metadata": {
   "interpreter": {
    "hash": "caf2427215b6d06207a2df1796b9e7a68226f163882bdffe10c7edd9425ce4b4"
   }
  },
  "orig_nbformat": 2
 },
 "nbformat": 4,
 "nbformat_minor": 2
}
