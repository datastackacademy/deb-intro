{
 "cells": [
  {
   "cell_type": "markdown",
   "metadata": {},
   "source": [
    "# Basic command line and Git\n",
    "\n",
    "The primary programming language for this course is Python, and in the previous notebook ([Basic Python](01-python_intro.ipynb)) we did a brief re-introduction to the language. But besides Python, there are a couple of other tools that we will use in this course, and that you will encounter frequently as a data engineer:\n",
    "    - the command line\n",
    "    - Git\n",
    "\n",
    "## The Command Line\n",
    "\n",
    "As a data engineer, you will benefit greatly from a working knowledge of a Linux-style command line. While you might be able to do your job without making use of a CLI (Command Line Interface), having at least a basic CLI proficiency will often make your work much faster and easier...\n",
    "\n",
    "We have put together a [Basic Command Line Guide](/basic-cli-guide.md) as an easy reference, a cheat sheet version of the commands discussed in this notebook. If you are familiar with the commands described there, you will have a solid foundation of command line skills that will take you a long way as a data engineer.\n",
    "\n",
    "### Basic File and Folder Operations\n",
    "\n",
    "\n",
    "### Further Reading\n",
    "- [The Linux command line for beginners](https://ubuntu.com/tutorials/command-line-for-beginners#1-overview)\n",
    "- [Five Things You Can Do Faster from the CLI on Linux](https://sweetcode.io/5-things-you-can-do-faster-from-the-cli-on-linux/) (sweetcode.io)\n",
    "- [The Best Keyboard Shortcuts for bash](https://www.howtogeek.com/howto/ubuntu/keyboard-shortcuts-for-bash-command-shell-for-ubuntu-debian-suse-redhat-linux-etc/) (howtogeek.com)"
   ]
  }
 ],
 "metadata": {
  "language_info": {
   "name": "python"
  },
  "orig_nbformat": 4
 },
 "nbformat": 4,
 "nbformat_minor": 2
}
