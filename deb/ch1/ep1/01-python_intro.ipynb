{
 "cells": [
  {
   "cell_type": "markdown",
   "metadata": {},
   "source": [
    "# Basic Python\n",
    "\n",
    "## Overview\n",
    "\n",
    "By now, you have all been introduced to the Python language, but here we will briefly revisit some of the most essential topics in order to make sure that everyone is up to speed.\n",
    "\n",
    "Please make sure that you have gone through the [Getting Started guide](/getting-started/) before proceeding, so that your development environment is set up to run code and work with notebooks.\n",
    "\n",
    "## What's Covered\n",
    "\n",
    "This episode will discuss a number of basic Python topics:\n",
    "- The interpreter\n",
    "- Jupyter notebooks\n",
    "- Python white space\n",
    "- naming conventions\n",
    "- comments\n",
    "- Variable declarations\n",
    "- Built-in data types\n",
    "- `print` function\n",
    "\n",
    "Since you have had an introduction to Python, we will not discuss these topics in much detail. Links to additional resources are provided throughout the instructions and code notebooks for those who wish to explore the topics in more depth. We recommend spending a bit of time with those additional resources to fill in your understanding of these topics where necessary."
   ]
  },
  {
   "cell_type": "markdown",
   "metadata": {},
   "source": [
    "## The Python Interpreter\n",
    "\n",
    "Python is an [interpreted language](https://discuss.python.org/t/is-python-a-compiled-language-or-an-interpreted-language/6556) which can be used in two different ways:\n",
    "1. Interactive mode (one command at a time in an interpreter session):\n",
    "    ```bash\n",
    "    $ python\n",
    "    Python 3.7.9 (v3.7.9:13c94747c7, Aug 15 2020, 01:31:08) \n",
    "    [Clang 6.0 (clang-600.0.57)] on darwin\n",
    "    Type \"help\", \"copyright\", \"credits\" or \"license\" for more information.\n",
    "    >>> 1 + 1\n",
    "    2\n",
    "    >>> print(\"Hello world\")\n",
    "    Hello world \n",
    "    ```\n",
    "\n",
    "1. Scripting mode\n",
    "This is the way we will most often use the interpreter, by specifying a .py file. If we have a file (`hello_world.py`) that contains the above print statement (`print(\"Hello world\")`), then running\n",
    "```\n",
    "$ python hello_world.py\n",
    "```\n",
    "will run the entire file and exit the interpreter.\n",
    "\n",
    "(brief discussion of IPython?)"
   ]
  },
  {
   "cell_type": "markdown",
   "metadata": {},
   "source": [
    "## Jupyter notebooks\n",
    "\n",
    "If you followed the [Getting Started Guide](/getting-started/), you should have installed [Jupyter](jupyter.org) by now. \n",
    "\n",
    "```\n",
    "jupyter lab\n",
    "```\n",
    "will open Jupyter's browser-based interface that will allow you to explore files and compose notebooks. By now you also should have created a local clone of this repository on your own machine; navigate to the directory where you cloned the repo and you can open notebooks in the Jupyter interface to run them interactively. From time to time during the course we will explore interactive code demonstrations together, and you will need to know how to work with notebooks outside of the pre-rendered view in GitHub.\n",
    "\n",
    "### Google Colaboratory\n",
    "\n",
    "Another great resource for interactive programming and reproducible research is [Google Colaboratory](colab.research.google.com). Colab has been called 'Jupyter notebooks on steroids', because it takes notebooks and adds some additional features that data engineers and scientists will find very useful, such as..."
   ]
  },
  {
   "cell_type": "markdown",
   "metadata": {},
   "source": [
    "## Python white space\n",
    "\n",
    "Python's syntax is unique among programming languages in its use of white space. In Python, whitespace is used in two ways:\n",
    "- newlines terminate logical lines\n",
    "- changes in indentation delimit code blocks"
   ]
  },
  {
   "cell_type": "code",
   "execution_count": 2,
   "metadata": {},
   "outputs": [],
   "source": [
    "# Two logical lines\n",
    "x = 1\n",
    "y = 2\n",
    "\n",
    "# One logical line escaped with backslash\n",
    "x = 1 + \\\n",
    "    2\n",
    "\n",
    "# One logical line, this time escaped by a newline within parentheses\n",
    "x = (1 + \n",
    "    2)"
   ]
  },
  {
   "cell_type": "markdown",
   "metadata": {},
   "source": [
    "Code blocks in Python are delimited by indentation. Let's see how that works:"
   ]
  },
  {
   "cell_type": "code",
   "execution_count": null,
   "metadata": {},
   "outputs": [],
   "source": [
    "# Indentation with tabs\n",
    "for i in range(10):\n",
    "    if i % 2 == 1:\n",
    "        print(i)\n",
    "\n",
    "# Indentation with 4 spaces\n",
    "for i in range(10):\n",
    "    if i % 2 == 1:\n",
    "        print(i)"
   ]
  },
  {
   "cell_type": "markdown",
   "metadata": {},
   "source": [
    "See the very helpful [Python Style Guide](https://www.python.org/dev/peps/pep-0008/) for more details on this and other related topics. As noted in that guide, spaces are the preferred indentation method. Whichever you use, make sure to keep your indentation consistent.\n",
    "\n",
    "<br>\n",
    "\n",
    "## Naming Conventions\n",
    "See the official style guide's [discussion of naming conventions](https://www.python.org/dev/peps/pep-0008/#naming-conventions). For a condensed version that is helpful as a cheat sheet, see [this convention guide](https://visualgit.readthedocs.io/en/latest/pages/naming_convention.html).\n",
    "\n",
    "<br>\n",
    "\n",
    "## Comments\n",
    "\n",
    "Commenting your code is very important, other people (and you) can easily understand what your code is doing. Something that seems obvious to you might not be obvious to someone else, so providing clear explanations in your comments is very important. And this can even help you when you are looking at your own code. There will be times when you have to revisit code you have not looked at in months or years, and you might have forgotten why you did what you did.\n",
    "\n",
    "Here are some basic examples:"
   ]
  },
  {
   "cell_type": "code",
   "execution_count": null,
   "metadata": {},
   "outputs": [],
   "source": [
    "# This is a comment\n",
    "\n",
    "print(\"Some output\") # Comments can go at the end of lines, too"
   ]
  },
  {
   "cell_type": "markdown",
   "metadata": {},
   "source": [
    "For more details on best practices when commenting in Python, see this [Guide To Writing Comments in Python](https://realpython.com/python-comments-guide/)."
   ]
  },
  {
   "cell_type": "markdown",
   "metadata": {},
   "source": [
    "## Variable assignments\n",
    "\n",
    "Unlike C++, Java, and many other languages, Python has no way of declaring a variable separately from assigning a value. Variables are created when they are assigned a value (typically using the `=` operator)."
   ]
  },
  {
   "cell_type": "code",
   "execution_count": 13,
   "metadata": {},
   "outputs": [],
   "source": [
    "# Assign a single variable\n",
    "x = 5\n",
    "y = 10\n",
    "\n",
    "# Multiple assignment\n",
    "x, y, z = 1, 2, 3\n",
    "my_num, my_list, my_dict = 1, [1, 'a', True], {\"name\": \"Alice\", \"year\": 1985}"
   ]
  },
  {
   "cell_type": "markdown",
   "metadata": {},
   "source": [
    "In the second pair of examples, notice that Python allows us to declare multiple variables with a single assignment statement, and that we can even mix variable types in doing do. This is one of the many ways in which Python gives you, the programmer, a degree of flexibility and expressiveness not found in other languages.\n",
    "\n",
    "## Built-in data types\n",
    "\n",
    "Python has a number of [built-in data types](https://docs.python.org/3/library/stdtypes.html) to allow us to work with many different kinds of data. For your reference, here is the complete list of built-in types:\n",
    "- Text Type: str\n",
    "- Numeric Types: \tint, float, complex\n",
    "- Collection Types: list, tuple, set, dict\n",
    "- Set Types: \tset, frozenset\n",
    "- Boolean Type: \tbool\n",
    "- Binary Types: \tbytes, bytearray, memoryview\n",
    "\n",
    "For our purposes, we are most interested in the text (str), numeric (int, float), collection (list, tuple, range), and boolean types. "
   ]
  },
  {
   "cell_type": "code",
   "execution_count": null,
   "metadata": {},
   "outputs": [],
   "source": [
    "# Integer assignment\n",
    "x, y = 3, 9.999\n",
    "# using hexadecimal representation\n",
    "z = 0xA0D\n",
    "print(z)"
   ]
  },
  {
   "cell_type": "markdown",
   "metadata": {},
   "source": [
    "## The print() function\n",
    "\n",
    "One of the most commonly used functions in python is `print()`. Here are a few of the most common usages:"
   ]
  },
  {
   "cell_type": "code",
   "execution_count": 23,
   "metadata": {},
   "outputs": [
    {
     "name": "stdout",
     "output_type": "stream",
     "text": [
      "5\n",
      "This is a string\n",
      "Your system username is root.\n",
      "My name is Alex, and I am 26 years old.\n"
     ]
    }
   ],
   "source": [
    "### print the content of a variable\n",
    "a, b = 5, \"This is a string\"\n",
    "print(a)\n",
    "print(b)\n",
    "\n",
    "### using print() with a compound expression\n",
    "import os\n",
    "print('Your system username is ' + os.getlogin() + '.')\n",
    "\n",
    "### using f-strings\n",
    "name, age = 'Alex', 26\n",
    "print(f'My name is {name}, and I am {age} years old.')\n",
    "\n",
    "#printing to a file\n",
    "import sys\n",
    "with open('hello_world.txt', mode='w') as file_object:\n",
    "    print('Hello world', file=file_object)\n"
   ]
  },
  {
   "cell_type": "markdown",
   "metadata": {},
   "source": [
    "### Further Reading\n",
    "- [The Python Tutorial](https://docs.python.org/3/tutorial/#the-python-tutorial)\n",
    "- [Python data types](https://docs.python.org/3/library/stdtypes.html)\n",
    "- [Python Style Guide](https://www.python.org/dev/peps/pep-0008/)\n",
    "- [Python naming conventions (brief)](https://visualgit.readthedocs.io/en/latest/pages/naming_convention.html)\n",
    "- [Guide to the print() function](https://realpython.com/python-print/)"
   ]
  }
 ],
 "metadata": {
  "interpreter": {
   "hash": "aee8b7b246df8f9039afb4144a1f6fd8d2ca17a180786b69acc140d282b71a49"
  },
  "kernelspec": {
   "display_name": "Python 3.7.9 64-bit",
   "name": "python3"
  },
  "language_info": {
   "codemirror_mode": {
    "name": "ipython",
    "version": 3
   },
   "file_extension": ".py",
   "mimetype": "text/x-python",
   "name": "python",
   "nbconvert_exporter": "python",
   "pygments_lexer": "ipython3",
   "version": "3.7.9"
  },
  "orig_nbformat": 2
 },
 "nbformat": 4,
 "nbformat_minor": 2
}
