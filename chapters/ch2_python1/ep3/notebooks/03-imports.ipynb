{
 "cells": [
  {
   "cell_type": "markdown",
   "metadata": {},
   "source": [
    "## Libraries, Packages, and Modules"
   ]
  },
  {
   "cell_type": "markdown",
   "metadata": {},
   "source": [
    "One great aspect of Python is that you can import external Python code into your program. These can be modules (Python files ending in the \".py\" extension), packages (a collection of modules), or libraries (a collection of packages). Let's start by looking at modules."
   ]
  },
  {
   "cell_type": "markdown",
   "metadata": {},
   "source": [
    "### Python Modules"
   ]
  },
  {
   "cell_type": "markdown",
   "metadata": {},
   "source": [
    "You can create your own modules simply by writing code in a Python file. You can then import that code into your main program with an `import` statement. Making your code modular can help keep it tidy, and can make it easier to debug. Try this out in your workspace:"
   ]
  },
  {
   "cell_type": "markdown",
   "metadata": {},
   "source": [
    "Create a new file called `adder.py`. Add the following code:"
   ]
  },
  {
   "cell_type": "code",
   "execution_count": null,
   "metadata": {},
   "outputs": [],
   "source": [
    "def adding(x, y):\n",
    "    print(x + y)"
   ]
  },
  {
   "cell_type": "markdown",
   "metadata": {},
   "source": [
    "In the same directory, create another file called `main_program.py` and add this code:"
   ]
  },
  {
   "cell_type": "code",
   "execution_count": null,
   "metadata": {},
   "outputs": [],
   "source": [
    "from adder import adding\n",
    "\n",
    "adding(3, 4)"
   ]
  },
  {
   "cell_type": "markdown",
   "metadata": {},
   "source": [
    "As you can see, we imported the `adding()` function from the `adding.py` file to our `main_program.py` file, then called it there. Now, if you run `python3 main_program.py` in your terminal, it should print the sum of the two arguments you passed to `adding()`. Try writing and importing your own functions and classes!"
   ]
  },
  {
   "cell_type": "markdown",
   "metadata": {},
   "source": [
    "Three things to note:\n",
    "1. If you're getting a `module not found` error and you know the module is there, make sure you're trying to import it from the correct directory.\n",
    "\n",
    "2. Instead of using `from` like we did above, you can import everything from a module by simply using `import <MODULE_NAME>`. Then you can use a specific function using the syntax `<MODULE_NAME>.<FUNCTION_NAME>`. However, don't do `from <MODULE_NAME> import *`. This can sometimes lead to naming conflicts if you import a lot of code you're not aware of. \n",
    "\n",
    "3. When a file is to be used as a module, rather than run as a script, it often includes the code"
   ]
  },
  {
   "cell_type": "code",
   "execution_count": null,
   "metadata": {},
   "outputs": [],
   "source": [
    "if __name__ == '__main__':\n",
    "    main()"
   ]
  },
  {
   "cell_type": "markdown",
   "metadata": {},
   "source": [
    "at the very bottom of the file. That way, the code isn't executed when the module is imported.\n",
    ">`__name__` is a special Python variable that evaluates to the name of the module. When a file is run as the main program (rather than being imported at the top of the code), `__name__` is set to the value of `\"__main__\"`. The second line of the code above refers to a function called `main()`, which by convention is usually the main function in a program that ties together all the other modules. However, the second line could be something else; it's whatever you want the code to do if the current file is being run, rather than being imported. "
   ]
  },
  {
   "cell_type": "markdown",
   "metadata": {},
   "source": [
    "#### Exercise:\n",
    "\n",
    "- In the `notebooks` folder, you'll find `import_me.py` and `main_file.py`, which will help illustrate this idea.\n",
    "\n",
    "1. In your terminal, run `python3 main_file.py`. You'll see that when the `import_me` module is imported into that file, the code in `import_me` runs.\n",
    "1. Uncomment the code at the bottom of of `import_me` to prevent it from being run when it's imported. Notice that since there isn't a function called `main()` in this file, running it as the main program instead calls the `handy_function()` function.\n",
    "1. Run `python3 main_file.py` in your terminal again. This time, the code in `import_me.py` won't be run when it's imported"
   ]
  },
  {
   "cell_type": "markdown",
   "metadata": {},
   "source": [
    "The [Python standard library](https://docs.python.org/3/library/) includes many built-in modules. We look at `datetime` elsewhere in this episode. Let's take a look at another example, `random`, which returns random numbers. Open a new file in your workspace, and try this simple script to get a random integer between 1 and 100:\n"
   ]
  },
  {
   "cell_type": "code",
   "execution_count": null,
   "metadata": {},
   "outputs": [],
   "source": [
    "import random\n",
    "\n",
    "print(random.randint(1, 100))"
   ]
  },
  {
   "cell_type": "markdown",
   "metadata": {},
   "source": [
    "`random` has many application, including selecting a random value from a sequence. For example,"
   ]
  },
  {
   "cell_type": "code",
   "execution_count": null,
   "metadata": {},
   "outputs": [],
   "source": [
    "import random\n",
    "\n",
    "lottery_players = ['Jess', 'Jarret', 'Bri', 'Dylan']\n",
    "\n",
    "lottery_winner = random.choice(lottery_players)\n",
    "print(lottery_winner)"
   ]
  },
  {
   "cell_type": "markdown",
   "metadata": {},
   "source": [
    "will choose a random lottery winner from a list of names."
   ]
  },
  {
   "cell_type": "markdown",
   "metadata": {},
   "source": [
    "#### Exercise:\n",
    "\n",
    "- From this list: "
   ]
  },
  {
   "cell_type": "code",
   "execution_count": null,
   "metadata": {},
   "outputs": [],
   "source": [
    "magic_8_ball = [\n",
    "    \"it is certain\",\n",
    "    \"it is decidedly so\", \n",
    "    \"you may rely on it\",\n",
    "    \"without a doubt\"\n",
    "]"
   ]
  },
  {
   "cell_type": "markdown",
   "metadata": {},
   "source": [
    "- Use `random.choice()` to select an answer.\n",
    "- Remove that answer from the list, so it can't be picked again.\n",
    "- Choose another random answer."
   ]
  },
  {
   "cell_type": "markdown",
   "metadata": {},
   "source": [
    "### Python Packages and Libraries"
   ]
  },
  {
   "cell_type": "markdown",
   "metadata": {},
   "source": [
    "The terms 'package' and 'library' are often used interchangeably. A Python package is just a collection of related modules. A library is a collection of packages. When you install the contents of a `requirements.txt` file in your virtual environment, you're installing Python packages and libraries. The [Python Package Index](https://pypi.org/) is the best place to search for packages to install.\n",
    "\n",
    "In addition to modules, packages contain an `__init__.py` file. This file can be blank, but it has to be present or the directory won't be recognized as a package. If you're creating your own packages, make sure to include an `__init__.py`. \n",
    "\n",
    "The Python community has many libraries that will be useful to you in your data engineering career, like Matplotlib (for data visualization), Beautiful Soup (for getting data from the web), and Pandas (for data analysis). We'll get familiar with several of them over the course of this program. "
   ]
  }
 ],
 "metadata": {
  "interpreter": {
   "hash": "fd69f43f58546b570e94fd7eba7b65e6bcc7a5bbc4eab0408017d18902915d69"
  },
  "kernelspec": {
   "display_name": "Python 3.7.13 64-bit",
   "language": "python",
   "name": "python3"
  },
  "language_info": {
   "name": "python",
   "version": "3.7.13"
  },
  "orig_nbformat": 4
 },
 "nbformat": 4,
 "nbformat_minor": 2
}
