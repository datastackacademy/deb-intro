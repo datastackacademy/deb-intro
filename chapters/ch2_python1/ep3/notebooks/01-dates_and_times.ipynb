{
 "cells": [
  {
   "cell_type": "markdown",
   "metadata": {},
   "source": [
    "## Dates, times, and datetimes"
   ]
  },
  {
   "cell_type": "markdown",
   "metadata": {},
   "source": [
    "One of the most common data types you will be interacting with as a data engineer is temporal data. This can range from timestamps showing when records were created, to a date telling when a book was published, to a range of time for which a process was running. Because of the prevalence of temporal data, Python has an entire library to handle date and time data, called `datetime`. To import a python library, we just need to do the following:"
   ]
  },
  {
   "cell_type": "code",
   "execution_count": null,
   "metadata": {},
   "outputs": [],
   "source": [
    "import datetime"
   ]
  },
  {
   "cell_type": "markdown",
   "metadata": {},
   "source": [
    "Using this library, let's create our first `datetime` object using the `datetime.datetime.now()` method:"
   ]
  },
  {
   "cell_type": "code",
   "execution_count": null,
   "metadata": {},
   "outputs": [],
   "source": [
    "current_time = datetime.datetime.now()\n",
    "print(current_time)\n",
    "print(type(current_time))"
   ]
  },
  {
   "cell_type": "markdown",
   "metadata": {},
   "source": [
    "As we can see from the print statements, this creates a datetime class object with the time in the current timezone. This illustrates one of the first issues with a `datetime`: timezones. Python tends to default to the local timezone in functions, but one must always check the documentation or specify a `datetime.tzone` object to verify behavior; awareness of timezone is the first step to not being tripped up when times do not line up as expected. One important timezone for us to consider is Universal Coordinated Time or UTC. This is the standard reference timezone from which all others can be calculated as a difference. If we would like the current time in UTC, we can use the `utcnow` method of `datetime`:"
   ]
  },
  {
   "cell_type": "code",
   "execution_count": null,
   "metadata": {},
   "outputs": [],
   "source": [
    "current_time = datetime.datetime.now()\n",
    "utc_current_time = datetime.datetime.utcnow()\n",
    "print(f\"Local time is{current_time}\")\n",
    "print(f\"But UTC time is {utc_current_time}\")"
   ]
  },
  {
   "cell_type": "markdown",
   "metadata": {},
   "source": [
    "If we would like to create a `datetime` object for a specific time, we can use the `datetime.datetime()` method:"
   ]
  },
  {
   "cell_type": "code",
   "execution_count": null,
   "metadata": {},
   "outputs": [],
   "source": [
    "new_years = datetime.datetime(2021, 1, 1)\n",
    "print(new_years)"
   ]
  },
  {
   "cell_type": "markdown",
   "metadata": {},
   "source": [
    "`datetime.datetime` also has arguments for hour, minute, second, microsecond, and `tzone`. Let's create a `datetime` for 5 minute after midnight on January 1st using the kwarg `minute`:"
   ]
  },
  {
   "cell_type": "code",
   "execution_count": null,
   "metadata": {},
   "outputs": [],
   "source": [
    "new_years_and_five = datetime.datetime(2021, 1, 1, minute=5)\n",
    "print(new_years_and_five)"
   ]
  },
  {
   "cell_type": "markdown",
   "metadata": {},
   "source": [
    "Until now we've been printing the full datetime object. But we can also print specific fields which are stored as attributes of the class:"
   ]
  },
  {
   "cell_type": "code",
   "execution_count": null,
   "metadata": {},
   "outputs": [],
   "source": [
    "current_time = datetime.datetime.now()\n",
    "print(current_time.day)\n",
    "print(current_time.second)\n",
    "print(current_time.tzinfo)"
   ]
  },
  {
   "cell_type": "markdown",
   "metadata": {},
   "source": [
    "In addition to printing the specific attributes of a `datetime`, we often want to create a specific `str` representation of the time. To do this we use the `strftime()` method of a `datetime` object. This method takes a single argument, a formatting `str` with the desired output format for the date `str`. A handy reference guide for the format can be [found here](https://strftime.org/). For example, if we want to return a string with the format `month_name day, full_year` we would use the formatting `str`: `\"%B %d, %Y\"`:"
   ]
  },
  {
   "cell_type": "code",
   "execution_count": null,
   "metadata": {},
   "outputs": [],
   "source": [
    "print(current_time.strftime(\"%B %d, %Y\"))"
   ]
  },
  {
   "cell_type": "markdown",
   "metadata": {},
   "source": [
    "We can also use these formatting strings to create `datetime` objects from `str` input, a very common data engineering task. To do this, we need an input `str` and a formatting `str` telling us how to interpret the input. Let's read in a date in the same format that we just printed:"
   ]
  },
  {
   "cell_type": "code",
   "execution_count": null,
   "metadata": {},
   "outputs": [],
   "source": [
    "date_format =  \"%B %d, %Y\"\n",
    "first_of_may = datetime.datetime.strptime(\"May 1, 2020\", date_format)\n",
    "print(first_of_may, type(first_of_may))\n",
    "\n",
    "# and now let's try a different format:\n",
    "new_format = \"%Y-%m-%d %H:%M:%S\"\n",
    "feb_29 = datetime.datetime.strptime(\"2020-02-29 10:04:31\", new_format)\n",
    "print(feb_29)\n"
   ]
  },
  {
   "cell_type": "markdown",
   "metadata": {},
   "source": [
    "#### Time and Date\n",
    "In addition to the combined datetime class we've been exploring, `datetime` also has separate `time` and `date` classes which contain just the specified portions of temporal data. "
   ]
  },
  {
   "cell_type": "markdown",
   "metadata": {},
   "source": [
    "### Time deltas\n",
    "Dates and times are great for capturing when events occurred, but we often also want to know how much time passes between events. This is where the `timedelta` object comes in. The quickest way to see how these work is to simply use the `-` operator between two `datetime` objects:"
   ]
  },
  {
   "cell_type": "code",
   "execution_count": null,
   "metadata": {},
   "outputs": [],
   "source": [
    "jan_first = datetime.datetime(2021, 1, 1)\n",
    "year_so_far = datetime.datetime.now() - jan_first\n",
    "print(year_so_far)\n",
    "print(type(year_so_far))"
   ]
  },
  {
   "cell_type": "markdown",
   "metadata": {},
   "source": [
    "We can also create `timedelta` objects directly using the `datetime.timedelta` class constructor. Let's make a timedelta of 1 day and then add it to `jan_first` and see how it behaves:"
   ]
  },
  {
   "cell_type": "code",
   "execution_count": null,
   "metadata": {},
   "outputs": [],
   "source": [
    "day_delta = datetime.timedelta(days=1)\n",
    "print(day_delta, type(day_delta))\n",
    "jan_two = jan_first + day_delta\n",
    "print(jan_two, type(jan_two))\n",
    "print(jan_two + day_delta)"
   ]
  },
  {
   "cell_type": "markdown",
   "metadata": {},
   "source": [
    "As you can see, adding a `timedelta` to a `datetime` results in another `datetime` object. This behavior makes it straightforward to use `timedelta`s to increment `datetime`s.\n",
    "\n",
    "### Book datetime\n",
    "Let's put this new knowledge to use by updating our `Book` class. We can now add a published year to our `__init__()` function that can accept either a `str`, an `int`, or a `datetime` object:"
   ]
  },
  {
   "cell_type": "code",
   "execution_count": null,
   "metadata": {},
   "outputs": [],
   "source": [
    "class Book:\n",
    "    def __init__(self, title, author, genre, pub_year=None):\n",
    "        self.title = title\n",
    "        self.author = author\n",
    "        self.genre = genre\n",
    "        if isinstance(pub_year, datetime.datetime):\n",
    "            self.pub_year = pub_year\n",
    "        elif isinstance(pub_year, str):\n",
    "            self.pub_year = datetime.datetime.strptime(pub_year, \"%Y\")\n",
    "        elif isinstance(pub_year, int):\n",
    "            self.pub_year = datetime.datetime(year=pub_year, month=1, day=1)\n",
    "        else:\n",
    "            self.pub_year = pub_year\n",
    "    \n",
    "    def have_you_read(self):\n",
    "        print(f\"Have you read {self.title} by {self.author}?\")\n",
    "    \n",
    "    def was_published(self):\n",
    "        print(f\"{self.title} was published in {self.pub_year.year}\")"
   ]
  },
  {
   "cell_type": "markdown",
   "metadata": {},
   "source": [
    "We can also use our knowledge of `datetime` objects to create a subclass of `Book`, `LibraryBook` that has an attribute for when it is checked out, its due date (default loan length of 30 days), and a function that returns how long the book has been checked out for:"
   ]
  },
  {
   "cell_type": "code",
   "execution_count": null,
   "metadata": {},
   "outputs": [],
   "source": [
    "class LibraryBook(Book):\n",
    "    def __init__(self, title, author, genre, pub_year=None, checked_out=None, loan_length=None):\n",
    "        super().__init__(title, author, genre, pub_year)\n",
    "        if isinstance(checked_out, datetime.datetime):\n",
    "            self.checked_out = checked_out\n",
    "        else:\n",
    "            self.checked_out = datetime.datetime.now()\n",
    "        if isinstance(loan_length, datetime.timedelta):\n",
    "            self.due_date = self.checked_out + loan_length\n",
    "        else:\n",
    "            self.due_date = self.checked_out + datetime.timedelta(days=30)\n",
    "    def on_loan(self):\n",
    "        cur_dur = datetime.datetime.now() - self.checked_out\n",
    "        print(f\"{self.title} has been on loan for {cur_dur}\")"
   ]
  },
  {
   "cell_type": "code",
   "execution_count": null,
   "metadata": {},
   "outputs": [],
   "source": [
    "from time import sleep\n",
    "runaway_ralph = LibraryBook(\"Runaway Ralph\", \"Beverly Cleary\", \"Children's Novel\", 1970)\n",
    "runaway_ralph.have_you_read()\n",
    "runaway_ralph.was_published()\n",
    "runaway_ralph.on_loan()\n",
    "sleep(5)\n",
    "runaway_ralph.on_loan()"
   ]
  },
  {
   "cell_type": "markdown",
   "metadata": {},
   "source": [
    "Sometimes it is useful to convert a `datetime` into a number of seconds. Here's an example of how to do that. First we initialize a string containing only a time (not a date). When we convert to a datetime representation, a default date (1/1/1900) gets added automatically. To convert the original time to a number of seconds, we have to remove the date portion from `date_time`. Then, we can call `total_seconds()` on the resulting `timedelta` to get a number of seconds represented by our original time string:"
   ]
  },
  {
   "cell_type": "code",
   "execution_count": null,
   "metadata": {},
   "outputs": [],
   "source": [
    "# initialize a time string\n",
    "time_string = \"12:01:27\"\n",
    "\n",
    "# convert to datetime representation\n",
    "date_time = datetime.datetime.strptime(time_string, \"%H:%M:%S\")\n",
    "print(date_time)\n",
    "\n",
    "#remove years, months, and days so only time (not date) is left\n",
    "a_timedelta = date_time - datetime.datetime(1900, 1, 1)\n",
    "seconds = a_timedelta.total_seconds()\n",
    "print(seconds)"
   ]
  },
  {
   "cell_type": "markdown",
   "metadata": {},
   "source": [
    "#### Exercises:\n",
    "\n",
    "1. Display the following:\n",
    "    1. Current date and time\n",
    "    1. Current year\n",
    "    1. Week number of the year\n",
    "    1. Day of the month\n",
    "    1. Day of the week\n",
    "1. Write a function that accepts a string (such as `Jan 1 2020 2:43PM`) as input, and converts it to a datetime object\n",
    "1. Write a function that accepts keyword arguments for days, hours, and minutes, and adds those to the current date"
   ]
  },
  {
   "cell_type": "markdown",
   "metadata": {},
   "source": [
    "### Further Reading\n",
    "- [Python datetime docs](https://docs.python.org/3/library/datetime.html)"
   ]
  }
 ],
 "metadata": {
  "kernelspec": {
   "display_name": "Python 3.7.13 ('ch1venv': venv)",
   "language": "python",
   "name": "python3"
  },
  "language_info": {
   "codemirror_mode": {
    "name": "ipython",
    "version": 3
   },
   "file_extension": ".py",
   "mimetype": "text/x-python",
   "name": "python",
   "nbconvert_exporter": "python",
   "pygments_lexer": "ipython3",
   "version": "3.7.13"
  },
  "metadata": {
   "interpreter": {
    "hash": "51603b686d13537f1859a78d550faee8565bb562a456d83c7cf61df0765e39df"
   }
  },
  "vscode": {
   "interpreter": {
    "hash": "fa8c7aa075c19ce72a1c451928df8560ecf5abbe3bdddc8c62f61df80381fa28"
   }
  }
 },
 "nbformat": 4,
 "nbformat_minor": 4
}
