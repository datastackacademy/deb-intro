{
 "cells": [
  {
   "cell_type": "markdown",
   "metadata": {},
   "source": [
    "## Nested Lists\n",
    "\n",
    "As you learned in the lesson on lists, you can get an element of a list using its index in square brackets after the name of the list:"
   ]
  },
  {
   "cell_type": "code",
   "execution_count": null,
   "metadata": {},
   "outputs": [],
   "source": [
    "bees = [\"honey\", \"bumble\", \"mason\", \"hairy-footed flower\"]\n",
    "print(bees[0])"
   ]
  },
  {
   "cell_type": "markdown",
   "metadata": {},
   "source": [
    "#### Review Exercises:\n",
    "- Get the second item in the bee list.\n",
    "- Use negative indexing to get the last item in the bee list."
   ]
  },
  {
   "cell_type": "markdown",
   "metadata": {},
   "source": [
    "What if the items in a list are other lists? You can use multiple indexes to burrow down into the data structure:"
   ]
  },
  {
   "cell_type": "code",
   "execution_count": null,
   "metadata": {},
   "outputs": [],
   "source": [
    "pollinators = [\"bats\", [\"monarch\", \"swallowtail\"],[\"honey\", \"bumble\", \"mason\", \"hairy-footed flower\"]]\n",
    "\n",
    "monarch_butterfly = pollinators[1][0]\n",
    "print(monarch_butterfly)"
   ]
  },
  {
   "cell_type": "markdown",
   "metadata": {},
   "source": [
    "Pause and break this down:\n",
    "- First the code accesses the second item in the `pollinators` list (index 1), which is a list of butterfly names.\n",
    "- Now that we're in the list of butterflies, we want to access the first item (index 0)."
   ]
  },
  {
   "cell_type": "markdown",
   "metadata": {},
   "source": [
    "#### Exercise:\n",
    "\n",
    "- Use negative indexing to get the last item in the list of bees.\n",
    "- Get the third item from the list of bees.\n",
    "- Get the second item in the list of butterflies."
   ]
  },
  {
   "cell_type": "markdown",
   "metadata": {},
   "source": [
    "#### Challenge Exercise:\n",
    "\n",
    "- Given this list of lists of lists:"
   ]
  },
  {
   "cell_type": "code",
   "execution_count": null,
   "metadata": {},
   "outputs": [],
   "source": [
    "matryoshka_dolls = [\"pink\", \"red\", [\"blue\", [\"teal\", \"lavender\", [\"silver\", \"purple\" [\"orange\", \"yellow\"]]]]]"
   ]
  },
  {
   "cell_type": "markdown",
   "metadata": {},
   "source": [
    "- Use indexing to get the value \"lavender\".\n",
    "- Use indexing to get the value \"orange\".\n",
    "- Use indexing to get the value \"pink\".\n",
    "- Use indexing to get the value \"teal\"."
   ]
  },
  {
   "cell_type": "markdown",
   "metadata": {},
   "source": [
    "## Nested Dictionaries\n",
    "\n",
    "Recall from the lesson on dictionaries that accessing an item in a dictionary uses a similar square bracket syntax as accessing an item in a list, except that the brackets contain a key instead of an index.\n",
    "\n",
    "#### Review Exercises:\n",
    "\n",
    "- Given the following dictionary:"
   ]
  },
  {
   "cell_type": "code",
   "execution_count": null,
   "metadata": {},
   "outputs": [],
   "source": [
    "lucky = {\n",
    "    \"species\": \"dog\", \n",
    "    \"color\": \"white\", \n",
    "    \"age\": 14, \n",
    "    \"disposition\": [\"sweet\", \"rascally\"]\n",
    "    }"
   ]
  },
  {
   "cell_type": "markdown",
   "metadata": {},
   "source": [
    "- Get Lucky's age.\n",
    "- Get Lucky's color."
   ]
  },
  {
   "cell_type": "markdown",
   "metadata": {},
   "source": [
    "Just like there can be lists of lists, there can be dictionaries of dictionaries:"
   ]
  },
  {
   "cell_type": "code",
   "execution_count": null,
   "metadata": {},
   "outputs": [],
   "source": [
    "robocop = {\n",
    "        \"stats\": {\n",
    "                \"year\": 1987, \n",
    "                \"runtime_mins\": 103\n",
    "                },\n",
    "        \"cast_and_crew\": {\n",
    "                \"director\": \"Verhoeven\"\n",
    "                },\n",
    "        \"genres\": {\n",
    "                \"scifi\", \"action\"\n",
    "                }\n",
    "        }"
   ]
  },
  {
   "cell_type": "markdown",
   "metadata": {},
   "source": [
    "And, also much like lists, to tunnel down into the nested structure, use multiple square brackets with keys:"
   ]
  },
  {
   "cell_type": "code",
   "execution_count": null,
   "metadata": {},
   "outputs": [],
   "source": [
    "robo_year = robocop[\"stats\"][\"year\"]\n",
    "print(robo_year)"
   ]
  },
  {
   "cell_type": "markdown",
   "metadata": {},
   "source": [
    "#### Challenge Exercise:\n",
    "- Given the following dictionary of dictionaries of dictionaries:"
   ]
  },
  {
   "cell_type": "code",
   "execution_count": null,
   "metadata": {},
   "outputs": [],
   "source": [
    "movies = {\n",
    "    {\n",
    "        \"title\": \"moonlight\", \n",
    "        \"cast_and_crew\": {\n",
    "            \"starring\": \"rhodes\", \n",
    "            \"director\": \"jenkins\"\n",
    "            },\n",
    "        \"awards\": {\n",
    "            \"academy\": {\n",
    "                \"best picture\": 2017, \n",
    "                \"best writing\": 2017\n",
    "                }, \n",
    "            \"golden globe\": {\n",
    "                \"best motion picture\": 2017\n",
    "                }}\n",
    "    },\n",
    "    {\n",
    "        \"title\": \"everything everywhere all at once\",\n",
    "        \"stats\": {\n",
    "            \"distro\": \"a24\", \n",
    "            \"year\": 2022\n",
    "            }\n",
    "    }\n",
    "}"
   ]
  },
  {
   "cell_type": "markdown",
   "metadata": {},
   "source": [
    "- Get the title of the movie in the first dictionary.\n",
    "- Get the director of 'Moonlight'.\n",
    "- Get the distro company of 'Everything Everywhere All at Once'.\n",
    "- Get the year 'Moonlight' won Best Picture at the Academy Awards"
   ]
  },
  {
   "cell_type": "markdown",
   "metadata": {},
   "source": [
    "## Nested Lists and Dictionaries\n",
    "\n",
    "We're practiced getting values from nested lists using indexes, and we've practices getting values from nested dictionaries using keys. Now, we're going to practice using a combination of the two!\n",
    "\n",
    "There isn't anything new to learn in order to combine them; you just need to remember to use an index for a list and a key for a dictionary."
   ]
  },
  {
   "cell_type": "markdown",
   "metadata": {},
   "source": [
    "#### Exercise:\n",
    "\n",
    "- Given this lists of dictionaries of lists:"
   ]
  },
  {
   "cell_type": "code",
   "execution_count": null,
   "metadata": {},
   "outputs": [],
   "source": [
    "world_cup_2021 = [\n",
    "    {\"team\": \"Chelsea\", \"colors\": [\"blue\", \"white\"], \"nicknames\": [\"Blues\", \"Pensioners\"]},\n",
    "    {\"team\": \"Palmeiras\", \"colors\": [\"green\", \"white\"], \"players\": [\"Rony\", \"Jorge\", \"Dudu\"]},\n",
    "    {\"team\": \"Al Ahly\", \"colors\": [\"red\", \"white\", \"black\"]}\n",
    "]"
   ]
  },
  {
   "cell_type": "markdown",
   "metadata": {},
   "source": [
    "- Get the last color listed for Al Ahly.\n",
    "- Get the list of players for Palmeiras.\n",
    "- Get the first nickname listed for Chelsea."
   ]
  },
  {
   "cell_type": "markdown",
   "metadata": {},
   "source": [
    "#### Exercise:\n",
    "\n",
    "- Given this dictionary of lists of dictionaries:"
   ]
  },
  {
   "cell_type": "code",
   "execution_count": null,
   "metadata": {},
   "outputs": [],
   "source": [
    "world_cup_prior_years = {\n",
    "                        [{\"host\": \"Russia\", \"year\": 2017}, {\"champ\": \"Germany\", \"runner_up\": \"Chile\"}],\n",
    "                        [{\"host\": \"Japan\", \"year\": 2015}, {\"champ\": \"Barcelona\", \"runner_up\": \"River Plate\"}],\n",
    "                        [{\"host\": \"Japan\", \"year\": 2012}, {\"champ\": \"Corinthians\", \"runner_up\": \"Chelsea\"}]\n",
    "                    }"
   ]
  },
  {
   "cell_type": "markdown",
   "metadata": {},
   "source": [
    "- Get the host country in 2017.\n",
    "- Get the champion in 2012.\n",
    "- Get the runner-up in 2015."
   ]
  },
  {
   "cell_type": "markdown",
   "metadata": {},
   "source": [
    "#### Further Reading:\n",
    "- [Learn by Example article on nested lists](https://www.learnbyexample.org/python-nested-list/)\n",
    "- [Programiz article on nested dictionaries](https://www.programiz.com/python-programming/nested-dictionary)"
   ]
  }
 ],
 "metadata": {
  "kernelspec": {
   "display_name": "Python 3.7.13 ('ch10venv': venv)",
   "language": "python",
   "name": "python3"
  },
  "language_info": {
   "codemirror_mode": {
    "name": "ipython",
    "version": 3
   },
   "file_extension": ".py",
   "mimetype": "text/x-python",
   "name": "python",
   "nbconvert_exporter": "python",
   "pygments_lexer": "ipython3",
   "version": "3.7.13"
  },
  "orig_nbformat": 4,
  "vscode": {
   "interpreter": {
    "hash": "4b2291f42245fa81797a43fd3d1ff41a8836a844832d9152f0e755d3e981e7ad"
   }
  }
 },
 "nbformat": 4,
 "nbformat_minor": 2
}
