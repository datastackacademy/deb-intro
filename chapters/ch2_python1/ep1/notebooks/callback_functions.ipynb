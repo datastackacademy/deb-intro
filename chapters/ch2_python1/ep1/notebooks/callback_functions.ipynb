{
 "cells": [
  {
   "cell_type": "markdown",
   "metadata": {},
   "source": [
    "### Nesting Functions\n",
    "\n",
    "We can also call a function inside other functions. Let's make a function that adds two numbers if they are both even, but returns `None` if either is odd: \n"
   ]
  },
  {
   "cell_type": "code",
   "execution_count": null,
   "metadata": {},
   "outputs": [],
   "source": [
    "def add_numbers(num_1, num_2):\n",
    "    return num_1 + num_2\n",
    "\n",
    "def is_even(num):\n",
    "    if num % 2 == 0:\n",
    "        return True\n",
    "    return False\n",
    "\n",
    "def even_adder(num_1, num_2):\n",
    "    ## only add the numbers if they are both even, otherwise return None\n",
    "    if is_even(num_1) and is_even(num_2):\n",
    "        return add_numbers(num_1, num_2)\n",
    "    return None\n",
    "\n",
    "print(even_adder(1,2))\n",
    "print(even_adder(2,2))\n",
    "print(even_adder(-2,2))"
   ]
  },
  {
   "cell_type": "markdown",
   "metadata": {},
   "source": [
    "Notice that we define a function that adds two numbers together, then define another function that checks whether a number is even, then define a third function that calls the other two in its function body. The `if` statement of `even_adder()` checks whether the return values of both calls to `is_even()` return `True`."
   ]
  },
  {
   "cell_type": "markdown",
   "metadata": {},
   "source": [
    "#### Exercise:\n",
    "\n",
    "- Write a function called `is_odd()` that checks whether a number is odd.\n",
    "- Write another function that takes two numbers as arguments, uses `is_odd()` to check with both are odd, and multiplies them together if they are."
   ]
  },
  {
   "cell_type": "markdown",
   "metadata": {},
   "source": [
    "### Callback Functions\n",
    "\n",
    "A 'callback function' is a function that is passed as an argument to another function. It's like any other parameter: you know, when you're defining a function, that you'll want it to call another function, but you don't know what that inner function is yet."
   ]
  },
  {
   "cell_type": "code",
   "execution_count": null,
   "metadata": {},
   "outputs": [],
   "source": [
    "def subtract_numbers(num_1, num_2):\n",
    "    return num_1 - num_2\n",
    "\n",
    "def arithmetic(num_1, num_2, callback_func):\n",
    "    return callback_func(num_1, num_2)\n",
    "\n",
    "print(arithmetic(4, 3, add_numbers))\n",
    "print(arithmetic(4, 3, subtract_numbers))\n"
   ]
  },
  {
   "cell_type": "markdown",
   "metadata": {},
   "source": [
    "Note that `add_numbers()` and `subtract_numbers()` both take two numbers as arguments, so `arithmetic()` can pass its first two arguments to either of them. This isn't an especially helpful use case, but as your code gets more complex you'll often want your functions to have this kind of flexibility."
   ]
  },
  {
   "cell_type": "markdown",
   "metadata": {},
   "source": [
    "#### Exercise:\n",
    "\n",
    "Follow the commented instructions to complete the code below:"
   ]
  },
  {
   "cell_type": "code",
   "execution_count": null,
   "metadata": {},
   "outputs": [],
   "source": [
    "def warm_greeting(name, place):\n",
    "    return(f\"Aw, {name.upper()}! So nice to see you! I'm on my way to the {place}, would you like to join me?\")\n",
    "\n",
    "def tepid_greeting(name, place):\n",
    "    return(f\"Oh, {name}. Hi. I have to get to the {place}. Bye.\")\n",
    "\n",
    "# write a function that takes a name and a place as arguments, and the type of greeting as a callback function:\n",
    "\n",
    "# ...and call it once with each of the greeting functions:\n"
   ]
  }
 ],
 "metadata": {
  "kernelspec": {
   "display_name": "Python 3.7.13 ('ch1venv': venv)",
   "language": "python",
   "name": "python3"
  },
  "language_info": {
   "codemirror_mode": {
    "name": "ipython",
    "version": 3
   },
   "file_extension": ".py",
   "mimetype": "text/x-python",
   "name": "python",
   "nbconvert_exporter": "python",
   "pygments_lexer": "ipython3",
   "version": "3.7.13"
  },
  "orig_nbformat": 4,
  "vscode": {
   "interpreter": {
    "hash": "fa8c7aa075c19ce72a1c451928df8560ecf5abbe3bdddc8c62f61df80381fa28"
   }
  }
 },
 "nbformat": 4,
 "nbformat_minor": 2
}
