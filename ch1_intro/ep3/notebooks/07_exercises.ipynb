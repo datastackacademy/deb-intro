{
 "cells": [
  {
   "cell_type": "markdown",
   "metadata": {},
   "source": [
    "## Challenge Exercises\n",
    "\n",
    "The challenges below will give you a chance to practice your new skills using functions, flow control, and conditionals."
   ]
  },
  {
   "cell_type": "markdown",
   "metadata": {},
   "source": [
    "### Gimme a Number\n",
    "\n",
    "Prompt the user for an integer\n",
    "\n",
    "1. If the input is not an integer, give the user a warning and prompt them again\n",
    "1. Calculate the sum of all the integers from 1 to n (the number the user entered)\n",
    "1. For each number, output whether that number is even or odd"
   ]
  },
  {
   "cell_type": "markdown",
   "metadata": {},
   "source": [
    "### Many Happy Returns\n",
    "\n",
    "Write a function, `func2()`, that will accept two numbers as input and return BOTH the sum and difference of the two numbers. \n",
    "\n",
    "Hint: use a tuple as your return type."
   ]
  },
  {
   "cell_type": "markdown",
   "metadata": {},
   "source": [
    "### A Simple Game: Heads or Tails\n",
    "\n",
    "Let's use everything that we have learned to create a simple python heads or tails game! \n",
    "\n",
    "This game randomly picks flips a coin and asked the user to guess heads or tails. We flip 5 coins and every time the user gets the correct answer, we add to their score. We save all the tosses and the user guesses to be reported at the end.\n",
    "\n",
    "> **Note:** To flip a coin we use the python built-in function called `choice()` from a library called `random`. This function returns a random item from a given list. To flip a coin we can simply provide it a list with only two items: `heads` and `tails`\n",
    "\n",
    "> **Note:** `import` statement is used to _import_ and use other python modules. We can import `choice` into our Colab notebook without installing anything.\n",
    "\n",
    "Here's some basic code for the game:"
   ]
  },
  {
   "cell_type": "code",
   "execution_count": null,
   "metadata": {},
   "outputs": [],
   "source": [
    "# import the randint function to be used in our code\n",
    "from random import choice\n",
    "\n",
    "\n",
    "number_of_rounds = 5    # how many rounds to play\n",
    "tosses = []             # empty list to store all the coin tosses\n",
    "guesses = []            # empty list to store the user guesses\n",
    "score = 0               # user score\n",
    "\n",
    "for round in range(1, number_of_rounds + 1):\n",
    "  print(f\"round {round}\")\n",
    "  # flip a coin and ask for the user to guess\n",
    "  coin = choice(['heads', 'tails'])\n",
    "  guess = input(\"Heads or tails? \")\n",
    "  # append the coin toss and user's guess to be stored\n",
    "  tosses.append(coin)\n",
    "  guesses.append(guess)\n",
    "  # see if the user guessed right\n",
    "  if coin == guess:\n",
    "    print(\"Hooray! You got it right.\")\n",
    "    score = score + 1\n",
    "  else:\n",
    "    print(f\"Oops, it was {coin}\")\n",
    "\n",
    "\n",
    "# after the loop has ended\n",
    "# print the report\n",
    "print(f\"Your score is: {score}\")\n",
    "print(\"Coin tosses :\", tosses)\n",
    "print(\"Your guesses:\", guesses)"
   ]
  },
  {
   "cell_type": "markdown",
   "metadata": {},
   "source": [
    "See if you can re-create this game by yourself. Make some modifications:\n",
    "- Switch to using a `while` loop and continue the game until the user enters \"exit\"\n",
    "- Print some stats when you exit the game: number of rounds played, percentage of right choices"
   ]
  }
 ],
 "metadata": {
  "kernelspec": {
   "display_name": "Python 3.8.10 64-bit",
   "language": "python",
   "name": "python3"
  },
  "language_info": {
   "name": "python",
   "version": "3.8.10"
  },
  "orig_nbformat": 4,
  "vscode": {
   "interpreter": {
    "hash": "916dbcbb3f70747c44a77c7bcd40155683ae19c65e1c03b4aa3499c5328201f1"
   }
  }
 },
 "nbformat": 4,
 "nbformat_minor": 2
}
