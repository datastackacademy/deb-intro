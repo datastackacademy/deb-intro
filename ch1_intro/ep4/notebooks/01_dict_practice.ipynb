{
 "cells": [
  {
   "cell_type": "markdown",
   "metadata": {},
   "source": [
    "## Dictionaries Practice\n",
    "\n",
    "Below, you'll find more exercises with dictionaries. There are many possible solutions, so get creative!"
   ]
  },
  {
   "cell_type": "code",
   "execution_count": null,
   "metadata": {},
   "outputs": [],
   "source": [
    "# Use these in the exercises:\n",
    "price_dict = {\"sofa\": 80, \"roller skates\": 20, \"soccer ball\": 12, \"coffee mug\": 3, \"old shoe\": 1}\n",
    "\n",
    "recipes = {\n",
    "    \"zucchini_bread\": [\"zucchini\", \"flour\", \"eggs\"],\n",
    "    \"grilled_okra\": [\"garlic\", \"okra\", \"paprika\"],\n",
    "    \"lasagna\": [\"pasta\", \"zucchini\", \"tomato sauce\"]\n",
    "}"
   ]
  },
  {
   "cell_type": "markdown",
   "metadata": {},
   "source": [
    "#### Exercise:\n",
    "\n",
    "Print all the keys in the `price_dict` where the value is greater than 4."
   ]
  },
  {
   "cell_type": "markdown",
   "metadata": {},
   "source": [
    "#### Exercise:\n",
    "\n",
    "Write a function that can take two strings as arguments. \n",
    "- If both strings are keys in the `price_dict` dictionary, add the values together and return the sum in an f-string.\n",
    "- If one of the strings isn't a key in the `price_dict` dictionary, return an f-string letting your user know.\n"
   ]
  },
  {
   "cell_type": "markdown",
   "metadata": {},
   "source": [
    "#### Exercise:\n",
    "\n",
    "Using `range()`: \n",
    "- create a function that takes an integer as an argument\n",
    "- return a dictionary where the keys are `\"key_{number}\"` from 1 to the input number\n",
    "- all the values should be `\"val_{number}\"` from 1 to the input number\n",
    "\n",
    "For example, calling your function with an argument of 3 would return\n",
    "`{'key_1': 'val_1', 'key_2': 'val_2', 'key_3': 'val_3'}`"
   ]
  },
  {
   "cell_type": "markdown",
   "metadata": {},
   "source": [
    "#### Exercise:\n",
    "\n",
    "Add three new recipes to the `recipes` dictionary\n",
    "- each key is the name of the recipe\n",
    "- each value is a list of ingredients"
   ]
  },
  {
   "cell_type": "markdown",
   "metadata": {},
   "source": [
    "#### Exercise:\n",
    "\n",
    "When it's zucchini season, it can be hard to use all that zucchini. Print the name of the recipes in the `recipes` dictionary that have zucchini in the list of ingredients."
   ]
  }
 ],
 "metadata": {
  "kernelspec": {
   "display_name": "Python 3.8.10 64-bit",
   "language": "python",
   "name": "python3"
  },
  "language_info": {
   "name": "python",
   "version": "3.8.10"
  },
  "orig_nbformat": 4,
  "vscode": {
   "interpreter": {
    "hash": "916dbcbb3f70747c44a77c7bcd40155683ae19c65e1c03b4aa3499c5328201f1"
   }
  }
 },
 "nbformat": 4,
 "nbformat_minor": 2
}
