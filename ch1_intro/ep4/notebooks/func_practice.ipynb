{
 "cells": [
  {
   "cell_type": "markdown",
   "metadata": {},
   "source": [
    "## Function Practice\n",
    "\n",
    "Below, you'll find more exercises with functions. There are many possible solutions, so get creative!"
   ]
  },
  {
   "cell_type": "markdown",
   "metadata": {},
   "source": [
    "#### Exercise:\n",
    "\n",
    "Write a function that takes a number as an argument. Return \"Fizz\" if that number is divisible by three, \"Buzz\" if it's divisible by 5, and \"FizzBuzz\" if it's divisible by both 3 and 5."
   ]
  },
  {
   "cell_type": "markdown",
   "metadata": {},
   "source": [
    "#### Exercise:\n",
    "\n",
    "Write a function that takes a list of numbers as an argument, and returns the average of all the values in the list."
   ]
  },
  {
   "cell_type": "markdown",
   "metadata": {},
   "source": [
    "#### Exercise:\n",
    "\n",
    "Write a function that:\n",
    "\n",
    "- takes two strings as arguments\n",
    "- returns `True` if the first string is contained within the second string, and otherwise returns `False`"
   ]
  },
  {
   "cell_type": "markdown",
   "metadata": {},
   "source": [
    "#### Exercise:\n",
    "\n",
    "Write a function that:\n",
    "\n",
    "- takes two strings as arguments\n",
    "- counts the number of times the first string is contained within the second string"
   ]
  },
  {
   "cell_type": "markdown",
   "metadata": {},
   "source": [
    "#### Exercise:\n",
    "\n",
    "Write a function that:\n",
    "\n",
    "- takes two strings as arguments\n",
    "- checks whether the first string is a palindrome of the second\n",
    "> a palindrome means it's the same forwards and backwards, like the word \"racecar\"."
   ]
  }
 ],
 "metadata": {
  "kernelspec": {
   "display_name": "Python 3.8.10 64-bit",
   "language": "python",
   "name": "python3"
  },
  "language_info": {
   "name": "python",
   "version": "3.8.10"
  },
  "orig_nbformat": 4,
  "vscode": {
   "interpreter": {
    "hash": "916dbcbb3f70747c44a77c7bcd40155683ae19c65e1c03b4aa3499c5328201f1"
   }
  }
 },
 "nbformat": 4,
 "nbformat_minor": 2
}
