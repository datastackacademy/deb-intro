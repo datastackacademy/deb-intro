{
 "cells": [
  {
   "cell_type": "markdown",
   "metadata": {},
   "source": [
    "## Loop Practice\n",
    "\n",
    "Below, you'll find more exercises with loops. There are many possible solutions, so get creative!"
   ]
  },
  {
   "cell_type": "code",
   "execution_count": null,
   "metadata": {},
   "outputs": [],
   "source": [
    "# Use these in the exercises:\n",
    "dog_park = [\n",
    "    {\"name\": \"Fluffer_Nutter\", \"age\": 2},\n",
    "    {\"name\": \"Sparkles\", \"age\": 6},\n",
    "    {\"name\": \"Nolty\", \"age\": 12},\n",
    "    {\"name\": \"Ping_Pong\", \"age\": 1}\n",
    "]\n",
    "\n",
    "rabbit_hole = [\n",
    "    \"alice was not the least bit hurt. \",\n",
    "    \"she looked up, but it was all dark overhead. \",\n",
    "    \"before her was another long passage, and the \",\n",
    "    \"white Rabbit was still in sight.\"\n",
    "]"
   ]
  },
  {
   "cell_type": "markdown",
   "metadata": {},
   "source": [
    "#### Exercise:\n",
    "Print the multiplication table from one to ten. (Hint: nested loops!)"
   ]
  },
  {
   "cell_type": "markdown",
   "metadata": {},
   "source": [
    "#### Exercise:\n",
    "\n",
    "Using a `for` loop, make a list of every dog name in the `dog_park` dictionary, like this:\n",
    "\n",
    "`['Fluffer_Nutter', 'Sparkles', 'Nolty', 'Ping_Pong']`"
   ]
  },
  {
   "cell_type": "markdown",
   "metadata": {},
   "source": [
    "#### Exercise:\n",
    "\n",
    "Using a `for` loop, make a list of the name of every dog in the `dog_park` dictionary older than 3 years old."
   ]
  },
  {
   "cell_type": "markdown",
   "metadata": {},
   "source": [
    "#### Exercise:\n",
    "\n",
    "Using a `for` loop, concatenate all the sentences in the `rabbit_hole` list into one long string"
   ]
  },
  {
   "cell_type": "markdown",
   "metadata": {},
   "source": [
    "#### Exercise:\n",
    "\n",
    "```python\n",
    "team_name = \"PICKLES\"\n",
    "```\n",
    "\n",
    "Portland, Oregon's baseball team is called The Pickles. Use a `for` loop and the `team_name` variable above to print the Pickles cheer. It goes like this:\n",
    "\n",
    "Gimme a P!\n",
    "\n",
    "P!\n",
    "\n",
    "Gimme a I!\n",
    "\n",
    "I!\n",
    "\n",
    "Gimme a C!\n",
    "\n",
    "C!\n",
    "\n",
    "Gimme a K!\n",
    "\n",
    "K!\n",
    "\n",
    "Gimme a L!\n",
    "\n",
    "L!\n",
    "\n",
    "Gimme a E!\n",
    "\n",
    "E!\n",
    "\n",
    "Gimme a S!\n",
    "\n",
    "S!\n",
    "\n",
    "P-I-C-K-L-E-S\n",
    "\n",
    "What does that spell? Pickles!"
   ]
  }
 ],
 "metadata": {
  "kernelspec": {
   "display_name": "Python 3.8.10 64-bit",
   "language": "python",
   "name": "python3"
  },
  "language_info": {
   "name": "python",
   "version": "3.8.10"
  },
  "orig_nbformat": 4,
  "vscode": {
   "interpreter": {
    "hash": "916dbcbb3f70747c44a77c7bcd40155683ae19c65e1c03b4aa3499c5328201f1"
   }
  }
 },
 "nbformat": 4,
 "nbformat_minor": 2
}
