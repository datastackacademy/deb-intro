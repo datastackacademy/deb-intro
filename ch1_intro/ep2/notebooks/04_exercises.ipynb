{
 "cells": [
  {
   "cell_type": "markdown",
   "metadata": {},
   "source": [
    "## More Practice\n",
    "\n",
    "With this string:"
   ]
  },
  {
   "cell_type": "code",
   "execution_count": null,
   "metadata": {},
   "outputs": [],
   "source": [
    "zen_of_python_2 = \"  expLiciT is BetteRer than ImplIcit  \\n\""
   ]
  },
  {
   "cell_type": "markdown",
   "metadata": {},
   "source": [
    "    1) remove the leading and trailing whitespace, and the newline\n",
    "    2) make all the letter lowercase except the first letter\n",
    "    3) replace the word \"betterer\" with \"better\"\n",
    "\n",
    "With these variables:"
   ]
  },
  {
   "cell_type": "code",
   "execution_count": null,
   "metadata": {},
   "outputs": [],
   "source": [
    "genus = \"querus\"\n",
    "species = \"muehlenbergii\""
   ]
  },
  {
   "cell_type": "markdown",
   "metadata": {},
   "source": [
    "    1) capitalize the name of the genus\n",
    "    2) create a new variable called \"scientific_name\". Assign it the value of the genus and species concatenated together, with a space between\n",
    "    3) use an f-string to print a sentence saying what the scientific name is (this is the name of Chinkapin oaks, by the way)\n",
    "\n",
    "With these lists:"
   ]
  },
  {
   "cell_type": "code",
   "execution_count": null,
   "metadata": {},
   "outputs": [],
   "source": [
    "favorite_dogs = [\"Sweet_Potato\", \"Scruffles\", \"Nolty\", \"Lucky\"]\n",
    "new_dogs = [\"Larry\", \"Toaster\", \"Dr_Dog\"]"
   ]
  },
  {
   "cell_type": "markdown",
   "metadata": {},
   "source": [
    "    1) remove the last dog from the `new_dogs` list\n",
    "    2) combine the two lists\n",
    "    3) add a new dog to the combined list\n",
    "    4) check whether \"Sweet_Potato\" is in the list\n",
    "    5) slice the list so it only includes the second, third, and fourth dogs\n",
    "\n",
    "Given the following list: "
   ]
  },
  {
   "cell_type": "code",
   "execution_count": null,
   "metadata": {},
   "outputs": [],
   "source": [
    "my_list = [5, 10, 15, 20, 25, 30, 35, 40, 45]"
   ]
  },
  {
   "cell_type": "markdown",
   "metadata": {},
   "source": [
    "    1. output every other element in the list, starting with the first element\n",
    "    1. print the list in reverse\n",
    "    1. Append the number 50 to the right side of the list; append the number 0 to the left side\n",
    "    1. Starting from the third list element (15), print the next four elements in the list\n",
    "\n",
    "\n",
    "With this dictionary:"
   ]
  },
  {
   "cell_type": "code",
   "execution_count": null,
   "metadata": {},
   "outputs": [],
   "source": [
    "piece_values = {\"knight\": 3, \"bishop\": 3, \"rook\": 5, \"queen\": 9}"
   ]
  },
  {
   "cell_type": "markdown",
   "metadata": {},
   "source": [
    "    1) get the value of a bishop\n",
    "    2) add a new key-value pair that has \"pawn\" as the key, and 1 as the value\n",
    "    3) use `pop()` to remove a key of \"horse\" if \"horse\" is in the dictionary, and return a value of None if it isn't\n",
    "    4) get the length of the dictionary\n",
    "    5) show all the keys in the `piece_values` dictionary, then all the values\n",
    "    6) check whether 8 is a value in the dict\n",
    "    7) bonus: use arithmetic to sum the value of a knight and two rooks\n",
    "\n",
    "Given the following lists:"
   ]
  },
  {
   "cell_type": "code",
   "execution_count": null,
   "metadata": {},
   "outputs": [],
   "source": [
    "keys = [10,20,30,40,50]\n",
    "values = ['Ten', 'Twenty', 'Thirty', 'Forty', 'Fifty']"
   ]
  },
  {
   "cell_type": "markdown",
   "metadata": {},
   "source": [
    "    Convert the lists to a dictionary where the keys are items from the first list, and the values are items from the second.\n",
    "\n",
    "    Hint: First check if the two list have equal length. Use a `for` loop with `range()` to traverse the list and create your dict.\n",
    "\n",
    "Given the following dictionaries"
   ]
  },
  {
   "cell_type": "code",
   "execution_count": null,
   "metadata": {},
   "outputs": [],
   "source": [
    "dict1={1: 10, 2: 20}\n",
    "dict2={3: 30, 4: 40}\n",
    "dict3={5: 50, 6: 60}"
   ]
  },
  {
   "cell_type": "markdown",
   "metadata": {},
   "source": [
    "    Concatenate them into a new dictionary called `dict4`."
   ]
  }
 ],
 "metadata": {
  "kernelspec": {
   "display_name": "Python 3.8.10 64-bit",
   "language": "python",
   "name": "python3"
  },
  "language_info": {
   "name": "python",
   "version": "3.8.10"
  },
  "orig_nbformat": 4,
  "vscode": {
   "interpreter": {
    "hash": "916dbcbb3f70747c44a77c7bcd40155683ae19c65e1c03b4aa3499c5328201f1"
   }
  }
 },
 "nbformat": 4,
 "nbformat_minor": 2
}
