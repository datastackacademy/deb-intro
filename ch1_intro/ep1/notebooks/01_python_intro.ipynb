{
  "cells": [
    {
      "cell_type": "markdown",
      "metadata": {
        "id": "mzB8UIJY5nfQ"
      },
      "source": [
        "# Basic Python\n",
        "\n",
        "## What's Covered\n",
        "\n",
        "This **notebook** will discuss a number of basic Python topics:\n",
        "\n",
        "- Working with **notebooks**\n",
        "- Variable assignment\n",
        "- Python white spaces\n",
        "- `print` function\n",
        "\n",
        "**Takeaway goals**:\n",
        "\n",
        "This is a gentle intro to get you comfortable with reading, writing, and editing python code. Soon, you will be able to speak the language of \"da machine\"! 😉"
      ]
    },
    {
      "cell_type": "markdown",
      "metadata": {
        "id": "s6PelEam5nfa"
      },
      "source": [
        "## Notebooks\n",
        "\n",
        "What are notebooks? Well, you're in one now! They are an interactive way to write Python code. They consist of *markdown* cells like this one which display formatted text as instructions **and** *code* cells which run Python code! If you click on the **run** button on the code cell bellow, it will run the code in the cell.\n",
        "\n",
        "Hover over the code cell below and click the _run_ icon:"
      ]
    },
    {
      "cell_type": "code",
      "execution_count": null,
      "metadata": {
        "id": "66dnFUDJ8dw2"
      },
      "outputs": [],
      "source": [
        "# This is an execution cell! It runs code like the following\n",
        "2 + 5"
      ]
    },
    {
      "cell_type": "markdown",
      "metadata": {
        "id": "EEpaT-Kr86wM"
      },
      "source": [
        "Go ahead! Take it for a spin. Edit the numbers in the code cell above and run it again.\n",
        "\n",
        "You can also edit the markdown cells (like this one). Just double click the cell and you'll see that you can edit its content. "
      ]
    },
    {
      "cell_type": "markdown",
      "metadata": {
        "id": "dxNwXiAU5nfk"
      },
      "source": [
        "## Variable assignments\n",
        "\n",
        "In Python, a 'variable' is a label put on an object. Here, 'object' means a collection of data, like text, a list, or a number. When assigning a variable, the name of the variable (the label) goes on the left side of an 'equal' sign, and the value of the variable (the object it's assigned to) goes on the right side, like this:\n",
        "\n",
        "```python\n",
        "label = \"some object\"\n",
        "```\n",
        "Notice that the name of the variable isn't in quotes, but the text object it's assigned to is. \n",
        "> Text in quotes is called a 'string'. More on this soon.\n",
        "\n",
        "Unlike C++, Java, and many other languages, Python has no way of declaring a variable separately from assigning a value. Variables are created when they are assigned a value (typically using the `=` operator). Walk through the code cells below for more practice."
      ]
    },
    {
      "cell_type": "code",
      "execution_count": null,
      "metadata": {
        "id": "-CPBD5nn5nfk"
      },
      "outputs": [],
      "source": [
        "# Assign a single variable\n",
        "x = 5\n",
        "y = 10\n",
        "\n",
        "# Multiple assignment in one line\n",
        "# here x gets asssigned to 1, y to 2, and z to 3\n",
        "x, y, z = 1, 2, 3\n",
        "\n",
        "# add the variables together and store them into another variable called s\n",
        "s = x + y + z\n",
        "\n",
        "# show the values\n",
        "print(x, y, z, s)"
      ]
    },
    {
      "cell_type": "markdown",
      "metadata": {
        "id": "8JSrk0bb5nfl"
      },
      "source": [
        "In the second pair of examples, notice that Python allows us to declare multiple variables with a single assignment statement. This is one of the many ways in which Python gives you, the programmer, a degree of flexibility and expressiveness not found in other languages.\n",
        "\n",
        "**Exercise:**\n"
      ]
    },
    {
      "cell_type": "code",
      "execution_count": null,
      "metadata": {
        "id": "vgZSOt3X5nfl"
      },
      "outputs": [],
      "source": [
        "# Assign the variable my_num the value 2\n",
        "\n",
        "# Create another variable called my_other_num with the value of 7\n",
        "# then add my_num to my_other_num into a variable called num_summary\n",
        "\n",
        "# Assign the variable summy the sum of the first 4 even numbers\n",
        "\n",
        "\n",
        "# print all the variables"
      ]
    },
    {
      "cell_type": "markdown",
      "metadata": {
        "id": "wpi7n2jA5nfb"
      },
      "source": [
        "## Python white space\n",
        "\n",
        "Python's syntax is unique among programming languages in its use of white space. In Python, whitespace is used in two ways:\n",
        "- newlines terminate logical lines\n",
        "- changes in indentation delimit code blocks"
      ]
    },
    {
      "cell_type": "code",
      "execution_count": null,
      "metadata": {
        "id": "rsKPhZqC5nfc"
      },
      "outputs": [],
      "source": [
        "# Two logical lines\n",
        "x = 1\n",
        "y = 2\n",
        "\n",
        "# Typically each line of code contains a single statement\n",
        "# If you like to break up an statement into multiple lines you must \n",
        "# escape the lines with backslash (\\) or wrap them in parentheses\n",
        "# as shown by the examples below\n",
        "\n",
        "# One logical statement escaped with backslash\n",
        "x = 1 + \\\n",
        "    2\n",
        "\n",
        "# One logical statement, this time escaped by a newline within parentheses\n",
        "x = (1 + \n",
        "    2)\n",
        "\n",
        "# display the current value for x and y in this code cell\n",
        "x, y"
      ]
    },
    {
      "cell_type": "markdown",
      "metadata": {
        "id": "BA1gYTadaZE3"
      },
      "source": [
        "If you try to run the code below, you will get your very first python **exception** (or error). This is beccause the code below is not written correctly and it has _syntax errors_.  \n",
        "\n",
        "**Note**: when you run code with execptions, python is nice enough to let you know exactly what and where is the problem. Go ahead run the code first and you'll see that the error message shows you exactly what's wrong.\n",
        "\n",
        "See if you can modify the code so that it runs correctly."
      ]
    },
    {
      "cell_type": "code",
      "execution_count": null,
      "metadata": {
        "id": "E2-MJTA65nff"
      },
      "outputs": [],
      "source": [
        "# Assign the variables a and b by using line breaks:\n",
        "a = 0 b = 3\n",
        "\n",
        "# assign z a sum value using 1 or 2 lines:\n",
        "z = 34 +\n",
        "6"
      ]
    },
    {
      "cell_type": "markdown",
      "metadata": {
        "id": "jJ-lAdsT5nfg"
      },
      "source": [
        "Code blocks in Python are delimited by **indentation**. Indentation is used to nest code under other code. That's kind of how coding works, things are nested inside other things kind of like the Russian nesting dolls. Python uses **white space** for this like spaces and tabs. This is so nice since you can actually see the code nested. Other languages use the curly brackets {} for this which is much harder to visualize.\n",
        "\n",
        "Let's see how that works (don't worry about *what* each line is doing, we'll get to that soon):"
      ]
    },
    {
      "cell_type": "code",
      "execution_count": null,
      "metadata": {
        "id": "EDCwicbe5nfg"
      },
      "outputs": [],
      "source": [
        "# Indentation with tabs\n",
        "for i in range(0, 10):  # loop through the range of numbers between 0 and 10, and store the number in a variable called i\n",
        "    if i % 2 == 1:      # if the remainder of the number divided by 2 equals to 1\n",
        "        print(i)        # print the number. aka: print odd numbers\n",
        "\n",
        "# you can see how each line of the code is nested under the line above it.\n",
        "\n",
        "# Indentation with 4 spaces\n",
        "# the same code but printing even numbers now\n",
        "for i in range(0, 10):\n",
        "    if i % 2 == 0:\n",
        "        print(i)"
      ]
    },
    {
      "cell_type": "markdown",
      "metadata": {
        "id": "Gs-lMYk1qA-b"
      },
      "source": [
        "See the very helpful [Python Style Guide](https://www.python.org/dev/peps/pep-0008/) for more details on this and other related topics. As noted in that guide, spaces are the preferred indentation method. Relationships have been broken up based on the spaces vs. tabs argument :) Whichever you use, make sure to keep your indentation consistent.\n",
        "\n",
        "<br>"
      ]
    },
    {
      "cell_type": "markdown",
      "metadata": {},
      "source": [
        "#### Exercise:\n",
        "Fix the indentation on the code blocks below so they run without errors."
      ]
    },
    {
      "cell_type": "code",
      "execution_count": null,
      "metadata": {},
      "outputs": [],
      "source": [
        "# Fix me!\n",
        "y = 3 + \n",
        "6\n"
      ]
    },
    {
      "cell_type": "code",
      "execution_count": null,
      "metadata": {},
      "outputs": [],
      "source": [
        "for i in range(5):\n",
        "print(i)"
      ]
    },
    {
      "cell_type": "markdown",
      "metadata": {
        "id": "4aUSuqbn5nfh"
      },
      "source": [
        "\n",
        "## Comments\n",
        "\n",
        "Comments allow you to add information to your code that is not just the parts being executed. In Python, a comment starts with an `#` and anything following is not executed when your script is run. Commenting your code is very important, other people (and you) can easily understand what your code is doing. Something that seems obvious to you might not be obvious to someone else, so providing clear explanations in your comments is very important. And this can even help you when you are looking at your own code. There will be times when you have to revisit code you have not looked at in months or years, and you might have forgotten why you did what you did.\n",
        "\n",
        "Here are some basic examples:"
      ]
    },
    {
      "cell_type": "code",
      "execution_count": null,
      "metadata": {
        "id": "_2gqf5jP5nfi"
      },
      "outputs": [],
      "source": [
        "# This is a comment\n",
        "\n",
        "print(\"Some output\") # Comments can go at the end of lines, too"
      ]
    },
    {
      "cell_type": "markdown",
      "metadata": {},
      "source": [
        "#### Exercise:\n",
        "In the code cells below, make everything that's not executable code into a comment."
      ]
    },
    {
      "cell_type": "code",
      "execution_count": null,
      "metadata": {},
      "outputs": [],
      "source": [
        "make me a comment!\n",
        "\n",
        "print(\"hello\")"
      ]
    },
    {
      "cell_type": "code",
      "execution_count": null,
      "metadata": {},
      "outputs": [],
      "source": [
        "q = 3 this should be a comment, too"
      ]
    },
    {
      "cell_type": "markdown",
      "metadata": {
        "id": "rC7jAfk65nfj"
      },
      "source": [
        "For more details on best practices when commenting in Python, see this [Guide To Writing Comments in Python](https://realpython.com/python-comments-guide/)."
      ]
    },
    {
      "cell_type": "markdown",
      "metadata": {
        "id": "i2lViUNd5nfn"
      },
      "source": [
        "## The print() and input() functions\n",
        "\n",
        "One of the most commonly used functions in python is `print()`. Whatever's being printed will show in your terminal if you're running a `.py` Python file, or under the code cell if you're in a notebook. Printing is useful for checking that your code is working like you expect it to. \n",
        "Here are a few of the most common usages:"
      ]
    },
    {
      "cell_type": "code",
      "execution_count": null,
      "metadata": {
        "id": "C7nlxC7q5nfo"
      },
      "outputs": [],
      "source": [
        "# print a string (text)\n",
        "print(\"Hello World!\")\n",
        "\n",
        "# print the content of a variable\n",
        "number = 5 \n",
        "print(\"number is:\")\n",
        "print(number)\n",
        "\n",
        "name = \"Frankenstein\"\n",
        "print(\"name is:\")\n",
        "print(name)\n",
        "\n",
        "# print content of multiple values at the same time\n",
        "print(\"Two variables at the same time:\")\n",
        "print(number, name)\n",
        "\n",
        "# using curly brackets inside a string. This is called f-string since we start \n",
        "# the text string with f\"\"\n",
        "name = \"Alex\" \n",
        "age = 26\n",
        "print(f\"My name is {name}, and I am {age} years old.\")\n",
        "\n",
        "# pay attention: we started the string with f\"...\"\n",
        "# this allows us to print variables inside that string (text)\n",
        "# by wrapping them in curly brackets"
      ]
    },
    {
      "cell_type": "markdown",
      "metadata": {
        "id": "kJgf2jUzrwe8"
      },
      "source": [
        "**Exercise:** \n",
        "\n",
        "Complete the code below."
      ]
    },
    {
      "cell_type": "code",
      "execution_count": null,
      "metadata": {
        "id": "92yR7-PTr9Ii"
      },
      "outputs": [],
      "source": [
        "# asign variables\n",
        "a = 55\n",
        "b = 32\n",
        "\n",
        "# print both these values\n",
        "\n",
        "\n",
        "# print these two values in a sentence using f-string.\n",
        "# printed message should look something like: \"the value for a is 55 and the value for b is 32\"\n"
      ]
    },
    {
      "cell_type": "code",
      "execution_count": null,
      "metadata": {},
      "outputs": [],
      "source": [
        "# assign this variable to a string containing the day of the week\n",
        "day_of_week = \n",
        "\n",
        "# print the value of day_of_week in a sentence using an f-string\n",
        "# the printed message should look something like: \"Today is Monday\""
      ]
    },
    {
      "cell_type": "markdown",
      "metadata": {
        "id": "nf68baRYHDGr"
      },
      "source": [
        "Another important function is `input()`. This function asks the user to input a value into your code. You can assign the user input to a variable:"
      ]
    },
    {
      "cell_type": "code",
      "execution_count": null,
      "metadata": {
        "id": "l0dW0ll3HPha"
      },
      "outputs": [],
      "source": [
        "# ask the user to input a number and assign it to a variable\n",
        "# in this notebook, you'll see a pop-up window at the top\n",
        "# enter a number in the window and hit 'enter'\n",
        "\n",
        "user_input = input(\"Please enter a number: \")\n",
        "print(f\"you entered: {user_input}\")"
      ]
    },
    {
      "cell_type": "markdown",
      "metadata": {
        "id": "q3e3bXRmIQs1"
      },
      "source": [
        "**Exercise**:"
      ]
    },
    {
      "cell_type": "code",
      "execution_count": null,
      "metadata": {
        "id": "r-2MjVTwITgW"
      },
      "outputs": [],
      "source": [
        "# ask the user to enter their name\n",
        "\n",
        "# use an f-string to greet them by printing their name and saying hi"
      ]
    },
    {
      "cell_type": "markdown",
      "metadata": {},
      "source": [
        "# Further Reading\n",
        "\n",
        "If you have more time, you can complete the following additional readings/exercise:\n",
        "\n",
        "- Kaggle [Hello Python](https://www.kaggle.com/code/colinmorris/hello-python) tutorial\n",
        "- [Python Introduction](https://www.programiz.com/python-programming/first-program) section of Programiz tutorial\n",
        "\n",
        "## References\n",
        "\n",
        "### Python Tutorials\n",
        "- [Kaggle Interactive Tutorials](https://www.kaggle.com/learn/python)\n",
        "- [Programiz Tutorials and Examples](https://www.programiz.com/python-programming)\n",
        "\n",
        "### Python\n",
        "- [Python data types](https://docs.python.org/3/library/stdtypes.html)\n",
        "- [Python standard library reference](https://docs.python.org/3/library/)\n",
        "- [Python Style Guide](https://www.python.org/dev/peps/pep-0008/)\n",
        "- [Python naming conventions (brief)](https://visualgit.readthedocs.io/en/latest/pages/naming_convention.html)\n",
        "- [Guide to the print() function](https://realpython.com/python-print/)\n",
        "- [The Python Tutorial](https://docs.python.org/3/tutorial/#the-python-tutorial)"
      ]
    }
  ],
  "metadata": {
    "colab": {
      "collapsed_sections": [
        "hJ8aeidQ0XhQ",
        "EEpaT-Kr86wM",
        "-3FyAIEg5nfo",
        "3-CBVzXF5nfx",
        "1zlqevdc5nf4"
      ],
      "name": "original-01-python.ipynb",
      "provenance": []
    },
    "kernelspec": {
      "display_name": "Python 3.7.13 ('ch1venv': venv)",
      "language": "python",
      "name": "python3"
    },
    "language_info": {
      "codemirror_mode": {
        "name": "ipython",
        "version": 3
      },
      "file_extension": ".py",
      "mimetype": "text/x-python",
      "name": "python",
      "nbconvert_exporter": "python",
      "pygments_lexer": "ipython3",
      "version": "3.7.13"
    },
    "orig_nbformat": 2,
    "vscode": {
      "interpreter": {
        "hash": "fa8c7aa075c19ce72a1c451928df8560ecf5abbe3bdddc8c62f61df80381fa28"
      }
    }
  },
  "nbformat": 4,
  "nbformat_minor": 0
}
